{
 "cells": [
  {
   "cell_type": "code",
   "execution_count": 1,
   "metadata": {
    "id": "jHNToznB7Igk"
   },
   "outputs": [],
   "source": [
    "import pandas as pd\n",
    "import sqlite3\n",
    "import numpy as np\n",
    "import matplotlib.pyplot as plt\n",
    "import seaborn as sns\n",
    "from sklearn.linear_model import Ridge\n",
    "from sklearn.model_selection import GridSearchCV, train_test_split\n",
    "from sklearn.metrics import mean_squared_error, r2_score\n",
    "import warnings\n",
    "warnings.filterwarnings('ignore')\n",
    "from sklearn.exceptions import ConvergenceWarning\n",
    "warnings.filterwarnings(\"ignore\", category=ConvergenceWarning)"
   ]
  },
  {
   "cell_type": "code",
   "execution_count": 2,
   "metadata": {
    "id": "GrHWHgk27Igm"
   },
   "outputs": [],
   "source": [
    "##Import the modules\n",
    "import pandas as pd\n",
    "import numpy as np\n",
    "from sklearn.model_selection import train_test_split\n",
    "from sklearn import metrics\n",
    "from sklearn.model_selection import cross_val_score\n",
    "from sklearn.metrics import mean_squared_error\n",
    "from sklearn import preprocessing\n",
    "import matplotlib.pyplot as plt\n",
    "#-----------------------------------------------------##\n",
    "from sklearn.linear_model import LinearRegression\n",
    "from sklearn.linear_model import Ridge\n",
    "from sklearn.linear_model import Lasso\n",
    "from sklearn.kernel_ridge import KernelRidge\n",
    "from sklearn import ensemble\n",
    "from sklearn.ensemble import GradientBoostingRegressor\n",
    "from sklearn.gaussian_process import GaussianProcessRegressor\n",
    "from sklearn.ensemble import RandomForestRegressor\n",
    "from sklearn.gaussian_process.kernels import RBF, ConstantKernel as C\n",
    "from sklearn.gaussian_process.kernels import DotProduct, WhiteKernel\n",
    "from sklearn.gaussian_process.kernels import DotProduct, WhiteKernel, Matern"
   ]
  },
  {
   "cell_type": "code",
   "execution_count": 3,
   "metadata": {
    "id": "7nwqsQW77Ign"
   },
   "outputs": [],
   "source": [
    "import pandas as pd\n",
    "import numpy as np\n",
    "from sklearn.model_selection import train_test_split\n",
    "from sklearn import metrics\n",
    "from sklearn.model_selection import cross_val_score\n",
    "from sklearn.metrics import mean_squared_error\n",
    "from sklearn import preprocessing\n",
    "import matplotlib.pyplot as plt\n",
    "import pandas as pd\n",
    "import matplotlib.pyplot as plt\n",
    "import numpy as np\n",
    "from scipy import stats\n",
    "import seaborn as sns\n",
    "from scipy.stats import norm\n",
    "from scipy.stats import skew,kurtosis"
   ]
  },
  {
   "cell_type": "code",
   "execution_count": 5,
   "metadata": {
    "colab": {
     "base_uri": "https://localhost:8080/",
     "height": 132
    },
    "id": "v09g1iaR8pDf",
    "outputId": "a7b21735-f3d3-4cf0-a437-d48087b750c1"
   },
   "outputs": [
    {
     "data": {
      "application/vnd.google.colaboratory.intrinsic+json": {
       "summary": "{\n  \"name\": \"Descriptor\",\n  \"rows\": 92,\n  \"fields\": [\n    {\n      \"column\": \"compound\",\n      \"properties\": {\n        \"dtype\": \"category\",\n        \"num_unique_values\": 37,\n        \"samples\": [\n          \"CdGeAs2  \",\n          \"AlInAs2  \",\n          \"AlGaP2  \"\n        ],\n        \"semantic_type\": \"\",\n        \"description\": \"\"\n      }\n    },\n    {\n      \"column\": \"BandGap\",\n      \"properties\": {\n        \"dtype\": \"number\",\n        \"std\": 1.167324904178742,\n        \"min\": 0.02,\n        \"max\": 4.63,\n        \"num_unique_values\": 75,\n        \"samples\": [\n          4.63,\n          1.29,\n          2.47\n        ],\n        \"semantic_type\": \"\",\n        \"description\": \"\"\n      }\n    },\n    {\n      \"column\": \"Volume\",\n      \"properties\": {\n        \"dtype\": \"number\",\n        \"std\": 100.04026529797228,\n        \"min\": 164.13,\n        \"max\": 544.54,\n        \"num_unique_values\": 90,\n        \"samples\": [\n          379.43,\n          316.85,\n          355.55\n        ],\n        \"semantic_type\": \"\",\n        \"description\": \"\"\n      }\n    },\n    {\n      \"column\": \"vand_rad_Avg\",\n      \"properties\": {\n        \"dtype\": \"number\",\n        \"std\": 6.190363471109215,\n        \"min\": 168.0,\n        \"max\": 193.67,\n        \"num_unique_values\": 27,\n        \"samples\": [\n          176.67,\n          188.33,\n          174.67\n        ],\n        \"semantic_type\": \"\",\n        \"description\": \"\"\n      }\n    },\n    {\n      \"column\": \"vand_rad_Min\",\n      \"properties\": {\n        \"dtype\": \"number\",\n        \"std\": 15,\n        \"min\": 139,\n        \"max\": 185,\n        \"num_unique_values\": 6,\n        \"samples\": [\n          139,\n          155,\n          158\n        ],\n        \"semantic_type\": \"\",\n        \"description\": \"\"\n      }\n    },\n    {\n      \"column\": \"vand_rad_Max\",\n      \"properties\": {\n        \"dtype\": \"number\",\n        \"std\": 10,\n        \"min\": 187,\n        \"max\": 217,\n        \"num_unique_values\": 5,\n        \"samples\": [\n          187,\n          217,\n          210\n        ],\n        \"semantic_type\": \"\",\n        \"description\": \"\"\n      }\n    },\n    {\n      \"column\": \"cov_rad_Avg\",\n      \"properties\": {\n        \"dtype\": \"number\",\n        \"std\": 9.10177315527009,\n        \"min\": 101.33,\n        \"max\": 140.67,\n        \"num_unique_values\": 29,\n        \"samples\": [\n          133.33,\n          117.33,\n          127.67\n        ],\n        \"semantic_type\": \"\",\n        \"description\": \"\"\n      }\n    },\n    {\n      \"column\": \"cov_rad_Min\",\n      \"properties\": {\n        \"dtype\": \"number\",\n        \"std\": 20,\n        \"min\": 71,\n        \"max\": 139,\n        \"num_unique_values\": 7,\n        \"samples\": [\n          71,\n          119,\n          122\n        ],\n        \"semantic_type\": \"\",\n        \"description\": \"\"\n      }\n    },\n    {\n      \"column\": \"cov_rad_Max\",\n      \"properties\": {\n        \"dtype\": \"number\",\n        \"std\": 9,\n        \"min\": 122,\n        \"max\": 144,\n        \"num_unique_values\": 4,\n        \"samples\": [\n          142,\n          139,\n          122\n        ],\n        \"semantic_type\": \"\",\n        \"description\": \"\"\n      }\n    },\n    {\n      \"column\": \"atom_rad_Avg\",\n      \"properties\": {\n        \"dtype\": \"number\",\n        \"std\": 10.307375969609431,\n        \"min\": 103.33,\n        \"max\": 148.33,\n        \"num_unique_values\": 21,\n        \"samples\": [\n          108.33,\n          136.67,\n          138.33\n        ],\n        \"semantic_type\": \"\",\n        \"description\": \"\"\n      }\n    },\n    {\n      \"column\": \"atom_rad_Min\",\n      \"properties\": {\n        \"dtype\": \"number\",\n        \"std\": 23,\n        \"min\": 65,\n        \"max\": 145,\n        \"num_unique_values\": 7,\n        \"samples\": [\n          65,\n          115,\n          135\n        ],\n        \"semantic_type\": \"\",\n        \"description\": \"\"\n      }\n    },\n    {\n      \"column\": \"atom_rad_Max\",\n      \"properties\": {\n        \"dtype\": \"number\",\n        \"std\": 9,\n        \"min\": 130,\n        \"max\": 155,\n        \"num_unique_values\": 4,\n        \"samples\": [\n          130,\n          145,\n          135\n        ],\n        \"semantic_type\": \"\",\n        \"description\": \"\"\n      }\n    },\n    {\n      \"column\": \"density_Avg\",\n      \"properties\": {\n        \"dtype\": \"number\",\n        \"std\": 1.1612169002563622,\n        \"min\": 3.14,\n        \"max\": 7.55,\n        \"num_unique_values\": 33,\n        \"samples\": [\n          7.04,\n          6.57,\n          7.23\n        ],\n        \"semantic_type\": \"\",\n        \"description\": \"\"\n      }\n    },\n    {\n      \"column\": \"density_Min\",\n      \"properties\": {\n        \"dtype\": \"number\",\n        \"std\": 1.9653831951247902,\n        \"min\": 0.81,\n        \"max\": 6.69,\n        \"num_unique_values\": 7,\n        \"samples\": [\n          0.81,\n          2.7,\n          5.32\n        ],\n        \"semantic_type\": \"\",\n        \"description\": \"\"\n      }\n    },\n    {\n      \"column\": \"density_Max\",\n      \"properties\": {\n        \"dtype\": \"number\",\n        \"std\": 0.8708268308488923,\n        \"min\": 5.91,\n        \"max\": 8.65,\n        \"num_unique_values\": 4,\n        \"samples\": [\n          5.91,\n          8.65,\n          7.13\n        ],\n        \"semantic_type\": \"\",\n        \"description\": \"\"\n      }\n    },\n    {\n      \"column\": \"d001\",\n      \"properties\": {\n        \"dtype\": \"number\",\n        \"std\": 6.704494973641135,\n        \"min\": 12.642680910317038,\n        \"max\": 39.24015643209684,\n        \"num_unique_values\": 90,\n        \"samples\": [\n          21.11601381376486,\n          23.566561664555625,\n          22.02720370990477\n        ],\n        \"semantic_type\": \"\",\n        \"description\": \"\"\n      }\n    },\n    {\n      \"column\": \"d002\",\n      \"properties\": {\n        \"dtype\": \"number\",\n        \"std\": 3272.9875280313727,\n        \"min\": -15755.612428769402,\n        \"max\": 1152.7615372958624,\n        \"num_unique_values\": 33,\n        \"samples\": [\n          -2746.0396722407504,\n          -2333.3074433047373,\n          -1335.7623615970035\n        ],\n        \"semantic_type\": \"\",\n        \"description\": \"\"\n      }\n    },\n    {\n      \"column\": \"d003\",\n      \"properties\": {\n        \"dtype\": \"number\",\n        \"std\": 0.0046574736443184194,\n        \"min\": -0.0179615407234682,\n        \"max\": 0.0080560060265947,\n        \"num_unique_values\": 33,\n        \"samples\": [\n          0.0001010526600067,\n          -0.0010539830166441,\n          0.0001359326197279\n        ],\n        \"semantic_type\": \"\",\n        \"description\": \"\"\n      }\n    },\n    {\n      \"column\": \"bandgap_SISSO\",\n      \"properties\": {\n        \"dtype\": \"number\",\n        \"std\": 1.124524124736842,\n        \"min\": 0.0382003650737914,\n        \"max\": 4.674205478919096,\n        \"num_unique_values\": 90,\n        \"samples\": [\n          1.2357540345474052,\n          1.5671699431750823,\n          1.469889836450639\n        ],\n        \"semantic_type\": \"\",\n        \"description\": \"\"\n      }\n    }\n  ]\n}",
       "type": "dataframe",
       "variable_name": "Descriptor"
      },
      "text/html": [
       "\n",
       "  <div id=\"df-b48ffecd-38a0-4e0e-a7c4-9b9cdceae270\" class=\"colab-df-container\">\n",
       "    <div>\n",
       "<style scoped>\n",
       "    .dataframe tbody tr th:only-of-type {\n",
       "        vertical-align: middle;\n",
       "    }\n",
       "\n",
       "    .dataframe tbody tr th {\n",
       "        vertical-align: top;\n",
       "    }\n",
       "\n",
       "    .dataframe thead th {\n",
       "        text-align: right;\n",
       "    }\n",
       "</style>\n",
       "<table border=\"1\" class=\"dataframe\">\n",
       "  <thead>\n",
       "    <tr style=\"text-align: right;\">\n",
       "      <th></th>\n",
       "      <th>compound</th>\n",
       "      <th>BandGap</th>\n",
       "      <th>Volume</th>\n",
       "      <th>vand_rad_Avg</th>\n",
       "      <th>vand_rad_Min</th>\n",
       "      <th>vand_rad_Max</th>\n",
       "      <th>cov_rad_Avg</th>\n",
       "      <th>cov_rad_Min</th>\n",
       "      <th>cov_rad_Max</th>\n",
       "      <th>atom_rad_Avg</th>\n",
       "      <th>atom_rad_Min</th>\n",
       "      <th>atom_rad_Max</th>\n",
       "      <th>density_Avg</th>\n",
       "      <th>density_Min</th>\n",
       "      <th>density_Max</th>\n",
       "      <th>d001</th>\n",
       "      <th>d002</th>\n",
       "      <th>d003</th>\n",
       "      <th>bandgap_SISSO</th>\n",
       "    </tr>\n",
       "  </thead>\n",
       "  <tbody>\n",
       "    <tr>\n",
       "      <th>0</th>\n",
       "      <td>ZnGeN2</td>\n",
       "      <td>2.44</td>\n",
       "      <td>181.39</td>\n",
       "      <td>168.33</td>\n",
       "      <td>139</td>\n",
       "      <td>211</td>\n",
       "      <td>104.33</td>\n",
       "      <td>71</td>\n",
       "      <td>122</td>\n",
       "      <td>108.33</td>\n",
       "      <td>65</td>\n",
       "      <td>135</td>\n",
       "      <td>4.42</td>\n",
       "      <td>0.81</td>\n",
       "      <td>7.13</td>\n",
       "      <td>26.743211</td>\n",
       "      <td>-3767.725011</td>\n",
       "      <td>-0.017962</td>\n",
       "      <td>2.735238</td>\n",
       "    </tr>\n",
       "    <tr>\n",
       "      <th>1</th>\n",
       "      <td>ZnGeN2</td>\n",
       "      <td>3.02</td>\n",
       "      <td>181.83</td>\n",
       "      <td>168.33</td>\n",
       "      <td>139</td>\n",
       "      <td>211</td>\n",
       "      <td>104.33</td>\n",
       "      <td>71</td>\n",
       "      <td>122</td>\n",
       "      <td>108.33</td>\n",
       "      <td>65</td>\n",
       "      <td>135</td>\n",
       "      <td>4.42</td>\n",
       "      <td>0.81</td>\n",
       "      <td>7.13</td>\n",
       "      <td>26.693666</td>\n",
       "      <td>-3767.725011</td>\n",
       "      <td>-0.017962</td>\n",
       "      <td>2.727145</td>\n",
       "    </tr>\n",
       "  </tbody>\n",
       "</table>\n",
       "</div>\n",
       "    <div class=\"colab-df-buttons\">\n",
       "\n",
       "  <div class=\"colab-df-container\">\n",
       "    <button class=\"colab-df-convert\" onclick=\"convertToInteractive('df-b48ffecd-38a0-4e0e-a7c4-9b9cdceae270')\"\n",
       "            title=\"Convert this dataframe to an interactive table.\"\n",
       "            style=\"display:none;\">\n",
       "\n",
       "  <svg xmlns=\"http://www.w3.org/2000/svg\" height=\"24px\" viewBox=\"0 -960 960 960\">\n",
       "    <path d=\"M120-120v-720h720v720H120Zm60-500h600v-160H180v160Zm220 220h160v-160H400v160Zm0 220h160v-160H400v160ZM180-400h160v-160H180v160Zm440 0h160v-160H620v160ZM180-180h160v-160H180v160Zm440 0h160v-160H620v160Z\"/>\n",
       "  </svg>\n",
       "    </button>\n",
       "\n",
       "  <style>\n",
       "    .colab-df-container {\n",
       "      display:flex;\n",
       "      gap: 12px;\n",
       "    }\n",
       "\n",
       "    .colab-df-convert {\n",
       "      background-color: #E8F0FE;\n",
       "      border: none;\n",
       "      border-radius: 50%;\n",
       "      cursor: pointer;\n",
       "      display: none;\n",
       "      fill: #1967D2;\n",
       "      height: 32px;\n",
       "      padding: 0 0 0 0;\n",
       "      width: 32px;\n",
       "    }\n",
       "\n",
       "    .colab-df-convert:hover {\n",
       "      background-color: #E2EBFA;\n",
       "      box-shadow: 0px 1px 2px rgba(60, 64, 67, 0.3), 0px 1px 3px 1px rgba(60, 64, 67, 0.15);\n",
       "      fill: #174EA6;\n",
       "    }\n",
       "\n",
       "    .colab-df-buttons div {\n",
       "      margin-bottom: 4px;\n",
       "    }\n",
       "\n",
       "    [theme=dark] .colab-df-convert {\n",
       "      background-color: #3B4455;\n",
       "      fill: #D2E3FC;\n",
       "    }\n",
       "\n",
       "    [theme=dark] .colab-df-convert:hover {\n",
       "      background-color: #434B5C;\n",
       "      box-shadow: 0px 1px 3px 1px rgba(0, 0, 0, 0.15);\n",
       "      filter: drop-shadow(0px 1px 2px rgba(0, 0, 0, 0.3));\n",
       "      fill: #FFFFFF;\n",
       "    }\n",
       "  </style>\n",
       "\n",
       "    <script>\n",
       "      const buttonEl =\n",
       "        document.querySelector('#df-b48ffecd-38a0-4e0e-a7c4-9b9cdceae270 button.colab-df-convert');\n",
       "      buttonEl.style.display =\n",
       "        google.colab.kernel.accessAllowed ? 'block' : 'none';\n",
       "\n",
       "      async function convertToInteractive(key) {\n",
       "        const element = document.querySelector('#df-b48ffecd-38a0-4e0e-a7c4-9b9cdceae270');\n",
       "        const dataTable =\n",
       "          await google.colab.kernel.invokeFunction('convertToInteractive',\n",
       "                                                    [key], {});\n",
       "        if (!dataTable) return;\n",
       "\n",
       "        const docLinkHtml = 'Like what you see? Visit the ' +\n",
       "          '<a target=\"_blank\" href=https://colab.research.google.com/notebooks/data_table.ipynb>data table notebook</a>'\n",
       "          + ' to learn more about interactive tables.';\n",
       "        element.innerHTML = '';\n",
       "        dataTable['output_type'] = 'display_data';\n",
       "        await google.colab.output.renderOutput(dataTable, element);\n",
       "        const docLink = document.createElement('div');\n",
       "        docLink.innerHTML = docLinkHtml;\n",
       "        element.appendChild(docLink);\n",
       "      }\n",
       "    </script>\n",
       "  </div>\n",
       "\n",
       "\n",
       "    <div id=\"df-627b3ab7-40fe-4bcc-80dc-ace82e32da09\">\n",
       "      <button class=\"colab-df-quickchart\" onclick=\"quickchart('df-627b3ab7-40fe-4bcc-80dc-ace82e32da09')\"\n",
       "                title=\"Suggest charts\"\n",
       "                style=\"display:none;\">\n",
       "\n",
       "<svg xmlns=\"http://www.w3.org/2000/svg\" height=\"24px\"viewBox=\"0 0 24 24\"\n",
       "     width=\"24px\">\n",
       "    <g>\n",
       "        <path d=\"M19 3H5c-1.1 0-2 .9-2 2v14c0 1.1.9 2 2 2h14c1.1 0 2-.9 2-2V5c0-1.1-.9-2-2-2zM9 17H7v-7h2v7zm4 0h-2V7h2v10zm4 0h-2v-4h2v4z\"/>\n",
       "    </g>\n",
       "</svg>\n",
       "      </button>\n",
       "\n",
       "<style>\n",
       "  .colab-df-quickchart {\n",
       "      --bg-color: #E8F0FE;\n",
       "      --fill-color: #1967D2;\n",
       "      --hover-bg-color: #E2EBFA;\n",
       "      --hover-fill-color: #174EA6;\n",
       "      --disabled-fill-color: #AAA;\n",
       "      --disabled-bg-color: #DDD;\n",
       "  }\n",
       "\n",
       "  [theme=dark] .colab-df-quickchart {\n",
       "      --bg-color: #3B4455;\n",
       "      --fill-color: #D2E3FC;\n",
       "      --hover-bg-color: #434B5C;\n",
       "      --hover-fill-color: #FFFFFF;\n",
       "      --disabled-bg-color: #3B4455;\n",
       "      --disabled-fill-color: #666;\n",
       "  }\n",
       "\n",
       "  .colab-df-quickchart {\n",
       "    background-color: var(--bg-color);\n",
       "    border: none;\n",
       "    border-radius: 50%;\n",
       "    cursor: pointer;\n",
       "    display: none;\n",
       "    fill: var(--fill-color);\n",
       "    height: 32px;\n",
       "    padding: 0;\n",
       "    width: 32px;\n",
       "  }\n",
       "\n",
       "  .colab-df-quickchart:hover {\n",
       "    background-color: var(--hover-bg-color);\n",
       "    box-shadow: 0 1px 2px rgba(60, 64, 67, 0.3), 0 1px 3px 1px rgba(60, 64, 67, 0.15);\n",
       "    fill: var(--button-hover-fill-color);\n",
       "  }\n",
       "\n",
       "  .colab-df-quickchart-complete:disabled,\n",
       "  .colab-df-quickchart-complete:disabled:hover {\n",
       "    background-color: var(--disabled-bg-color);\n",
       "    fill: var(--disabled-fill-color);\n",
       "    box-shadow: none;\n",
       "  }\n",
       "\n",
       "  .colab-df-spinner {\n",
       "    border: 2px solid var(--fill-color);\n",
       "    border-color: transparent;\n",
       "    border-bottom-color: var(--fill-color);\n",
       "    animation:\n",
       "      spin 1s steps(1) infinite;\n",
       "  }\n",
       "\n",
       "  @keyframes spin {\n",
       "    0% {\n",
       "      border-color: transparent;\n",
       "      border-bottom-color: var(--fill-color);\n",
       "      border-left-color: var(--fill-color);\n",
       "    }\n",
       "    20% {\n",
       "      border-color: transparent;\n",
       "      border-left-color: var(--fill-color);\n",
       "      border-top-color: var(--fill-color);\n",
       "    }\n",
       "    30% {\n",
       "      border-color: transparent;\n",
       "      border-left-color: var(--fill-color);\n",
       "      border-top-color: var(--fill-color);\n",
       "      border-right-color: var(--fill-color);\n",
       "    }\n",
       "    40% {\n",
       "      border-color: transparent;\n",
       "      border-right-color: var(--fill-color);\n",
       "      border-top-color: var(--fill-color);\n",
       "    }\n",
       "    60% {\n",
       "      border-color: transparent;\n",
       "      border-right-color: var(--fill-color);\n",
       "    }\n",
       "    80% {\n",
       "      border-color: transparent;\n",
       "      border-right-color: var(--fill-color);\n",
       "      border-bottom-color: var(--fill-color);\n",
       "    }\n",
       "    90% {\n",
       "      border-color: transparent;\n",
       "      border-bottom-color: var(--fill-color);\n",
       "    }\n",
       "  }\n",
       "</style>\n",
       "\n",
       "      <script>\n",
       "        async function quickchart(key) {\n",
       "          const quickchartButtonEl =\n",
       "            document.querySelector('#' + key + ' button');\n",
       "          quickchartButtonEl.disabled = true;  // To prevent multiple clicks.\n",
       "          quickchartButtonEl.classList.add('colab-df-spinner');\n",
       "          try {\n",
       "            const charts = await google.colab.kernel.invokeFunction(\n",
       "                'suggestCharts', [key], {});\n",
       "          } catch (error) {\n",
       "            console.error('Error during call to suggestCharts:', error);\n",
       "          }\n",
       "          quickchartButtonEl.classList.remove('colab-df-spinner');\n",
       "          quickchartButtonEl.classList.add('colab-df-quickchart-complete');\n",
       "        }\n",
       "        (() => {\n",
       "          let quickchartButtonEl =\n",
       "            document.querySelector('#df-627b3ab7-40fe-4bcc-80dc-ace82e32da09 button');\n",
       "          quickchartButtonEl.style.display =\n",
       "            google.colab.kernel.accessAllowed ? 'block' : 'none';\n",
       "        })();\n",
       "      </script>\n",
       "    </div>\n",
       "    </div>\n",
       "  </div>\n"
      ],
      "text/plain": [
       "   compound  BandGap  Volume  vand_rad_Avg  vand_rad_Min  vand_rad_Max  \\\n",
       "0  ZnGeN2       2.44  181.39        168.33           139           211   \n",
       "1  ZnGeN2       3.02  181.83        168.33           139           211   \n",
       "\n",
       "   cov_rad_Avg  cov_rad_Min  cov_rad_Max  atom_rad_Avg  atom_rad_Min  \\\n",
       "0       104.33           71          122        108.33            65   \n",
       "1       104.33           71          122        108.33            65   \n",
       "\n",
       "   atom_rad_Max  density_Avg  density_Min  density_Max       d001  \\\n",
       "0           135         4.42         0.81         7.13  26.743211   \n",
       "1           135         4.42         0.81         7.13  26.693666   \n",
       "\n",
       "          d002      d003  bandgap_SISSO  \n",
       "0 -3767.725011 -0.017962       2.735238  \n",
       "1 -3767.725011 -0.017962       2.727145  "
      ]
     },
     "execution_count": 5,
     "metadata": {},
     "output_type": "execute_result"
    }
   ],
   "source": [
    "Descriptor = pd.read_csv(\"ABX2_complexity5_3D.csv\")\n",
    "Descriptor.head(2)"
   ]
  },
  {
   "cell_type": "code",
   "execution_count": 6,
   "metadata": {
    "colab": {
     "base_uri": "https://localhost:8080/"
    },
    "id": "da89B8JAQ80i",
    "outputId": "88a2cdef-6bfc-4766-ce9e-5a8609f889c1"
   },
   "outputs": [
    {
     "data": {
      "text/plain": [
       "Index(['compound', 'BandGap', 'Volume', 'vand_rad_Avg', 'vand_rad_Min',\n",
       "       'vand_rad_Max', 'cov_rad_Avg', 'cov_rad_Min', 'cov_rad_Max',\n",
       "       'atom_rad_Avg', 'atom_rad_Min', 'atom_rad_Max', 'density_Avg',\n",
       "       'density_Min', 'density_Max', 'd001', 'd002', 'd003', 'bandgap_SISSO'],\n",
       "      dtype='object')"
      ]
     },
     "execution_count": 6,
     "metadata": {},
     "output_type": "execute_result"
    }
   ],
   "source": [
    "Descriptor.keys()"
   ]
  },
  {
   "cell_type": "code",
   "execution_count": 7,
   "metadata": {
    "colab": {
     "base_uri": "https://localhost:8080/",
     "height": 112
    },
    "id": "efqVMP5G7Igr",
    "outputId": "ae3c3b6a-ddf3-4c01-85b0-6c014c815e60",
    "scrolled": true
   },
   "outputs": [
    {
     "data": {
      "application/vnd.google.colaboratory.intrinsic+json": {
       "summary": "{\n  \"name\": \"ML_data\",\n  \"rows\": 92,\n  \"fields\": [\n    {\n      \"column\": \"compound\",\n      \"properties\": {\n        \"dtype\": \"category\",\n        \"num_unique_values\": 37,\n        \"samples\": [\n          \"CdGeAs2  \",\n          \"AlInAs2  \",\n          \"AlGaP2  \"\n        ],\n        \"semantic_type\": \"\",\n        \"description\": \"\"\n      }\n    },\n    {\n      \"column\": \"BandGap\",\n      \"properties\": {\n        \"dtype\": \"number\",\n        \"std\": 1.167324904178742,\n        \"min\": 0.02,\n        \"max\": 4.63,\n        \"num_unique_values\": 75,\n        \"samples\": [\n          4.63,\n          1.29,\n          2.47\n        ],\n        \"semantic_type\": \"\",\n        \"description\": \"\"\n      }\n    },\n    {\n      \"column\": \"d001\",\n      \"properties\": {\n        \"dtype\": \"number\",\n        \"std\": 6.704494973641135,\n        \"min\": 12.642680910317038,\n        \"max\": 39.24015643209684,\n        \"num_unique_values\": 90,\n        \"samples\": [\n          21.11601381376486,\n          23.566561664555625,\n          22.02720370990477\n        ],\n        \"semantic_type\": \"\",\n        \"description\": \"\"\n      }\n    },\n    {\n      \"column\": \"d002\",\n      \"properties\": {\n        \"dtype\": \"number\",\n        \"std\": 3272.9875280313727,\n        \"min\": -15755.612428769402,\n        \"max\": 1152.7615372958624,\n        \"num_unique_values\": 33,\n        \"samples\": [\n          -2746.0396722407504,\n          -2333.3074433047373,\n          -1335.7623615970035\n        ],\n        \"semantic_type\": \"\",\n        \"description\": \"\"\n      }\n    },\n    {\n      \"column\": \"d003\",\n      \"properties\": {\n        \"dtype\": \"number\",\n        \"std\": 0.0046574736443184194,\n        \"min\": -0.0179615407234682,\n        \"max\": 0.0080560060265947,\n        \"num_unique_values\": 33,\n        \"samples\": [\n          0.0001010526600067,\n          -0.0010539830166441,\n          0.0001359326197279\n        ],\n        \"semantic_type\": \"\",\n        \"description\": \"\"\n      }\n    }\n  ]\n}",
       "type": "dataframe",
       "variable_name": "ML_data"
      },
      "text/html": [
       "\n",
       "  <div id=\"df-b70155f5-50d4-40b1-b690-5fe9e111d689\" class=\"colab-df-container\">\n",
       "    <div>\n",
       "<style scoped>\n",
       "    .dataframe tbody tr th:only-of-type {\n",
       "        vertical-align: middle;\n",
       "    }\n",
       "\n",
       "    .dataframe tbody tr th {\n",
       "        vertical-align: top;\n",
       "    }\n",
       "\n",
       "    .dataframe thead th {\n",
       "        text-align: right;\n",
       "    }\n",
       "</style>\n",
       "<table border=\"1\" class=\"dataframe\">\n",
       "  <thead>\n",
       "    <tr style=\"text-align: right;\">\n",
       "      <th></th>\n",
       "      <th>compound</th>\n",
       "      <th>BandGap</th>\n",
       "      <th>d001</th>\n",
       "      <th>d002</th>\n",
       "      <th>d003</th>\n",
       "    </tr>\n",
       "  </thead>\n",
       "  <tbody>\n",
       "    <tr>\n",
       "      <th>0</th>\n",
       "      <td>ZnGeN2</td>\n",
       "      <td>2.44</td>\n",
       "      <td>26.743211</td>\n",
       "      <td>-3767.725011</td>\n",
       "      <td>-0.017962</td>\n",
       "    </tr>\n",
       "    <tr>\n",
       "      <th>1</th>\n",
       "      <td>ZnGeN2</td>\n",
       "      <td>3.02</td>\n",
       "      <td>26.693666</td>\n",
       "      <td>-3767.725011</td>\n",
       "      <td>-0.017962</td>\n",
       "    </tr>\n",
       "  </tbody>\n",
       "</table>\n",
       "</div>\n",
       "    <div class=\"colab-df-buttons\">\n",
       "\n",
       "  <div class=\"colab-df-container\">\n",
       "    <button class=\"colab-df-convert\" onclick=\"convertToInteractive('df-b70155f5-50d4-40b1-b690-5fe9e111d689')\"\n",
       "            title=\"Convert this dataframe to an interactive table.\"\n",
       "            style=\"display:none;\">\n",
       "\n",
       "  <svg xmlns=\"http://www.w3.org/2000/svg\" height=\"24px\" viewBox=\"0 -960 960 960\">\n",
       "    <path d=\"M120-120v-720h720v720H120Zm60-500h600v-160H180v160Zm220 220h160v-160H400v160Zm0 220h160v-160H400v160ZM180-400h160v-160H180v160Zm440 0h160v-160H620v160ZM180-180h160v-160H180v160Zm440 0h160v-160H620v160Z\"/>\n",
       "  </svg>\n",
       "    </button>\n",
       "\n",
       "  <style>\n",
       "    .colab-df-container {\n",
       "      display:flex;\n",
       "      gap: 12px;\n",
       "    }\n",
       "\n",
       "    .colab-df-convert {\n",
       "      background-color: #E8F0FE;\n",
       "      border: none;\n",
       "      border-radius: 50%;\n",
       "      cursor: pointer;\n",
       "      display: none;\n",
       "      fill: #1967D2;\n",
       "      height: 32px;\n",
       "      padding: 0 0 0 0;\n",
       "      width: 32px;\n",
       "    }\n",
       "\n",
       "    .colab-df-convert:hover {\n",
       "      background-color: #E2EBFA;\n",
       "      box-shadow: 0px 1px 2px rgba(60, 64, 67, 0.3), 0px 1px 3px 1px rgba(60, 64, 67, 0.15);\n",
       "      fill: #174EA6;\n",
       "    }\n",
       "\n",
       "    .colab-df-buttons div {\n",
       "      margin-bottom: 4px;\n",
       "    }\n",
       "\n",
       "    [theme=dark] .colab-df-convert {\n",
       "      background-color: #3B4455;\n",
       "      fill: #D2E3FC;\n",
       "    }\n",
       "\n",
       "    [theme=dark] .colab-df-convert:hover {\n",
       "      background-color: #434B5C;\n",
       "      box-shadow: 0px 1px 3px 1px rgba(0, 0, 0, 0.15);\n",
       "      filter: drop-shadow(0px 1px 2px rgba(0, 0, 0, 0.3));\n",
       "      fill: #FFFFFF;\n",
       "    }\n",
       "  </style>\n",
       "\n",
       "    <script>\n",
       "      const buttonEl =\n",
       "        document.querySelector('#df-b70155f5-50d4-40b1-b690-5fe9e111d689 button.colab-df-convert');\n",
       "      buttonEl.style.display =\n",
       "        google.colab.kernel.accessAllowed ? 'block' : 'none';\n",
       "\n",
       "      async function convertToInteractive(key) {\n",
       "        const element = document.querySelector('#df-b70155f5-50d4-40b1-b690-5fe9e111d689');\n",
       "        const dataTable =\n",
       "          await google.colab.kernel.invokeFunction('convertToInteractive',\n",
       "                                                    [key], {});\n",
       "        if (!dataTable) return;\n",
       "\n",
       "        const docLinkHtml = 'Like what you see? Visit the ' +\n",
       "          '<a target=\"_blank\" href=https://colab.research.google.com/notebooks/data_table.ipynb>data table notebook</a>'\n",
       "          + ' to learn more about interactive tables.';\n",
       "        element.innerHTML = '';\n",
       "        dataTable['output_type'] = 'display_data';\n",
       "        await google.colab.output.renderOutput(dataTable, element);\n",
       "        const docLink = document.createElement('div');\n",
       "        docLink.innerHTML = docLinkHtml;\n",
       "        element.appendChild(docLink);\n",
       "      }\n",
       "    </script>\n",
       "  </div>\n",
       "\n",
       "\n",
       "    <div id=\"df-6087eb45-fae3-4144-917d-64f449310626\">\n",
       "      <button class=\"colab-df-quickchart\" onclick=\"quickchart('df-6087eb45-fae3-4144-917d-64f449310626')\"\n",
       "                title=\"Suggest charts\"\n",
       "                style=\"display:none;\">\n",
       "\n",
       "<svg xmlns=\"http://www.w3.org/2000/svg\" height=\"24px\"viewBox=\"0 0 24 24\"\n",
       "     width=\"24px\">\n",
       "    <g>\n",
       "        <path d=\"M19 3H5c-1.1 0-2 .9-2 2v14c0 1.1.9 2 2 2h14c1.1 0 2-.9 2-2V5c0-1.1-.9-2-2-2zM9 17H7v-7h2v7zm4 0h-2V7h2v10zm4 0h-2v-4h2v4z\"/>\n",
       "    </g>\n",
       "</svg>\n",
       "      </button>\n",
       "\n",
       "<style>\n",
       "  .colab-df-quickchart {\n",
       "      --bg-color: #E8F0FE;\n",
       "      --fill-color: #1967D2;\n",
       "      --hover-bg-color: #E2EBFA;\n",
       "      --hover-fill-color: #174EA6;\n",
       "      --disabled-fill-color: #AAA;\n",
       "      --disabled-bg-color: #DDD;\n",
       "  }\n",
       "\n",
       "  [theme=dark] .colab-df-quickchart {\n",
       "      --bg-color: #3B4455;\n",
       "      --fill-color: #D2E3FC;\n",
       "      --hover-bg-color: #434B5C;\n",
       "      --hover-fill-color: #FFFFFF;\n",
       "      --disabled-bg-color: #3B4455;\n",
       "      --disabled-fill-color: #666;\n",
       "  }\n",
       "\n",
       "  .colab-df-quickchart {\n",
       "    background-color: var(--bg-color);\n",
       "    border: none;\n",
       "    border-radius: 50%;\n",
       "    cursor: pointer;\n",
       "    display: none;\n",
       "    fill: var(--fill-color);\n",
       "    height: 32px;\n",
       "    padding: 0;\n",
       "    width: 32px;\n",
       "  }\n",
       "\n",
       "  .colab-df-quickchart:hover {\n",
       "    background-color: var(--hover-bg-color);\n",
       "    box-shadow: 0 1px 2px rgba(60, 64, 67, 0.3), 0 1px 3px 1px rgba(60, 64, 67, 0.15);\n",
       "    fill: var(--button-hover-fill-color);\n",
       "  }\n",
       "\n",
       "  .colab-df-quickchart-complete:disabled,\n",
       "  .colab-df-quickchart-complete:disabled:hover {\n",
       "    background-color: var(--disabled-bg-color);\n",
       "    fill: var(--disabled-fill-color);\n",
       "    box-shadow: none;\n",
       "  }\n",
       "\n",
       "  .colab-df-spinner {\n",
       "    border: 2px solid var(--fill-color);\n",
       "    border-color: transparent;\n",
       "    border-bottom-color: var(--fill-color);\n",
       "    animation:\n",
       "      spin 1s steps(1) infinite;\n",
       "  }\n",
       "\n",
       "  @keyframes spin {\n",
       "    0% {\n",
       "      border-color: transparent;\n",
       "      border-bottom-color: var(--fill-color);\n",
       "      border-left-color: var(--fill-color);\n",
       "    }\n",
       "    20% {\n",
       "      border-color: transparent;\n",
       "      border-left-color: var(--fill-color);\n",
       "      border-top-color: var(--fill-color);\n",
       "    }\n",
       "    30% {\n",
       "      border-color: transparent;\n",
       "      border-left-color: var(--fill-color);\n",
       "      border-top-color: var(--fill-color);\n",
       "      border-right-color: var(--fill-color);\n",
       "    }\n",
       "    40% {\n",
       "      border-color: transparent;\n",
       "      border-right-color: var(--fill-color);\n",
       "      border-top-color: var(--fill-color);\n",
       "    }\n",
       "    60% {\n",
       "      border-color: transparent;\n",
       "      border-right-color: var(--fill-color);\n",
       "    }\n",
       "    80% {\n",
       "      border-color: transparent;\n",
       "      border-right-color: var(--fill-color);\n",
       "      border-bottom-color: var(--fill-color);\n",
       "    }\n",
       "    90% {\n",
       "      border-color: transparent;\n",
       "      border-bottom-color: var(--fill-color);\n",
       "    }\n",
       "  }\n",
       "</style>\n",
       "\n",
       "      <script>\n",
       "        async function quickchart(key) {\n",
       "          const quickchartButtonEl =\n",
       "            document.querySelector('#' + key + ' button');\n",
       "          quickchartButtonEl.disabled = true;  // To prevent multiple clicks.\n",
       "          quickchartButtonEl.classList.add('colab-df-spinner');\n",
       "          try {\n",
       "            const charts = await google.colab.kernel.invokeFunction(\n",
       "                'suggestCharts', [key], {});\n",
       "          } catch (error) {\n",
       "            console.error('Error during call to suggestCharts:', error);\n",
       "          }\n",
       "          quickchartButtonEl.classList.remove('colab-df-spinner');\n",
       "          quickchartButtonEl.classList.add('colab-df-quickchart-complete');\n",
       "        }\n",
       "        (() => {\n",
       "          let quickchartButtonEl =\n",
       "            document.querySelector('#df-6087eb45-fae3-4144-917d-64f449310626 button');\n",
       "          quickchartButtonEl.style.display =\n",
       "            google.colab.kernel.accessAllowed ? 'block' : 'none';\n",
       "        })();\n",
       "      </script>\n",
       "    </div>\n",
       "    </div>\n",
       "  </div>\n"
      ],
      "text/plain": [
       "   compound  BandGap       d001         d002      d003\n",
       "0  ZnGeN2       2.44  26.743211 -3767.725011 -0.017962\n",
       "1  ZnGeN2       3.02  26.693666 -3767.725011 -0.017962"
      ]
     },
     "execution_count": 7,
     "metadata": {},
     "output_type": "execute_result"
    }
   ],
   "source": [
    "ML_data = Descriptor[['compound', 'BandGap','d001', 'd002', 'd003']]\n",
    "ML_data.head(2)"
   ]
  },
  {
   "cell_type": "code",
   "execution_count": 8,
   "metadata": {
    "id": "USv4fNhw7Igt"
   },
   "outputs": [],
   "source": [
    "ML_data1 = ML_data.drop(['compound'], axis=1)"
   ]
  },
  {
   "cell_type": "markdown",
   "metadata": {
    "id": "QJeTkMi87Ig1"
   },
   "source": [
    "# ML Model\n"
   ]
  },
  {
   "cell_type": "code",
   "execution_count": 9,
   "metadata": {
    "colab": {
     "base_uri": "https://localhost:8080/",
     "height": 112
    },
    "id": "m-QWorXE7Ig2",
    "outputId": "32d1d42f-8b7c-4127-be1e-5f2daa3c43bc"
   },
   "outputs": [
    {
     "data": {
      "application/vnd.google.colaboratory.intrinsic+json": {
       "summary": "{\n  \"name\": \"ML_Balanced_Data\",\n  \"rows\": 92,\n  \"fields\": [\n    {\n      \"column\": \"BandGap\",\n      \"properties\": {\n        \"dtype\": \"number\",\n        \"std\": 1.167324904178742,\n        \"min\": 0.02,\n        \"max\": 4.63,\n        \"num_unique_values\": 75,\n        \"samples\": [\n          4.63,\n          1.29,\n          2.47\n        ],\n        \"semantic_type\": \"\",\n        \"description\": \"\"\n      }\n    },\n    {\n      \"column\": \"d001\",\n      \"properties\": {\n        \"dtype\": \"number\",\n        \"std\": 6.704494973641135,\n        \"min\": 12.642680910317038,\n        \"max\": 39.24015643209684,\n        \"num_unique_values\": 90,\n        \"samples\": [\n          21.11601381376486,\n          23.566561664555625,\n          22.02720370990477\n        ],\n        \"semantic_type\": \"\",\n        \"description\": \"\"\n      }\n    },\n    {\n      \"column\": \"d002\",\n      \"properties\": {\n        \"dtype\": \"number\",\n        \"std\": 3272.9875280313727,\n        \"min\": -15755.612428769402,\n        \"max\": 1152.7615372958624,\n        \"num_unique_values\": 33,\n        \"samples\": [\n          -2746.0396722407504,\n          -2333.3074433047373,\n          -1335.7623615970035\n        ],\n        \"semantic_type\": \"\",\n        \"description\": \"\"\n      }\n    },\n    {\n      \"column\": \"d003\",\n      \"properties\": {\n        \"dtype\": \"number\",\n        \"std\": 0.0046574736443184194,\n        \"min\": -0.0179615407234682,\n        \"max\": 0.0080560060265947,\n        \"num_unique_values\": 33,\n        \"samples\": [\n          0.0001010526600067,\n          -0.0010539830166441,\n          0.0001359326197279\n        ],\n        \"semantic_type\": \"\",\n        \"description\": \"\"\n      }\n    }\n  ]\n}",
       "type": "dataframe",
       "variable_name": "ML_Balanced_Data"
      },
      "text/html": [
       "\n",
       "  <div id=\"df-72194c45-873f-4dfd-9f1f-d72e751ed775\" class=\"colab-df-container\">\n",
       "    <div>\n",
       "<style scoped>\n",
       "    .dataframe tbody tr th:only-of-type {\n",
       "        vertical-align: middle;\n",
       "    }\n",
       "\n",
       "    .dataframe tbody tr th {\n",
       "        vertical-align: top;\n",
       "    }\n",
       "\n",
       "    .dataframe thead th {\n",
       "        text-align: right;\n",
       "    }\n",
       "</style>\n",
       "<table border=\"1\" class=\"dataframe\">\n",
       "  <thead>\n",
       "    <tr style=\"text-align: right;\">\n",
       "      <th></th>\n",
       "      <th>BandGap</th>\n",
       "      <th>d001</th>\n",
       "      <th>d002</th>\n",
       "      <th>d003</th>\n",
       "    </tr>\n",
       "  </thead>\n",
       "  <tbody>\n",
       "    <tr>\n",
       "      <th>0</th>\n",
       "      <td>2.44</td>\n",
       "      <td>26.743211</td>\n",
       "      <td>-3767.725011</td>\n",
       "      <td>-0.017962</td>\n",
       "    </tr>\n",
       "    <tr>\n",
       "      <th>1</th>\n",
       "      <td>3.02</td>\n",
       "      <td>26.693666</td>\n",
       "      <td>-3767.725011</td>\n",
       "      <td>-0.017962</td>\n",
       "    </tr>\n",
       "  </tbody>\n",
       "</table>\n",
       "</div>\n",
       "    <div class=\"colab-df-buttons\">\n",
       "\n",
       "  <div class=\"colab-df-container\">\n",
       "    <button class=\"colab-df-convert\" onclick=\"convertToInteractive('df-72194c45-873f-4dfd-9f1f-d72e751ed775')\"\n",
       "            title=\"Convert this dataframe to an interactive table.\"\n",
       "            style=\"display:none;\">\n",
       "\n",
       "  <svg xmlns=\"http://www.w3.org/2000/svg\" height=\"24px\" viewBox=\"0 -960 960 960\">\n",
       "    <path d=\"M120-120v-720h720v720H120Zm60-500h600v-160H180v160Zm220 220h160v-160H400v160Zm0 220h160v-160H400v160ZM180-400h160v-160H180v160Zm440 0h160v-160H620v160ZM180-180h160v-160H180v160Zm440 0h160v-160H620v160Z\"/>\n",
       "  </svg>\n",
       "    </button>\n",
       "\n",
       "  <style>\n",
       "    .colab-df-container {\n",
       "      display:flex;\n",
       "      gap: 12px;\n",
       "    }\n",
       "\n",
       "    .colab-df-convert {\n",
       "      background-color: #E8F0FE;\n",
       "      border: none;\n",
       "      border-radius: 50%;\n",
       "      cursor: pointer;\n",
       "      display: none;\n",
       "      fill: #1967D2;\n",
       "      height: 32px;\n",
       "      padding: 0 0 0 0;\n",
       "      width: 32px;\n",
       "    }\n",
       "\n",
       "    .colab-df-convert:hover {\n",
       "      background-color: #E2EBFA;\n",
       "      box-shadow: 0px 1px 2px rgba(60, 64, 67, 0.3), 0px 1px 3px 1px rgba(60, 64, 67, 0.15);\n",
       "      fill: #174EA6;\n",
       "    }\n",
       "\n",
       "    .colab-df-buttons div {\n",
       "      margin-bottom: 4px;\n",
       "    }\n",
       "\n",
       "    [theme=dark] .colab-df-convert {\n",
       "      background-color: #3B4455;\n",
       "      fill: #D2E3FC;\n",
       "    }\n",
       "\n",
       "    [theme=dark] .colab-df-convert:hover {\n",
       "      background-color: #434B5C;\n",
       "      box-shadow: 0px 1px 3px 1px rgba(0, 0, 0, 0.15);\n",
       "      filter: drop-shadow(0px 1px 2px rgba(0, 0, 0, 0.3));\n",
       "      fill: #FFFFFF;\n",
       "    }\n",
       "  </style>\n",
       "\n",
       "    <script>\n",
       "      const buttonEl =\n",
       "        document.querySelector('#df-72194c45-873f-4dfd-9f1f-d72e751ed775 button.colab-df-convert');\n",
       "      buttonEl.style.display =\n",
       "        google.colab.kernel.accessAllowed ? 'block' : 'none';\n",
       "\n",
       "      async function convertToInteractive(key) {\n",
       "        const element = document.querySelector('#df-72194c45-873f-4dfd-9f1f-d72e751ed775');\n",
       "        const dataTable =\n",
       "          await google.colab.kernel.invokeFunction('convertToInteractive',\n",
       "                                                    [key], {});\n",
       "        if (!dataTable) return;\n",
       "\n",
       "        const docLinkHtml = 'Like what you see? Visit the ' +\n",
       "          '<a target=\"_blank\" href=https://colab.research.google.com/notebooks/data_table.ipynb>data table notebook</a>'\n",
       "          + ' to learn more about interactive tables.';\n",
       "        element.innerHTML = '';\n",
       "        dataTable['output_type'] = 'display_data';\n",
       "        await google.colab.output.renderOutput(dataTable, element);\n",
       "        const docLink = document.createElement('div');\n",
       "        docLink.innerHTML = docLinkHtml;\n",
       "        element.appendChild(docLink);\n",
       "      }\n",
       "    </script>\n",
       "  </div>\n",
       "\n",
       "\n",
       "    <div id=\"df-c1ba8216-ee4f-4909-8c52-3b800bed4fdf\">\n",
       "      <button class=\"colab-df-quickchart\" onclick=\"quickchart('df-c1ba8216-ee4f-4909-8c52-3b800bed4fdf')\"\n",
       "                title=\"Suggest charts\"\n",
       "                style=\"display:none;\">\n",
       "\n",
       "<svg xmlns=\"http://www.w3.org/2000/svg\" height=\"24px\"viewBox=\"0 0 24 24\"\n",
       "     width=\"24px\">\n",
       "    <g>\n",
       "        <path d=\"M19 3H5c-1.1 0-2 .9-2 2v14c0 1.1.9 2 2 2h14c1.1 0 2-.9 2-2V5c0-1.1-.9-2-2-2zM9 17H7v-7h2v7zm4 0h-2V7h2v10zm4 0h-2v-4h2v4z\"/>\n",
       "    </g>\n",
       "</svg>\n",
       "      </button>\n",
       "\n",
       "<style>\n",
       "  .colab-df-quickchart {\n",
       "      --bg-color: #E8F0FE;\n",
       "      --fill-color: #1967D2;\n",
       "      --hover-bg-color: #E2EBFA;\n",
       "      --hover-fill-color: #174EA6;\n",
       "      --disabled-fill-color: #AAA;\n",
       "      --disabled-bg-color: #DDD;\n",
       "  }\n",
       "\n",
       "  [theme=dark] .colab-df-quickchart {\n",
       "      --bg-color: #3B4455;\n",
       "      --fill-color: #D2E3FC;\n",
       "      --hover-bg-color: #434B5C;\n",
       "      --hover-fill-color: #FFFFFF;\n",
       "      --disabled-bg-color: #3B4455;\n",
       "      --disabled-fill-color: #666;\n",
       "  }\n",
       "\n",
       "  .colab-df-quickchart {\n",
       "    background-color: var(--bg-color);\n",
       "    border: none;\n",
       "    border-radius: 50%;\n",
       "    cursor: pointer;\n",
       "    display: none;\n",
       "    fill: var(--fill-color);\n",
       "    height: 32px;\n",
       "    padding: 0;\n",
       "    width: 32px;\n",
       "  }\n",
       "\n",
       "  .colab-df-quickchart:hover {\n",
       "    background-color: var(--hover-bg-color);\n",
       "    box-shadow: 0 1px 2px rgba(60, 64, 67, 0.3), 0 1px 3px 1px rgba(60, 64, 67, 0.15);\n",
       "    fill: var(--button-hover-fill-color);\n",
       "  }\n",
       "\n",
       "  .colab-df-quickchart-complete:disabled,\n",
       "  .colab-df-quickchart-complete:disabled:hover {\n",
       "    background-color: var(--disabled-bg-color);\n",
       "    fill: var(--disabled-fill-color);\n",
       "    box-shadow: none;\n",
       "  }\n",
       "\n",
       "  .colab-df-spinner {\n",
       "    border: 2px solid var(--fill-color);\n",
       "    border-color: transparent;\n",
       "    border-bottom-color: var(--fill-color);\n",
       "    animation:\n",
       "      spin 1s steps(1) infinite;\n",
       "  }\n",
       "\n",
       "  @keyframes spin {\n",
       "    0% {\n",
       "      border-color: transparent;\n",
       "      border-bottom-color: var(--fill-color);\n",
       "      border-left-color: var(--fill-color);\n",
       "    }\n",
       "    20% {\n",
       "      border-color: transparent;\n",
       "      border-left-color: var(--fill-color);\n",
       "      border-top-color: var(--fill-color);\n",
       "    }\n",
       "    30% {\n",
       "      border-color: transparent;\n",
       "      border-left-color: var(--fill-color);\n",
       "      border-top-color: var(--fill-color);\n",
       "      border-right-color: var(--fill-color);\n",
       "    }\n",
       "    40% {\n",
       "      border-color: transparent;\n",
       "      border-right-color: var(--fill-color);\n",
       "      border-top-color: var(--fill-color);\n",
       "    }\n",
       "    60% {\n",
       "      border-color: transparent;\n",
       "      border-right-color: var(--fill-color);\n",
       "    }\n",
       "    80% {\n",
       "      border-color: transparent;\n",
       "      border-right-color: var(--fill-color);\n",
       "      border-bottom-color: var(--fill-color);\n",
       "    }\n",
       "    90% {\n",
       "      border-color: transparent;\n",
       "      border-bottom-color: var(--fill-color);\n",
       "    }\n",
       "  }\n",
       "</style>\n",
       "\n",
       "      <script>\n",
       "        async function quickchart(key) {\n",
       "          const quickchartButtonEl =\n",
       "            document.querySelector('#' + key + ' button');\n",
       "          quickchartButtonEl.disabled = true;  // To prevent multiple clicks.\n",
       "          quickchartButtonEl.classList.add('colab-df-spinner');\n",
       "          try {\n",
       "            const charts = await google.colab.kernel.invokeFunction(\n",
       "                'suggestCharts', [key], {});\n",
       "          } catch (error) {\n",
       "            console.error('Error during call to suggestCharts:', error);\n",
       "          }\n",
       "          quickchartButtonEl.classList.remove('colab-df-spinner');\n",
       "          quickchartButtonEl.classList.add('colab-df-quickchart-complete');\n",
       "        }\n",
       "        (() => {\n",
       "          let quickchartButtonEl =\n",
       "            document.querySelector('#df-c1ba8216-ee4f-4909-8c52-3b800bed4fdf button');\n",
       "          quickchartButtonEl.style.display =\n",
       "            google.colab.kernel.accessAllowed ? 'block' : 'none';\n",
       "        })();\n",
       "      </script>\n",
       "    </div>\n",
       "    </div>\n",
       "  </div>\n"
      ],
      "text/plain": [
       "   BandGap       d001         d002      d003\n",
       "0     2.44  26.743211 -3767.725011 -0.017962\n",
       "1     3.02  26.693666 -3767.725011 -0.017962"
      ]
     },
     "execution_count": 9,
     "metadata": {},
     "output_type": "execute_result"
    }
   ],
   "source": [
    "ML_Balanced_Data =ML_data1.copy()\n",
    "ML_Balanced_Data.head(2)"
   ]
  },
  {
   "cell_type": "code",
   "execution_count": 10,
   "metadata": {
    "colab": {
     "base_uri": "https://localhost:8080/",
     "height": 143
    },
    "id": "f8WI5gtvFClX",
    "outputId": "207fe132-5cc9-4302-a483-52a399211e13"
   },
   "outputs": [
    {
     "data": {
      "application/vnd.google.colaboratory.intrinsic+json": {
       "summary": "{\n  \"name\": \"X1\",\n  \"rows\": 92,\n  \"fields\": [\n    {\n      \"column\": \"d001\",\n      \"properties\": {\n        \"dtype\": \"number\",\n        \"std\": 6.704494973641135,\n        \"min\": 12.642680910317038,\n        \"max\": 39.24015643209684,\n        \"num_unique_values\": 90,\n        \"samples\": [\n          21.11601381376486,\n          23.566561664555625,\n          22.02720370990477\n        ],\n        \"semantic_type\": \"\",\n        \"description\": \"\"\n      }\n    },\n    {\n      \"column\": \"d002\",\n      \"properties\": {\n        \"dtype\": \"number\",\n        \"std\": 3272.9875280313727,\n        \"min\": -15755.612428769402,\n        \"max\": 1152.7615372958624,\n        \"num_unique_values\": 33,\n        \"samples\": [\n          -2746.0396722407504,\n          -2333.3074433047373,\n          -1335.7623615970035\n        ],\n        \"semantic_type\": \"\",\n        \"description\": \"\"\n      }\n    },\n    {\n      \"column\": \"d003\",\n      \"properties\": {\n        \"dtype\": \"number\",\n        \"std\": 0.0046574736443184194,\n        \"min\": -0.0179615407234682,\n        \"max\": 0.0080560060265947,\n        \"num_unique_values\": 33,\n        \"samples\": [\n          0.0001010526600067,\n          -0.0010539830166441,\n          0.0001359326197279\n        ],\n        \"semantic_type\": \"\",\n        \"description\": \"\"\n      }\n    }\n  ]\n}",
       "type": "dataframe",
       "variable_name": "X1"
      },
      "text/html": [
       "\n",
       "  <div id=\"df-0e36b7dc-b694-471a-a24a-4efc41aa1472\" class=\"colab-df-container\">\n",
       "    <div>\n",
       "<style scoped>\n",
       "    .dataframe tbody tr th:only-of-type {\n",
       "        vertical-align: middle;\n",
       "    }\n",
       "\n",
       "    .dataframe tbody tr th {\n",
       "        vertical-align: top;\n",
       "    }\n",
       "\n",
       "    .dataframe thead th {\n",
       "        text-align: right;\n",
       "    }\n",
       "</style>\n",
       "<table border=\"1\" class=\"dataframe\">\n",
       "  <thead>\n",
       "    <tr style=\"text-align: right;\">\n",
       "      <th></th>\n",
       "      <th>d001</th>\n",
       "      <th>d002</th>\n",
       "      <th>d003</th>\n",
       "    </tr>\n",
       "  </thead>\n",
       "  <tbody>\n",
       "    <tr>\n",
       "      <th>0</th>\n",
       "      <td>26.743211</td>\n",
       "      <td>-3767.725011</td>\n",
       "      <td>-0.017962</td>\n",
       "    </tr>\n",
       "    <tr>\n",
       "      <th>1</th>\n",
       "      <td>26.693666</td>\n",
       "      <td>-3767.725011</td>\n",
       "      <td>-0.017962</td>\n",
       "    </tr>\n",
       "    <tr>\n",
       "      <th>2</th>\n",
       "      <td>26.724029</td>\n",
       "      <td>-3767.725011</td>\n",
       "      <td>-0.017962</td>\n",
       "    </tr>\n",
       "  </tbody>\n",
       "</table>\n",
       "</div>\n",
       "    <div class=\"colab-df-buttons\">\n",
       "\n",
       "  <div class=\"colab-df-container\">\n",
       "    <button class=\"colab-df-convert\" onclick=\"convertToInteractive('df-0e36b7dc-b694-471a-a24a-4efc41aa1472')\"\n",
       "            title=\"Convert this dataframe to an interactive table.\"\n",
       "            style=\"display:none;\">\n",
       "\n",
       "  <svg xmlns=\"http://www.w3.org/2000/svg\" height=\"24px\" viewBox=\"0 -960 960 960\">\n",
       "    <path d=\"M120-120v-720h720v720H120Zm60-500h600v-160H180v160Zm220 220h160v-160H400v160Zm0 220h160v-160H400v160ZM180-400h160v-160H180v160Zm440 0h160v-160H620v160ZM180-180h160v-160H180v160Zm440 0h160v-160H620v160Z\"/>\n",
       "  </svg>\n",
       "    </button>\n",
       "\n",
       "  <style>\n",
       "    .colab-df-container {\n",
       "      display:flex;\n",
       "      gap: 12px;\n",
       "    }\n",
       "\n",
       "    .colab-df-convert {\n",
       "      background-color: #E8F0FE;\n",
       "      border: none;\n",
       "      border-radius: 50%;\n",
       "      cursor: pointer;\n",
       "      display: none;\n",
       "      fill: #1967D2;\n",
       "      height: 32px;\n",
       "      padding: 0 0 0 0;\n",
       "      width: 32px;\n",
       "    }\n",
       "\n",
       "    .colab-df-convert:hover {\n",
       "      background-color: #E2EBFA;\n",
       "      box-shadow: 0px 1px 2px rgba(60, 64, 67, 0.3), 0px 1px 3px 1px rgba(60, 64, 67, 0.15);\n",
       "      fill: #174EA6;\n",
       "    }\n",
       "\n",
       "    .colab-df-buttons div {\n",
       "      margin-bottom: 4px;\n",
       "    }\n",
       "\n",
       "    [theme=dark] .colab-df-convert {\n",
       "      background-color: #3B4455;\n",
       "      fill: #D2E3FC;\n",
       "    }\n",
       "\n",
       "    [theme=dark] .colab-df-convert:hover {\n",
       "      background-color: #434B5C;\n",
       "      box-shadow: 0px 1px 3px 1px rgba(0, 0, 0, 0.15);\n",
       "      filter: drop-shadow(0px 1px 2px rgba(0, 0, 0, 0.3));\n",
       "      fill: #FFFFFF;\n",
       "    }\n",
       "  </style>\n",
       "\n",
       "    <script>\n",
       "      const buttonEl =\n",
       "        document.querySelector('#df-0e36b7dc-b694-471a-a24a-4efc41aa1472 button.colab-df-convert');\n",
       "      buttonEl.style.display =\n",
       "        google.colab.kernel.accessAllowed ? 'block' : 'none';\n",
       "\n",
       "      async function convertToInteractive(key) {\n",
       "        const element = document.querySelector('#df-0e36b7dc-b694-471a-a24a-4efc41aa1472');\n",
       "        const dataTable =\n",
       "          await google.colab.kernel.invokeFunction('convertToInteractive',\n",
       "                                                    [key], {});\n",
       "        if (!dataTable) return;\n",
       "\n",
       "        const docLinkHtml = 'Like what you see? Visit the ' +\n",
       "          '<a target=\"_blank\" href=https://colab.research.google.com/notebooks/data_table.ipynb>data table notebook</a>'\n",
       "          + ' to learn more about interactive tables.';\n",
       "        element.innerHTML = '';\n",
       "        dataTable['output_type'] = 'display_data';\n",
       "        await google.colab.output.renderOutput(dataTable, element);\n",
       "        const docLink = document.createElement('div');\n",
       "        docLink.innerHTML = docLinkHtml;\n",
       "        element.appendChild(docLink);\n",
       "      }\n",
       "    </script>\n",
       "  </div>\n",
       "\n",
       "\n",
       "    <div id=\"df-adc2a2b4-7d0c-41eb-8f74-6b3d3a701bd2\">\n",
       "      <button class=\"colab-df-quickchart\" onclick=\"quickchart('df-adc2a2b4-7d0c-41eb-8f74-6b3d3a701bd2')\"\n",
       "                title=\"Suggest charts\"\n",
       "                style=\"display:none;\">\n",
       "\n",
       "<svg xmlns=\"http://www.w3.org/2000/svg\" height=\"24px\"viewBox=\"0 0 24 24\"\n",
       "     width=\"24px\">\n",
       "    <g>\n",
       "        <path d=\"M19 3H5c-1.1 0-2 .9-2 2v14c0 1.1.9 2 2 2h14c1.1 0 2-.9 2-2V5c0-1.1-.9-2-2-2zM9 17H7v-7h2v7zm4 0h-2V7h2v10zm4 0h-2v-4h2v4z\"/>\n",
       "    </g>\n",
       "</svg>\n",
       "      </button>\n",
       "\n",
       "<style>\n",
       "  .colab-df-quickchart {\n",
       "      --bg-color: #E8F0FE;\n",
       "      --fill-color: #1967D2;\n",
       "      --hover-bg-color: #E2EBFA;\n",
       "      --hover-fill-color: #174EA6;\n",
       "      --disabled-fill-color: #AAA;\n",
       "      --disabled-bg-color: #DDD;\n",
       "  }\n",
       "\n",
       "  [theme=dark] .colab-df-quickchart {\n",
       "      --bg-color: #3B4455;\n",
       "      --fill-color: #D2E3FC;\n",
       "      --hover-bg-color: #434B5C;\n",
       "      --hover-fill-color: #FFFFFF;\n",
       "      --disabled-bg-color: #3B4455;\n",
       "      --disabled-fill-color: #666;\n",
       "  }\n",
       "\n",
       "  .colab-df-quickchart {\n",
       "    background-color: var(--bg-color);\n",
       "    border: none;\n",
       "    border-radius: 50%;\n",
       "    cursor: pointer;\n",
       "    display: none;\n",
       "    fill: var(--fill-color);\n",
       "    height: 32px;\n",
       "    padding: 0;\n",
       "    width: 32px;\n",
       "  }\n",
       "\n",
       "  .colab-df-quickchart:hover {\n",
       "    background-color: var(--hover-bg-color);\n",
       "    box-shadow: 0 1px 2px rgba(60, 64, 67, 0.3), 0 1px 3px 1px rgba(60, 64, 67, 0.15);\n",
       "    fill: var(--button-hover-fill-color);\n",
       "  }\n",
       "\n",
       "  .colab-df-quickchart-complete:disabled,\n",
       "  .colab-df-quickchart-complete:disabled:hover {\n",
       "    background-color: var(--disabled-bg-color);\n",
       "    fill: var(--disabled-fill-color);\n",
       "    box-shadow: none;\n",
       "  }\n",
       "\n",
       "  .colab-df-spinner {\n",
       "    border: 2px solid var(--fill-color);\n",
       "    border-color: transparent;\n",
       "    border-bottom-color: var(--fill-color);\n",
       "    animation:\n",
       "      spin 1s steps(1) infinite;\n",
       "  }\n",
       "\n",
       "  @keyframes spin {\n",
       "    0% {\n",
       "      border-color: transparent;\n",
       "      border-bottom-color: var(--fill-color);\n",
       "      border-left-color: var(--fill-color);\n",
       "    }\n",
       "    20% {\n",
       "      border-color: transparent;\n",
       "      border-left-color: var(--fill-color);\n",
       "      border-top-color: var(--fill-color);\n",
       "    }\n",
       "    30% {\n",
       "      border-color: transparent;\n",
       "      border-left-color: var(--fill-color);\n",
       "      border-top-color: var(--fill-color);\n",
       "      border-right-color: var(--fill-color);\n",
       "    }\n",
       "    40% {\n",
       "      border-color: transparent;\n",
       "      border-right-color: var(--fill-color);\n",
       "      border-top-color: var(--fill-color);\n",
       "    }\n",
       "    60% {\n",
       "      border-color: transparent;\n",
       "      border-right-color: var(--fill-color);\n",
       "    }\n",
       "    80% {\n",
       "      border-color: transparent;\n",
       "      border-right-color: var(--fill-color);\n",
       "      border-bottom-color: var(--fill-color);\n",
       "    }\n",
       "    90% {\n",
       "      border-color: transparent;\n",
       "      border-bottom-color: var(--fill-color);\n",
       "    }\n",
       "  }\n",
       "</style>\n",
       "\n",
       "      <script>\n",
       "        async function quickchart(key) {\n",
       "          const quickchartButtonEl =\n",
       "            document.querySelector('#' + key + ' button');\n",
       "          quickchartButtonEl.disabled = true;  // To prevent multiple clicks.\n",
       "          quickchartButtonEl.classList.add('colab-df-spinner');\n",
       "          try {\n",
       "            const charts = await google.colab.kernel.invokeFunction(\n",
       "                'suggestCharts', [key], {});\n",
       "          } catch (error) {\n",
       "            console.error('Error during call to suggestCharts:', error);\n",
       "          }\n",
       "          quickchartButtonEl.classList.remove('colab-df-spinner');\n",
       "          quickchartButtonEl.classList.add('colab-df-quickchart-complete');\n",
       "        }\n",
       "        (() => {\n",
       "          let quickchartButtonEl =\n",
       "            document.querySelector('#df-adc2a2b4-7d0c-41eb-8f74-6b3d3a701bd2 button');\n",
       "          quickchartButtonEl.style.display =\n",
       "            google.colab.kernel.accessAllowed ? 'block' : 'none';\n",
       "        })();\n",
       "      </script>\n",
       "    </div>\n",
       "    </div>\n",
       "  </div>\n"
      ],
      "text/plain": [
       "        d001         d002      d003\n",
       "0  26.743211 -3767.725011 -0.017962\n",
       "1  26.693666 -3767.725011 -0.017962\n",
       "2  26.724029 -3767.725011 -0.017962"
      ]
     },
     "execution_count": 10,
     "metadata": {},
     "output_type": "execute_result"
    }
   ],
   "source": [
    "X1 = ML_Balanced_Data.drop(['BandGap'],axis=1)\n",
    "X1.head(3)"
   ]
  },
  {
   "cell_type": "code",
   "execution_count": 11,
   "metadata": {
    "colab": {
     "base_uri": "https://localhost:8080/"
    },
    "id": "-xE_IYQIQUNy",
    "outputId": "67bbf2c3-5d68-4aa5-cc10-7180820bbd05"
   },
   "outputs": [
    {
     "data": {
      "text/plain": [
       "(92, 3)"
      ]
     },
     "execution_count": 11,
     "metadata": {},
     "output_type": "execute_result"
    }
   ],
   "source": [
    "X1.shape"
   ]
  },
  {
   "cell_type": "code",
   "execution_count": 12,
   "metadata": {
    "colab": {
     "base_uri": "https://localhost:8080/",
     "height": 178
    },
    "id": "36oMJasRFHgk",
    "outputId": "d4ca120a-acab-4554-d253-15e6c459b4cf"
   },
   "outputs": [
    {
     "data": {
      "text/html": [
       "<div>\n",
       "<style scoped>\n",
       "    .dataframe tbody tr th:only-of-type {\n",
       "        vertical-align: middle;\n",
       "    }\n",
       "\n",
       "    .dataframe tbody tr th {\n",
       "        vertical-align: top;\n",
       "    }\n",
       "\n",
       "    .dataframe thead th {\n",
       "        text-align: right;\n",
       "    }\n",
       "</style>\n",
       "<table border=\"1\" class=\"dataframe\">\n",
       "  <thead>\n",
       "    <tr style=\"text-align: right;\">\n",
       "      <th></th>\n",
       "      <th>BandGap</th>\n",
       "    </tr>\n",
       "  </thead>\n",
       "  <tbody>\n",
       "    <tr>\n",
       "      <th>0</th>\n",
       "      <td>2.44</td>\n",
       "    </tr>\n",
       "    <tr>\n",
       "      <th>1</th>\n",
       "      <td>3.02</td>\n",
       "    </tr>\n",
       "    <tr>\n",
       "      <th>2</th>\n",
       "      <td>2.73</td>\n",
       "    </tr>\n",
       "  </tbody>\n",
       "</table>\n",
       "</div><br><label><b>dtype:</b> float64</label>"
      ],
      "text/plain": [
       "0    2.44\n",
       "1    3.02\n",
       "2    2.73\n",
       "Name: BandGap, dtype: float64"
      ]
     },
     "execution_count": 12,
     "metadata": {},
     "output_type": "execute_result"
    }
   ],
   "source": [
    "Y1 = ML_Balanced_Data['BandGap']\n",
    "Y1.head(3)"
   ]
  },
  {
   "cell_type": "code",
   "execution_count": 13,
   "metadata": {
    "id": "d0ii36Vh7Ig2"
   },
   "outputs": [],
   "source": [
    "#X = preprocessing.scale(X1)\n",
    "X = X1.copy()"
   ]
  },
  {
   "cell_type": "code",
   "execution_count": 14,
   "metadata": {
    "id": "8byprmsW7Ig3",
    "scrolled": true
   },
   "outputs": [],
   "source": [
    "import csv\n",
    "import os\n",
    "from sklearn.cross_decomposition import PLSRegression\n",
    "from sklearn import svm\n",
    "from sklearn.svm import SVR\n",
    "import xgboost as xgb"
   ]
  },
  {
   "cell_type": "markdown",
   "metadata": {
    "id": "P4ku2QPXhF6Y"
   },
   "source": [
    "## So we are using 25 % for testing"
   ]
  },
  {
   "cell_type": "markdown",
   "metadata": {
    "id": "SiGZo2y5Pgv6"
   },
   "source": [
    "## Ridge"
   ]
  },
  {
   "cell_type": "code",
   "execution_count": 15,
   "metadata": {
    "id": "I83UKekLtW6l"
   },
   "outputs": [],
   "source": [
    "param_grid = {\n",
    "    'alpha': [1e-8, 1e-7, 1e-6, 1e-5, 1e-4],  # around 1e-7\n",
    "    'copy_X': [True],                         # fixed as True\n",
    "    'fit_intercept': [True],                  # fixed as True\n",
    "    'max_iter': [5000, 10000, 20000],        # around 10000\n",
    "    'positive': [False],                      # fixed as False\n",
    "    'solver': ['auto'],                       # fixed as 'auto'\n",
    "    'tol': [0.001, 0.01, 0.1]                # around 0.01\n",
    "}\n"
   ]
  },
  {
   "cell_type": "code",
   "execution_count": 16,
   "metadata": {
    "colab": {
     "base_uri": "https://localhost:8080/"
    },
    "id": "o-ugkvGZtX-9",
    "outputId": "73644407-3a53-4cbb-a918-e8a9d4d126d7"
   },
   "outputs": [
    {
     "name": "stdout",
     "output_type": "stream",
     "text": [
      "Fitting 20 folds for each of 45 candidates, totalling 900 fits\n",
      "          alpha  copy_X  fit_intercept  max_iter  positive solver    tol\n",
      "0  1.000000e-08    True           True      5000     False   auto  0.001\n"
     ]
    }
   ],
   "source": [
    "from sklearn.linear_model import Ridge\n",
    "from sklearn.model_selection import train_test_split, GridSearchCV\n",
    "import csv\n",
    "from shutil import copyfile\n",
    "import pandas as pd\n",
    "import os\n",
    "\n",
    "# Split data\n",
    "X_train, X_test, Y_train, Y_test = train_test_split(X, Y1, test_size=0.25, random_state=42)\n",
    "\n",
    "# Grid search\n",
    "grid = GridSearchCV(\n",
    "    Ridge(random_state=None),\n",
    "    param_grid,\n",
    "    cv=20,\n",
    "    scoring='neg_mean_squared_error',\n",
    "    verbose=1,\n",
    "    n_jobs=-1\n",
    ")\n",
    "grid.fit(X_train, Y_train)\n",
    "\n",
    "# Best estimator and params\n",
    "best_model = grid.best_estimator_\n",
    "best_params = grid.best_params_\n",
    "\n",
    "# Save results to CSV\n",
    "with open('ridge_out.csv', mode='w', newline='') as out_file:\n",
    "    out_writer = csv.writer(out_file)\n",
    "    out_writer.writerow(param_grid.keys())  # header\n",
    "    out_writer.writerow([best_params[param] for param in param_grid.keys()])\n",
    "\n",
    "# Backup file\n",
    "copyfile('ridge_out.csv', 'cross-validation-ridge-out.csv')\n",
    "\n",
    "# Read & print results\n",
    "data_stat = pd.read_csv('ridge_out.csv')\n",
    "print(data_stat)\n",
    "\n",
    "# Cleanup\n",
    "try:\n",
    "    os.remove(\"ridge_out.csv\")\n",
    "except OSError:\n",
    "    pass\n"
   ]
  },
  {
   "cell_type": "code",
   "execution_count": 17,
   "metadata": {
    "id": "jP_5aW59Pgv6"
   },
   "outputs": [],
   "source": [
    "# Fitting 20 folds for each of 45 candidates, totalling 900 fits\n",
    "#           alpha  copy_X  fit_intercept  max_iter  positive solver    tol\n",
    "# 0  1.000000e-08    True           True      5000     False   auto  0.001"
   ]
  },
  {
   "cell_type": "code",
   "execution_count": 18,
   "metadata": {
    "colab": {
     "base_uri": "https://localhost:8080/"
    },
    "id": "zE9Azr_MPgv7",
    "outputId": "1ff32580-331b-4e12-f849-8864ed22276e"
   },
   "outputs": [
    {
     "name": "stdout",
     "output_type": "stream",
     "text": [
      "       RMSE-Train  $R^{2}$ train  RMSE-test  R$^2$ test\n",
      "count   20.000000      20.000000  20.000000   20.000000\n",
      "mean     0.313324       0.926418   0.300230    0.922526\n",
      "std      0.025267       0.012307   0.078669    0.043447\n",
      "min      0.262069       0.904581   0.163365    0.823293\n",
      "25%      0.294608       0.914967   0.245544    0.910015\n",
      "50%      0.316786       0.926036   0.298850    0.932541\n",
      "75%      0.331374       0.932986   0.362812    0.952127\n",
      "max      0.348463       0.947813   0.439434    0.976208\n"
     ]
    }
   ],
   "source": [
    "for n in range (0,20,1):\n",
    "        X_train, X_test, Y_train, Y_test = train_test_split(X, Y1, test_size =0.25, random_state=n)\n",
    "        model = Ridge(alpha=1.000000e-08, fit_intercept= True, max_iter=5000, positive = False, solver='auto', tol=0.001, random_state=n)\n",
    "        model.fit(X_train, Y_train)\n",
    "     ## ## model evaluation for training set\n",
    "        from sklearn.metrics import mean_squared_error\n",
    "        from sklearn.metrics import r2_score\n",
    "        y_train_predict = model.predict(X_train)\n",
    "        rmse_train = (np.sqrt(mean_squared_error(Y_train, y_train_predict)))\n",
    "        r2_train = r2_score(Y_train, y_train_predict)\n",
    "        y_test_predict = model.predict(X_test)\n",
    "        rmse_test = (np.sqrt(mean_squared_error(Y_test, y_test_predict)))\n",
    "        r2_test = r2_score(Y_test, y_test_predict)\n",
    "        with open('out.csv', mode='a') as out_file:\n",
    "            out_writer = csv.writer(out_file, delimiter=',', quotechar='\"', quoting=csv.QUOTE_MINIMAL)\n",
    "            out_writer.writerow(['%s' %n, '{}'.format(rmse_train) ,'{}'.format(r2_train), '{}'.format(rmse_test), '{}'.format(r2_test)])\n",
    "            out_file.close()\n",
    "from shutil import copyfile\n",
    "copyfile('out.csv', 'cross-validation-out.csv')\n",
    "###here we import the out.csv file and printthe statistics\n",
    "data_stat=pd.read_csv('out.csv',  names = [\"RMSE-Train\", \"$R^{2}$ train\", \"RMSE-test\", \"R$^2$ test\"])\n",
    "print(data_stat.describe())\n",
    "#Removing out.csv file\n",
    "try:\n",
    "    os.remove(\"out.csv\")\n",
    "except OSError:\n",
    "    pass"
   ]
  },
  {
   "cell_type": "code",
   "execution_count": 19,
   "metadata": {
    "id": "1WG-lEZaPgv7"
   },
   "outputs": [],
   "source": [
    "# RMSE-Train  $R^{2}$ train  RMSE-test  R$^2$ test\n",
    "# count   20.000000      20.000000  20.000000   20.000000\n",
    "# mean     0.313324       0.926418   0.300230    0.922526\n",
    "# std      0.025267       0.012307   0.078669    0.043447\n",
    "# min      0.262069       0.904581   0.163365    0.823293\n",
    "# 25%      0.294608       0.914967   0.245544    0.910015\n",
    "# 50%      0.316786       0.926036   0.298850    0.932541\n",
    "# 75%      0.331374       0.932986   0.362812    0.952127\n",
    "# max      0.348463       0.947813   0.439434    0.976208"
   ]
  },
  {
   "cell_type": "code",
   "execution_count": 20,
   "metadata": {
    "colab": {
     "base_uri": "https://localhost:8080/"
    },
    "id": "pBnRk57mPgv7",
    "outputId": "1040cdec-2d54-463d-b0fd-691c06fdb220"
   },
   "outputs": [
    {
     "name": "stdout",
     "output_type": "stream",
     "text": [
      "Parameters currently in use:\n",
      "\n",
      "{'alpha': 1e-08, 'copy_X': True, 'fit_intercept': True, 'max_iter': 5000, 'positive': False, 'random_state': 19, 'solver': 'auto', 'tol': 0.001}\n"
     ]
    }
   ],
   "source": [
    "print('Parameters currently in use:\\n')\n",
    "print(model.get_params())"
   ]
  },
  {
   "cell_type": "markdown",
   "metadata": {
    "id": "dQDVp3YTPgv7"
   },
   "source": [
    "## LASSO"
   ]
  },
  {
   "cell_type": "code",
   "execution_count": 21,
   "metadata": {
    "colab": {
     "base_uri": "https://localhost:8080/"
    },
    "id": "g8X5Nta6riji",
    "outputId": "acde72a7-d703-4072-937f-e7e5e6c8d621"
   },
   "outputs": [
    {
     "name": "stdout",
     "output_type": "stream",
     "text": [
      "Fitting 20 folds for each of 90 candidates, totalling 1800 fits\n",
      "     alpha  max_iter     tol  fit_intercept\n",
      "0  0.00001      1000  0.0001           True\n"
     ]
    }
   ],
   "source": [
    "from sklearn.linear_model import Lasso\n",
    "from sklearn.model_selection import train_test_split, GridSearchCV\n",
    "import csv\n",
    "from shutil import copyfile\n",
    "import pandas as pd\n",
    "import os\n",
    "\n",
    "# Example param_grid with important Lasso hyperparameters\n",
    "param_grid = {\n",
    "    'alpha': [1e-5, 1e-4, 1e-3, 1e-2, 1e-1],\n",
    "    'max_iter': [1000, 10000, 100000],\n",
    "    'tol': [1e-4, 1e-3, 1e-2],\n",
    "    'fit_intercept': [True, False]\n",
    "}\n",
    "\n",
    "# Split data\n",
    "X_train, X_test, Y_train, Y_test = train_test_split(X, Y1, test_size=0.25, random_state=42)\n",
    "\n",
    "# Apply GridSearchCV\n",
    "grid = GridSearchCV(\n",
    "    Lasso(random_state=42),\n",
    "    param_grid,\n",
    "    cv=20,\n",
    "    scoring='neg_mean_squared_error',\n",
    "    verbose=1,\n",
    "    n_jobs=-1\n",
    ")\n",
    "grid.fit(X_train, Y_train)\n",
    "\n",
    "# Get best model and parameters\n",
    "best_model = grid.best_estimator_\n",
    "best_params = grid.best_params_\n",
    "\n",
    "# Save results to CSV\n",
    "with open('lasso_out.csv', mode='w', newline='') as out_file:\n",
    "    out_writer = csv.writer(out_file)\n",
    "    out_writer.writerow(param_grid.keys())  # Header\n",
    "    out_writer.writerow([best_params[param] for param in param_grid.keys()])\n",
    "\n",
    "# Copy for later use\n",
    "copyfile('lasso_out.csv', 'cross-validation-lasso-out.csv')\n",
    "\n",
    "# Load and display summary\n",
    "data_stat = pd.read_csv('lasso_out.csv')\n",
    "print(data_stat)\n",
    "\n",
    "# Cleanup temporary file\n",
    "try:\n",
    "    os.remove(\"lasso_out.csv\")\n",
    "except OSError:\n",
    "    pass\n"
   ]
  },
  {
   "cell_type": "code",
   "execution_count": 22,
   "metadata": {
    "id": "qxCq1G4vPgv7"
   },
   "outputs": [],
   "source": [
    "# Fitting 20 folds for each of 90 candidates, totalling 1800 fits\n",
    "#      alpha  max_iter     tol  fit_intercept\n",
    "# 0  0.00001      1000  0.0001           True"
   ]
  },
  {
   "cell_type": "markdown",
   "metadata": {
    "id": "6J7iFuR7Pgv7"
   },
   "source": [
    "## If we use above best hyperparameter found by grid search CV"
   ]
  },
  {
   "cell_type": "code",
   "execution_count": 23,
   "metadata": {
    "colab": {
     "base_uri": "https://localhost:8080/"
    },
    "id": "myhG0gnkPgv7",
    "outputId": "f6eef51b-f267-4bbb-f58c-2c442b455f92"
   },
   "outputs": [
    {
     "name": "stdout",
     "output_type": "stream",
     "text": [
      "       RMSE-Train  $R^{2}$ train  RMSE-test  R$^2$ test\n",
      "count   20.000000      20.000000  20.000000   20.000000\n",
      "mean     0.340749       0.913070   0.316429    0.913875\n",
      "std      0.025001       0.013467   0.081970    0.046252\n",
      "min      0.283879       0.888331   0.158134    0.816508\n",
      "25%      0.323617       0.904562   0.250508    0.898196\n",
      "50%      0.342457       0.912863   0.324332    0.922717\n",
      "75%      0.361831       0.921263   0.376577    0.946903\n",
      "max      0.378268       0.936336   0.468792    0.977707\n"
     ]
    }
   ],
   "source": [
    "for n in range (0,20,1):\n",
    "        X_train, X_test, Y_train, Y_test = train_test_split(X, Y1, test_size =0.25, random_state=n)\n",
    "        #model = Lasso(alpha= 1.000000e-08, fit_intercept= True, max_iter= 500, positive= True, precompute= False, random_state= n,selection= 'random', tol= Flase, warm_start= False)\n",
    "        model = Lasso(alpha=0.00001,max_iter=1000,random_state=n,fit_intercept= True, positive= True,precompute= False,selection= 'random', tol= 0.0001, warm_start= False)\n",
    "        model.fit(X_train, Y_train)\n",
    "     ## ## model evaluation for training set\n",
    "        from sklearn.metrics import mean_squared_error\n",
    "        from sklearn.metrics import r2_score\n",
    "        y_train_predict = model.predict(X_train)\n",
    "        rmse_train = (np.sqrt(mean_squared_error(Y_train, y_train_predict)))\n",
    "        r2_train = r2_score(Y_train, y_train_predict)\n",
    "        y_test_predict = model.predict(X_test)\n",
    "        rmse_test = (np.sqrt(mean_squared_error(Y_test, y_test_predict)))\n",
    "        r2_test = r2_score(Y_test, y_test_predict)\n",
    "        with open('out.csv', mode='a') as out_file:\n",
    "            out_writer = csv.writer(out_file, delimiter=',', quotechar='\"', quoting=csv.QUOTE_MINIMAL)\n",
    "            out_writer.writerow(['%s' %n, '{}'.format(rmse_train) ,'{}'.format(r2_train), '{}'.format(rmse_test), '{}'.format(r2_test)])\n",
    "            out_file.close()\n",
    "from shutil import copyfile\n",
    "copyfile('out.csv', 'cross-validation-out.csv')\n",
    "###here we import the out.csv file and printthe statistics\n",
    "data_stat=pd.read_csv('out.csv',  names = [\"RMSE-Train\", \"$R^{2}$ train\", \"RMSE-test\", \"R$^2$ test\"])\n",
    "print(data_stat.describe())\n",
    "#Removing out.csv file\n",
    "try:\n",
    "    os.remove(\"out.csv\")\n",
    "except OSError:\n",
    "    pass"
   ]
  },
  {
   "cell_type": "code",
   "execution_count": 24,
   "metadata": {
    "id": "Wg15oCFesDAF"
   },
   "outputs": [],
   "source": [
    "# RMSE-Train  $R^{2}$ train  RMSE-test  R$^2$ test\n",
    "# count   20.000000      20.000000  20.000000   20.000000\n",
    "# mean     0.340749       0.913070   0.316429    0.913875\n",
    "# std      0.025001       0.013467   0.081970    0.046252\n",
    "# min      0.283879       0.888331   0.158134    0.816508\n",
    "# 25%      0.323617       0.904562   0.250508    0.898196\n",
    "# 50%      0.342457       0.912863   0.324332    0.922717\n",
    "# 75%      0.361831       0.921263   0.376577    0.946903\n",
    "# max      0.378268       0.936336   0.468792    0.977707"
   ]
  },
  {
   "cell_type": "markdown",
   "metadata": {
    "id": "pQJ3Km__Pgv7"
   },
   "source": [
    "# If I perfrom small modiification in hyperparameter, I am getting better result"
   ]
  },
  {
   "cell_type": "code",
   "execution_count": 25,
   "metadata": {
    "colab": {
     "base_uri": "https://localhost:8080/"
    },
    "id": "aJrPpxbCPgv8",
    "outputId": "2de45b9f-5de9-405d-c9d3-0af2d44aa387"
   },
   "outputs": [
    {
     "name": "stdout",
     "output_type": "stream",
     "text": [
      "       RMSE-Train  $R^{2}$ train  RMSE-test  R$^2$ test\n",
      "count   20.000000      20.000000  20.000000   20.000000\n",
      "mean     0.313333       0.926414   0.300031    0.922584\n",
      "std      0.025266       0.012307   0.078866    0.043501\n",
      "min      0.262084       0.904574   0.162529    0.823417\n",
      "25%      0.294616       0.914963   0.245792    0.910003\n",
      "50%      0.316793       0.926033   0.298741    0.932416\n",
      "75%      0.331381       0.932982   0.362804    0.952097\n",
      "max      0.348470       0.947810   0.439101    0.976451\n"
     ]
    }
   ],
   "source": [
    "for n in range (0,20,1):\n",
    "        X_train, X_test, Y_train, Y_test = train_test_split(X, Y1, test_size =0.25, random_state=n)\n",
    "        #model = Lasso(alpha= 1.000000e-08, fit_intercept= True, max_iter= 500, positive= True, precompute= False, random_state= n,selection= 'random', tol= Flase, warm_start= False)\n",
    "        model = Lasso(alpha=0.00001,max_iter=100000,random_state=n,fit_intercept= True, positive= False,precompute= False,selection= 'random', tol= False, warm_start= False)\n",
    "        model.fit(X_train, Y_train)\n",
    "     ## ## model evaluation for training set\n",
    "        from sklearn.metrics import mean_squared_error\n",
    "        from sklearn.metrics import r2_score\n",
    "        y_train_predict = model.predict(X_train)\n",
    "        rmse_train = (np.sqrt(mean_squared_error(Y_train, y_train_predict)))\n",
    "        r2_train = r2_score(Y_train, y_train_predict)\n",
    "        y_test_predict = model.predict(X_test)\n",
    "        rmse_test = (np.sqrt(mean_squared_error(Y_test, y_test_predict)))\n",
    "        r2_test = r2_score(Y_test, y_test_predict)\n",
    "        with open('out.csv', mode='a') as out_file:\n",
    "            out_writer = csv.writer(out_file, delimiter=',', quotechar='\"', quoting=csv.QUOTE_MINIMAL)\n",
    "            out_writer.writerow(['%s' %n, '{}'.format(rmse_train) ,'{}'.format(r2_train), '{}'.format(rmse_test), '{}'.format(r2_test)])\n",
    "            out_file.close()\n",
    "from shutil import copyfile\n",
    "copyfile('out.csv', 'cross-validation-out.csv')\n",
    "###here we import the out.csv file and printthe statistics\n",
    "data_stat=pd.read_csv('out.csv',  names = [\"RMSE-Train\", \"$R^{2}$ train\", \"RMSE-test\", \"R$^2$ test\"])\n",
    "print(data_stat.describe())\n",
    "#Removing out.csv file\n",
    "try:\n",
    "    os.remove(\"out.csv\")\n",
    "except OSError:\n",
    "    pass"
   ]
  },
  {
   "cell_type": "code",
   "execution_count": 26,
   "metadata": {
    "id": "U1Egax07Pgv8"
   },
   "outputs": [],
   "source": [
    "# RMSE-Train  $R^{2}$ train  RMSE-test  R$^2$ test\n",
    "#count   20.000000      20.000000  20.000000   20.000000\n",
    "#mean     0.313333       0.926414   0.300031    0.922584\n",
    "#std      0.025266       0.012307   0.078866    0.043501\n",
    "#min      0.262084       0.904574   0.162529    0.823417\n",
    "#25%      0.294616       0.914963   0.245792    0.910003\n",
    "#50%      0.316793       0.926033   0.298741    0.932416\n",
    "#75%      0.331381       0.932982   0.362804    0.952097\n",
    "#max      0.348470       0.947810   0.439101    0.976451"
   ]
  },
  {
   "cell_type": "code",
   "execution_count": 27,
   "metadata": {
    "colab": {
     "base_uri": "https://localhost:8080/"
    },
    "id": "Qo4A6XAijwIu",
    "outputId": "04e56612-5385-4c04-c331-7c3611feac78"
   },
   "outputs": [
    {
     "name": "stdout",
     "output_type": "stream",
     "text": [
      "Parameters currently in use:\n",
      "\n",
      "{'alpha': 1e-05, 'copy_X': True, 'fit_intercept': True, 'max_iter': 100000, 'positive': False, 'precompute': False, 'random_state': 19, 'selection': 'random', 'tol': False, 'warm_start': False}\n"
     ]
    }
   ],
   "source": [
    "print('Parameters currently in use:\\n')\n",
    "print(model.get_params())"
   ]
  },
  {
   "cell_type": "markdown",
   "metadata": {
    "id": "iFssAT2rAfDY"
   },
   "source": [
    "## SVR"
   ]
  },
  {
   "cell_type": "code",
   "execution_count": 28,
   "metadata": {
    "id": "ghOuQWUHPgv8"
   },
   "outputs": [],
   "source": [
    "from sklearn.model_selection import RandomizedSearchCV\n",
    "from sklearn.svm import SVR\n",
    "from shutil import copyfile\n",
    "from sklearn.preprocessing import StandardScaler"
   ]
  },
  {
   "cell_type": "code",
   "execution_count": 29,
   "metadata": {
    "colab": {
     "base_uri": "https://localhost:8080/"
    },
    "id": "qZipng27pORz",
    "outputId": "2e0b05f9-a98c-406a-dfae-9f740697278e"
   },
   "outputs": [
    {
     "name": "stdout",
     "output_type": "stream",
     "text": [
      "Fitting 20 folds for each of 80 candidates, totalling 1600 fits\n",
      "   C  epsilon  gamma\n",
      "0  4      0.1   0.01\n"
     ]
    }
   ],
   "source": [
    "import pandas as pd\n",
    "import csv\n",
    "import os\n",
    "from shutil import copyfile\n",
    "from sklearn.model_selection import train_test_split, GridSearchCV\n",
    "from sklearn.svm import SVR\n",
    "\n",
    "# Example param_grid with only important SVR hyperparameters\n",
    "param_grid = {\n",
    "    'C': [0.1, 1, 4, 10],\n",
    "    'epsilon': [0.001, 0.01, 0.1, 0.5],\n",
    "    'gamma': ['scale', 'auto', 0.01, 0.1, 1]\n",
    "}\n",
    "\n",
    "# Split data\n",
    "X_train, X_test, Y_train, Y_test = train_test_split(X, Y1, test_size=0.25, random_state=42)\n",
    "\n",
    "# Apply GridSearchCV\n",
    "grid = GridSearchCV(\n",
    "    SVR(kernel='rbf'),\n",
    "    param_grid,\n",
    "    cv=20,\n",
    "    scoring='neg_mean_squared_error',\n",
    "    verbose=1,\n",
    "    n_jobs=-1\n",
    ")\n",
    "grid.fit(X_train, Y_train)\n",
    "\n",
    "# Get best model and parameters\n",
    "best_model = grid.best_estimator_\n",
    "best_params = grid.best_params_\n",
    "\n",
    "# Save results to CSV\n",
    "with open('out.csv', mode='w', newline='') as out_file:\n",
    "    out_writer = csv.writer(out_file)\n",
    "    out_writer.writerow(param_grid.keys())  # Header\n",
    "    out_writer.writerow([best_params[param] for param in param_grid.keys()])\n",
    "\n",
    "# Copy for later use\n",
    "copyfile('out.csv', 'cross-validation-out.csv')\n",
    "\n",
    "# Load and display summary\n",
    "data_stat = pd.read_csv('out.csv')\n",
    "print(data_stat)\n",
    "\n",
    "# Cleanup temporary file\n",
    "try:\n",
    "    os.remove(\"out.csv\")\n",
    "except OSError:\n",
    "    pass\n"
   ]
  },
  {
   "cell_type": "code",
   "execution_count": 30,
   "metadata": {
    "colab": {
     "base_uri": "https://localhost:8080/"
    },
    "id": "XxNtaiLzPgv8",
    "outputId": "6b743eb9-b79e-4feb-dd89-8d878d2ff69f"
   },
   "outputs": [
    {
     "name": "stdout",
     "output_type": "stream",
     "text": [
      "       RMSE-Train  $R^{2}$ train  RMSE-test  R$^2$ test\n",
      "count   20.000000      20.000000  20.000000   20.000000\n",
      "mean     0.289550       0.936526   0.560271    0.730144\n",
      "std      0.040318       0.016952   0.231046    0.169360\n",
      "min      0.196382       0.905784   0.248774    0.412255\n",
      "25%      0.267906       0.926551   0.380283    0.582031\n",
      "50%      0.291218       0.935685   0.532938    0.744517\n",
      "75%      0.316128       0.947225   0.797139    0.888693\n",
      "max      0.341509       0.965801   0.966558    0.950857\n"
     ]
    }
   ],
   "source": [
    "for n in range (0,20,1):\n",
    "        X_train, X_test, Y_train, Y_test = train_test_split(X, Y1, test_size =0.25, random_state=n)\n",
    "        model = SVR(gamma=0.01, C=4.0, tol= 0.001, epsilon=0.1)\n",
    "        model.fit(X_train, Y_train)\n",
    "     ## ## model evaluation for training set\n",
    "        from sklearn.metrics import mean_squared_error\n",
    "        from sklearn.metrics import r2_score\n",
    "        y_train_predict = model.predict(X_train)\n",
    "        rmse_train = (np.sqrt(mean_squared_error(Y_train, y_train_predict)))\n",
    "        r2_train = r2_score(Y_train, y_train_predict)\n",
    "        y_test_predict = model.predict(X_test)\n",
    "        rmse_test = (np.sqrt(mean_squared_error(Y_test, y_test_predict)))\n",
    "        r2_test = r2_score(Y_test, y_test_predict)\n",
    "        with open('out.csv', mode='a') as out_file:\n",
    "            out_writer = csv.writer(out_file, delimiter=',', quotechar='\"', quoting=csv.QUOTE_MINIMAL)\n",
    "            out_writer.writerow(['%s' %n, '{}'.format(rmse_train) ,'{}'.format(r2_train), '{}'.format(rmse_test), '{}'.format(r2_test)])\n",
    "            out_file.close()\n",
    "from shutil import copyfile\n",
    "copyfile('out.csv', 'cross-validation-out.csv')\n",
    "###here we import the out.csv file and printthe statistics\n",
    "data_stat=pd.read_csv('out.csv',  names = [\"RMSE-Train\", \"$R^{2}$ train\", \"RMSE-test\", \"R$^2$ test\"])\n",
    "print(data_stat.describe())\n",
    "#Removing out.csv file\n",
    "try:\n",
    "    os.remove(\"out.csv\")\n",
    "except OSError:\n",
    "    pass"
   ]
  },
  {
   "cell_type": "code",
   "execution_count": 31,
   "metadata": {
    "id": "otqiV0BOPgv8"
   },
   "outputs": [],
   "source": [
    "# RMSE-Train  $R^{2}$ train  RMSE-test  R$^2$ test\n",
    "# count   20.000000      20.000000  20.000000   20.000000\n",
    "# mean     0.289550       0.936526   0.560271    0.730144\n",
    "# std      0.040318       0.016952   0.231046    0.169360\n",
    "# min      0.196382       0.905784   0.248774    0.412255\n",
    "# 25%      0.267906       0.926551   0.380283    0.582031\n",
    "# 50%      0.291218       0.935685   0.532938    0.744517\n",
    "# 75%      0.316128       0.947225   0.797139    0.888693\n",
    "# max      0.341509       0.965801   0.966558    0.950857"
   ]
  },
  {
   "cell_type": "code",
   "execution_count": 32,
   "metadata": {
    "colab": {
     "base_uri": "https://localhost:8080/"
    },
    "id": "HG0lgXhVPgv8",
    "outputId": "d65e4b0c-aff4-46b2-9fa4-a59afbfef565"
   },
   "outputs": [
    {
     "name": "stdout",
     "output_type": "stream",
     "text": [
      "Parameters currently in use:\n",
      "\n",
      "{'C': 4.0, 'cache_size': 200, 'coef0': 0.0, 'degree': 3, 'epsilon': 0.1, 'gamma': 0.01, 'kernel': 'rbf', 'max_iter': -1, 'shrinking': True, 'tol': 0.001, 'verbose': False}\n"
     ]
    }
   ],
   "source": [
    "print('Parameters currently in use:\\n')\n",
    "print(model.get_params())"
   ]
  },
  {
   "cell_type": "markdown",
   "metadata": {
    "id": "zDWW2vxFPgv8"
   },
   "source": [
    "## XGBRegressor"
   ]
  },
  {
   "cell_type": "code",
   "execution_count": 44,
   "metadata": {
    "colab": {
     "base_uri": "https://localhost:8080/"
    },
    "id": "5KtNpJL0PgwE",
    "outputId": "b14d1d9f-e949-4a1e-829a-d7452a873ad1"
   },
   "outputs": [
    {
     "name": "stdout",
     "output_type": "stream",
     "text": [
      "Fitting 20 folds for each of 324 candidates, totalling 6480 fits\n",
      "   max_depth  learning_rate  n_estimators  min_child_weight  gamma\n",
      "0          5            0.2           100                 5    0.1\n"
     ]
    }
   ],
   "source": [
    "from xgboost import XGBRegressor\n",
    "\n",
    "# Example param_grid with only important XGBoost hyperparameters\n",
    "param_grid = {\n",
    "    'max_depth': [3, 5, 7],\n",
    "    'learning_rate': [0.01, 0.05, 0.1, 0.2],\n",
    "    'n_estimators': [100, 300, 500],\n",
    "    #'subsample': [0.6, 0.8, 1.0],\n",
    "    #'colsample_bytree': [0.6, 0.8, 1.0],\n",
    "    'min_child_weight': [1, 3, 5],\n",
    "    'gamma': [0, 0.1, 0.3]\n",
    "}\n",
    "\n",
    "# Split data\n",
    "X_train, X_test, Y_train, Y_test = train_test_split(X, Y1, test_size=0.25, random_state=42)\n",
    "\n",
    "# Apply GridSearchCV\n",
    "grid = GridSearchCV(\n",
    "    XGBRegressor(objective='reg:linear', random_state=42),\n",
    "    param_grid,\n",
    "    cv=20,\n",
    "    scoring='neg_mean_squared_error',\n",
    "    verbose=1,\n",
    "    n_jobs=-1\n",
    ")\n",
    "grid.fit(X_train, Y_train)\n",
    "\n",
    "# Get best model and parameters\n",
    "best_model = grid.best_estimator_\n",
    "best_params = grid.best_params_\n",
    "\n",
    "# Save results to CSV\n",
    "with open('out.csv', mode='w', newline='') as out_file:\n",
    "    out_writer = csv.writer(out_file)\n",
    "    out_writer.writerow(param_grid.keys())  # Header with hyperparameter names\n",
    "    out_writer.writerow([best_params[param] for param in param_grid.keys()])\n",
    "\n",
    "# Copy for later use\n",
    "copyfile('out.csv', 'cross-validation-out.csv')\n",
    "\n",
    "# Load and display summary\n",
    "data_stat = pd.read_csv('out.csv')\n",
    "print(data_stat)\n",
    "\n",
    "# Cleanup\n",
    "try:\n",
    "    os.remove(\"out.csv\")\n",
    "except OSError:\n",
    "    pass\n"
   ]
  },
  {
   "cell_type": "code",
   "execution_count": 34,
   "metadata": {
    "id": "9tcCOF-PXRkE"
   },
   "outputs": [],
   "source": [
    "# Fitting 20 folds for each of 324 candidates, totalling 6480 fits\n",
    "#    max_depth  learning_rate  n_estimators  min_child_weight  gamma\n",
    "# 0          5            0.2           100                 5    0.1"
   ]
  },
  {
   "cell_type": "markdown",
   "metadata": {
    "id": "muWfLNYdU50n"
   },
   "source": [
    "## Use above parameter"
   ]
  },
  {
   "cell_type": "code",
   "execution_count": 45,
   "metadata": {
    "colab": {
     "base_uri": "https://localhost:8080/"
    },
    "id": "V_VQmsJ8VGaQ",
    "outputId": "efeda7b3-7f4b-4b35-9a3e-ac94805df90f"
   },
   "outputs": [
    {
     "name": "stdout",
     "output_type": "stream",
     "text": [
      "       RMSE-Train  $R^{2}$ train  RMSE-test  R$^2$ test\n",
      "count   20.000000      20.000000  20.000000   20.000000\n",
      "mean     0.259171       0.949351   0.410157    0.861973\n",
      "std      0.027366       0.011457   0.080748    0.052085\n",
      "min      0.208988       0.923189   0.259135    0.710186\n",
      "25%      0.241735       0.939919   0.372511    0.836394\n",
      "50%      0.254806       0.948770   0.428234    0.864068\n",
      "75%      0.282077       0.959619   0.462599    0.898720\n",
      "max      0.307934       0.967523   0.570028    0.946679\n"
     ]
    }
   ],
   "source": [
    "for n in range (0,20,1):\n",
    "        X_train, X_test, Y_train, Y_test = train_test_split(X, Y1, test_size =0.25, random_state=n)\n",
    "        #model = LinearRegression(fit_intercept=True)\n",
    "        #model = PLSRegression()\n",
    "        #model = Ridge(alpha=0.0000001, max_iter=10000, tol=0.001)\n",
    "        #model = Lasso(alpha=0.00001,max_iter=100000,random_state=n)\n",
    "        #model = Lasso(alpha=0.001,max_iter=100000)\n",
    "        # model = KernelRidge(kernel='polynomial', alpha=0.000000001, degree= 5)\n",
    "        #model = KernelRidge(kernel='rbf', gamma=0.001, alpha=0.0001)\n",
    "        #model = GradientBoostingRegressor(n_estimators=500, max_depth = 10, learning_rate=0.01)\n",
    "        #kernel = C(1.0, (1e-3, 1e3)) * RBF(10, (1e-2, 1e2))\n",
    "        #model = GaussianProcessRegressor(kernel=kernel, n_restarts_optimizer=9)\n",
    "        #model = RandomForestRegressor(n_estimators=1000, max_features=2,max_depth=8)\n",
    "        #model = RandomForestRegressor(n_estimators=600,max_features=13,max_depth=15,random_state=n)\n",
    "        model = xgb.XGBRegressor(objective=\"reg:linear\",max_depth=5, learning_rate=0.2, n_estimators=100, min_child_weight=5, gamma= 0.1,random_state=n)\n",
    "        #model = SVR(gamma='scale', C=8.0, epsilon=0.01)\n",
    "        model.fit(X_train, Y_train)\n",
    "     ## ## model evaluation for training set\n",
    "        from sklearn.metrics import mean_squared_error\n",
    "        from sklearn.metrics import r2_score\n",
    "        y_train_predict = model.predict(X_train)\n",
    "        rmse_train = (np.sqrt(mean_squared_error(Y_train, y_train_predict)))\n",
    "        r2_train = r2_score(Y_train, y_train_predict)\n",
    "        y_test_predict = model.predict(X_test)\n",
    "        rmse_test = (np.sqrt(mean_squared_error(Y_test, y_test_predict)))\n",
    "        r2_test = r2_score(Y_test, y_test_predict)\n",
    "        with open('out.csv', mode='a') as out_file:\n",
    "            out_writer = csv.writer(out_file, delimiter=',', quotechar='\"', quoting=csv.QUOTE_MINIMAL)\n",
    "            out_writer.writerow(['%s' %n, '{}'.format(rmse_train) ,'{}'.format(r2_train), '{}'.format(rmse_test), '{}'.format(r2_test)])\n",
    "            out_file.close()\n",
    "from shutil import copyfile\n",
    "copyfile('out.csv', 'cross-validation-out.csv')\n",
    "###here we import the out.csv file and printthe statistics\n",
    "data_stat=pd.read_csv('out.csv',  names = [\"RMSE-Train\", \"$R^{2}$ train\", \"RMSE-test\", \"R$^2$ test\"])\n",
    "print(data_stat.describe())\n",
    "#Removing out.csv file\n",
    "try:\n",
    "    os.remove(\"out.csv\")\n",
    "except OSError:\n",
    "    pass"
   ]
  },
  {
   "cell_type": "code",
   "execution_count": 36,
   "metadata": {
    "id": "U5fHMGMoPgwE"
   },
   "outputs": [],
   "source": [
    "#  RMSE-Train  $R^{2}$ train  RMSE-test  R$^2$ test\n",
    "# count   20.000000      20.000000  20.000000   20.000000\n",
    "# mean     0.259171       0.949351   0.410157    0.861973\n",
    "# std      0.027366       0.011457   0.080748    0.052085\n",
    "# min      0.208988       0.923189   0.259135    0.710186\n",
    "# 25%      0.241735       0.939919   0.372511    0.836394\n",
    "# 50%      0.254806       0.948770   0.428234    0.864068\n",
    "# 75%      0.282077       0.959619   0.462599    0.898720\n",
    "# max      0.307934       0.967523   0.570028    0.946679\n"
   ]
  },
  {
   "cell_type": "code",
   "execution_count": 37,
   "metadata": {
    "colab": {
     "base_uri": "https://localhost:8080/"
    },
    "id": "iEFYV4PSPgwE",
    "outputId": "11032349-4f17-416c-f109-1333d2d12c5e"
   },
   "outputs": [
    {
     "name": "stdout",
     "output_type": "stream",
     "text": [
      "Parameters currently in use:\n",
      "\n",
      "{'objective': 'reg:linear', 'base_score': None, 'booster': None, 'callbacks': None, 'colsample_bylevel': None, 'colsample_bynode': None, 'colsample_bytree': None, 'device': None, 'early_stopping_rounds': None, 'enable_categorical': False, 'eval_metric': None, 'feature_types': None, 'feature_weights': None, 'gamma': 0.1, 'grow_policy': None, 'importance_type': None, 'interaction_constraints': None, 'learning_rate': 0.2, 'max_bin': None, 'max_cat_threshold': None, 'max_cat_to_onehot': None, 'max_delta_step': None, 'max_depth': 5, 'max_leaves': None, 'min_child_weight': 5, 'missing': nan, 'monotone_constraints': None, 'multi_strategy': None, 'n_estimators': 100, 'n_jobs': None, 'num_parallel_tree': None, 'random_state': 19, 'reg_alpha': None, 'reg_lambda': None, 'sampling_method': None, 'scale_pos_weight': None, 'subsample': None, 'tree_method': None, 'validate_parameters': None, 'verbosity': None}\n"
     ]
    }
   ],
   "source": [
    "print('Parameters currently in use:\\n')\n",
    "print(model.get_params())"
   ]
  },
  {
   "cell_type": "markdown",
   "metadata": {
    "id": "iMihTYrvW113"
   },
   "source": [
    "## RFR"
   ]
  },
  {
   "cell_type": "code",
   "execution_count": 38,
   "metadata": {
    "colab": {
     "base_uri": "https://localhost:8080/"
    },
    "id": "_6sSDH0TYY9b",
    "outputId": "88d9d16e-8bf0-4c85-f0be-fd70efc857d3"
   },
   "outputs": [
    {
     "name": "stdout",
     "output_type": "stream",
     "text": [
      "Fitting 20 folds for each of 144 candidates, totalling 2880 fits\n",
      "   n_estimators  max_depth  max_features  min_samples_split\n",
      "0           100          5             3                  2\n"
     ]
    }
   ],
   "source": [
    "from sklearn.ensemble import RandomForestRegressor\n",
    "from sklearn.model_selection import train_test_split, GridSearchCV\n",
    "import pandas as pd\n",
    "import csv\n",
    "import os\n",
    "from shutil import copyfile\n",
    "\n",
    "# Example param_grid with only important RandomForest hyperparameters\n",
    "param_grid = {\n",
    "    'n_estimators': [100, 300, 500, 1000],\n",
    "    'max_depth': [5, 10, 15, None],\n",
    "    'max_features': [3, None, None],\n",
    "    'min_samples_split': [2, 5, 10],\n",
    "    #'min_samples_leaf': [1, 2, 4]\n",
    "}\n",
    "\n",
    "# Split data\n",
    "X_train, X_test, Y_train, Y_test = train_test_split(X, Y1, test_size=0.25, random_state=42)\n",
    "\n",
    "# Apply GridSearchCV\n",
    "grid = GridSearchCV(\n",
    "    RandomForestRegressor(random_state=42),\n",
    "    param_grid,\n",
    "    cv=20,\n",
    "    scoring='neg_mean_squared_error',\n",
    "    verbose=1,\n",
    "    n_jobs=-1\n",
    ")\n",
    "grid.fit(X_train, Y_train)\n",
    "\n",
    "# Get best model and parameters\n",
    "best_model = grid.best_estimator_\n",
    "best_params = grid.best_params_\n",
    "\n",
    "# Save results to CSV\n",
    "with open('out.csv', mode='w', newline='') as out_file:\n",
    "    out_writer = csv.writer(out_file)\n",
    "    out_writer.writerow(param_grid.keys())  # Header\n",
    "    out_writer.writerow([best_params[param] for param in param_grid.keys()])\n",
    "\n",
    "# Copy for later use\n",
    "copyfile('out.csv', 'cross-validation-out.csv')\n",
    "\n",
    "# Load and display summary\n",
    "data_stat = pd.read_csv('out.csv')\n",
    "print(data_stat)\n",
    "\n",
    "# Cleanup temporary file\n",
    "try:\n",
    "    os.remove(\"out.csv\")\n",
    "except OSError:\n",
    "    pass\n"
   ]
  },
  {
   "cell_type": "code",
   "execution_count": 39,
   "metadata": {
    "id": "SCc65J-Ig6WE"
   },
   "outputs": [],
   "source": [
    "# Fitting 20 folds for each of 144 candidates, totalling 2880 fits\n",
    "#    n_estimators  max_depth  max_features  min_samples_split\n",
    "# 0           100          5             3                  2"
   ]
  },
  {
   "cell_type": "code",
   "execution_count": 40,
   "metadata": {
    "colab": {
     "base_uri": "https://localhost:8080/"
    },
    "id": "WNrLN6iRgYtv",
    "outputId": "ff600ea6-16c3-42f7-f44a-fed375081be0"
   },
   "outputs": [
    {
     "name": "stdout",
     "output_type": "stream",
     "text": [
      "       RMSE-Train  $R^{2}$ train  RMSE-test  R$^2$ test\n",
      "count   20.000000      20.000000  20.000000   20.000000\n",
      "mean     0.213573       0.965661   0.400174    0.863509\n",
      "std      0.024151       0.007573   0.114778    0.069413\n",
      "min      0.161913       0.952714   0.179869    0.712259\n",
      "25%      0.201457       0.960988   0.339157    0.822908\n",
      "50%      0.213826       0.965992   0.426548    0.865413\n",
      "75%      0.226813       0.970074   0.477542    0.903335\n",
      "max      0.251894       0.981069   0.580145    0.971158\n"
     ]
    }
   ],
   "source": [
    "for n in range (0,20,1):\n",
    "        X_train, X_test, Y_train, Y_test = train_test_split(X, Y1, test_size =0.25, random_state=n)\n",
    "        #model = LinearRegression(fit_intercept=True)\n",
    "        #model = PLSRegression()\n",
    "        #model = Ridge(alpha=0.0000001, max_iter=10000, tol=0.001)\n",
    "        #model = Lasso(alpha=0.00001,max_iter=100000,random_state=n)\n",
    "        #model = Lasso(alpha=0.001,max_iter=100000)\n",
    "        # model = KernelRidge(kernel='polynomial', alpha=0.000000001, degree= 5)\n",
    "        #model = KernelRidge(kernel='rbf', gamma=0.001, alpha=0.0001)\n",
    "        #model = GradientBoostingRegressor(n_estimators=500, max_depth = 10, learning_rate=0.01)\n",
    "        #kernel = C(1.0, (1e-3, 1e3)) * RBF(10, (1e-2, 1e2))\n",
    "        #model = GaussianProcessRegressor(kernel=kernel, n_restarts_optimizer=9)\n",
    "        #model = RandomForestRegressor(n_estimators=1000, max_features=2,max_depth=8)\n",
    "        model = RandomForestRegressor(n_estimators=100,max_features=3,max_depth=5,min_samples_split=2,random_state=n)\n",
    "        #model = xgb.XGBRegressor(objective=\"reg:linear\",random_state=n)\n",
    "        #model = SVR(gamma='scale', C=8.0, epsilon=0.01)\n",
    "        model.fit(X_train, Y_train)\n",
    "     ## ## model evaluation for training set\n",
    "        from sklearn.metrics import mean_squared_error\n",
    "        from sklearn.metrics import r2_score\n",
    "        y_train_predict = model.predict(X_train)\n",
    "        rmse_train = (np.sqrt(mean_squared_error(Y_train, y_train_predict)))\n",
    "        r2_train = r2_score(Y_train, y_train_predict)\n",
    "        y_test_predict = model.predict(X_test)\n",
    "        rmse_test = (np.sqrt(mean_squared_error(Y_test, y_test_predict)))\n",
    "        r2_test = r2_score(Y_test, y_test_predict)\n",
    "        with open('out.csv', mode='a') as out_file:\n",
    "            out_writer = csv.writer(out_file, delimiter=',', quotechar='\"', quoting=csv.QUOTE_MINIMAL)\n",
    "            out_writer.writerow(['%s' %n, '{}'.format(rmse_train) ,'{}'.format(r2_train), '{}'.format(rmse_test), '{}'.format(r2_test)])\n",
    "            out_file.close()\n",
    "from shutil import copyfile\n",
    "copyfile('out.csv', 'cross-validation-out.csv')\n",
    "###here we import the out.csv file and printthe statistics\n",
    "data_stat=pd.read_csv('out.csv',  names = [\"RMSE-Train\", \"$R^{2}$ train\", \"RMSE-test\", \"R$^2$ test\"])\n",
    "print(data_stat.describe())\n",
    "#Removing out.csv file\n",
    "try:\n",
    "    os.remove(\"out.csv\")\n",
    "except OSError:\n",
    "    pass"
   ]
  },
  {
   "cell_type": "code",
   "execution_count": 41,
   "metadata": {
    "id": "TQZV_vZVgtdA"
   },
   "outputs": [],
   "source": [
    "# RMSE-Train  $R^{2}$ train  RMSE-test  R$^2$ test\n",
    "# count   20.000000      20.000000  20.000000   20.000000\n",
    "# mean     0.213573       0.965661   0.400174    0.863509\n",
    "# std      0.024151       0.007573   0.114778    0.069413\n",
    "# min      0.161913       0.952714   0.179869    0.712259\n",
    "# 25%      0.201457       0.960988   0.339157    0.822908\n",
    "# 50%      0.213826       0.965992   0.426548    0.865413\n",
    "# 75%      0.226813       0.970074   0.477542    0.903335\n",
    "# max      0.251894       0.981069   0.580145    0.971158\n"
   ]
  },
  {
   "cell_type": "code",
   "execution_count": 43,
   "metadata": {
    "colab": {
     "base_uri": "https://localhost:8080/"
    },
    "id": "2dySSQh1XOWj",
    "outputId": "a1d2c02e-9291-47c6-c863-b0aa042bc7fc"
   },
   "outputs": [
    {
     "name": "stdout",
     "output_type": "stream",
     "text": [
      "Parameters currently in use:\n",
      "\n",
      "{'bootstrap': True, 'ccp_alpha': 0.0, 'criterion': 'squared_error', 'max_depth': 5, 'max_features': 3, 'max_leaf_nodes': None, 'max_samples': None, 'min_impurity_decrease': 0.0, 'min_samples_leaf': 1, 'min_samples_split': 2, 'min_weight_fraction_leaf': 0.0, 'monotonic_cst': None, 'n_estimators': 100, 'n_jobs': None, 'oob_score': False, 'random_state': 19, 'verbose': 0, 'warm_start': False}\n"
     ]
    }
   ],
   "source": [
    "print('Parameters currently in use:\\n')\n",
    "print(model.get_params())"
   ]
  },
  {
   "cell_type": "code",
   "execution_count": 43,
   "metadata": {
    "id": "5v-YmW_5XkW5"
   },
   "outputs": [],
   "source": []
  }
 ],
 "metadata": {
  "colab": {
   "provenance": []
  },
  "kernelspec": {
   "display_name": "Python 3 (ipykernel)",
   "language": "python",
   "name": "python3"
  },
  "language_info": {
   "codemirror_mode": {
    "name": "ipython",
    "version": 3
   },
   "file_extension": ".py",
   "mimetype": "text/x-python",
   "name": "python",
   "nbconvert_exporter": "python",
   "pygments_lexer": "ipython3",
   "version": "3.11.5"
  }
 },
 "nbformat": 4,
 "nbformat_minor": 4
}
