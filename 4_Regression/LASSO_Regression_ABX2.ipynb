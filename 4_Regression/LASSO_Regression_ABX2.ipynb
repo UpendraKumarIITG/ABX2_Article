{
 "cells": [
  {
   "cell_type": "code",
   "execution_count": 1,
   "metadata": {
    "id": "jHNToznB7Igk"
   },
   "outputs": [],
   "source": [
    "import pandas as pd\n",
    "import sqlite3\n",
    "import numpy as np\n",
    "import matplotlib.pyplot as plt\n",
    "import seaborn as sns\n",
    "import warnings\n",
    "warnings.filterwarnings('ignore')\n",
    "from sklearn.exceptions import ConvergenceWarning\n",
    "warnings.filterwarnings(\"ignore\", category=ConvergenceWarning)"
   ]
  },
  {
   "cell_type": "code",
   "execution_count": 2,
   "metadata": {
    "id": "GrHWHgk27Igm"
   },
   "outputs": [],
   "source": [
    "##Import the modules\n",
    "import pandas as pd\n",
    "import numpy as np\n",
    "from sklearn.model_selection import train_test_split\n",
    "from sklearn import metrics\n",
    "from sklearn.model_selection import cross_val_score\n",
    "from sklearn.metrics import mean_squared_error\n",
    "from sklearn import preprocessing\n",
    "import matplotlib.pyplot as plt\n",
    "#-----------------------------------------------------##\n",
    "from sklearn.linear_model import LinearRegression\n",
    "from sklearn.linear_model import Ridge\n",
    "from sklearn.linear_model import Lasso\n",
    "from sklearn.kernel_ridge import KernelRidge\n",
    "from sklearn import ensemble\n",
    "from sklearn.ensemble import GradientBoostingRegressor\n",
    "from sklearn.gaussian_process import GaussianProcessRegressor\n",
    "from sklearn.ensemble import RandomForestRegressor\n",
    "from sklearn.gaussian_process.kernels import RBF, ConstantKernel as C\n",
    "from sklearn.gaussian_process.kernels import DotProduct, WhiteKernel\n",
    "from sklearn.gaussian_process.kernels import DotProduct, WhiteKernel, Matern"
   ]
  },
  {
   "cell_type": "code",
   "execution_count": 3,
   "metadata": {
    "id": "7nwqsQW77Ign"
   },
   "outputs": [],
   "source": [
    "import pandas as pd\n",
    "import numpy as np\n",
    "from sklearn.model_selection import train_test_split\n",
    "from sklearn import metrics\n",
    "from sklearn.model_selection import cross_val_score\n",
    "from sklearn.metrics import mean_squared_error\n",
    "from sklearn import preprocessing\n",
    "import matplotlib.pyplot as plt\n",
    "import pandas as pd\n",
    "import matplotlib.pyplot as plt\n",
    "import numpy as np\n",
    "from scipy import stats\n",
    "import seaborn as sns\n",
    "from scipy.stats import norm\n",
    "from scipy.stats import skew,kurtosis"
   ]
  },
  {
   "cell_type": "markdown",
   "metadata": {
    "id": "jNSEw3ViRRrW"
   },
   "source": [
    "import numpy as np\n",
    "\n",
    "##### Coefficients and constant c0 for the model\n",
    "c1 = 0.1633392287E+00\n",
    "c2 = 0.6385917246E-04\n",
    "c3 = -0.2889033757E+02\n",
    "c0 = -0.1911288617E+01\n",
    "\n",
    "##### Assuming df1 contains the required features:\n",
    "##### 'vand_rad_Min', 'Volume', 'atom_rad_Min', 'density_Avg', 'density_Min',\n",
    "##### 'atom_rad_Avg', 'vand_rad_Avg', 'cov_rad_Max', 'atom_rad_Max'\n",
    "\n",
    "##### Calculate the descriptors\n",
    "df1['d001'] = np.exp(df1['vand_rad_Min'] / df1['Volume']) * (df1['atom_rad_Min'] / (df1['density_Avg'] + df1['density_Min']))\n",
    "\n",
    "df1['d002'] = ((df1['atom_rad_Avg']**2 - df1['atom_rad_Min'] * df1['vand_rad_Avg']) / np.log(df1['density_Min']))\n",
    "\n",
    "df1['d003'] = np.exp(-df1['density_Avg']) / ((df1['atom_rad_Avg'] - df1['cov_rad_Max']) + (df1['atom_rad_Max'] - df1['cov_rad_Max']))\n",
    "\n",
    "##### Calculate the target y using the formula y = c1 * d001 + c2 * d002 + c3 * d003 + c0\n",
    "df1['bandgap_SISSO'] = (c1 * df1['d001']) + (c2 * df1['d002']) + (c3 * df1['d003']) + c0"
   ]
  },
  {
   "cell_type": "code",
   "execution_count": 4,
   "metadata": {
    "colab": {
     "base_uri": "https://localhost:8080/",
     "height": 132
    },
    "id": "v09g1iaR8pDf",
    "outputId": "b11832c6-d3a3-4cd1-8750-9cf4c7e36887"
   },
   "outputs": [
    {
     "data": {
      "text/html": [
       "<div>\n",
       "<style scoped>\n",
       "    .dataframe tbody tr th:only-of-type {\n",
       "        vertical-align: middle;\n",
       "    }\n",
       "\n",
       "    .dataframe tbody tr th {\n",
       "        vertical-align: top;\n",
       "    }\n",
       "\n",
       "    .dataframe thead th {\n",
       "        text-align: right;\n",
       "    }\n",
       "</style>\n",
       "<table border=\"1\" class=\"dataframe\">\n",
       "  <thead>\n",
       "    <tr style=\"text-align: right;\">\n",
       "      <th></th>\n",
       "      <th>compound</th>\n",
       "      <th>BandGap</th>\n",
       "      <th>Volume</th>\n",
       "      <th>vand_rad_Avg</th>\n",
       "      <th>vand_rad_Min</th>\n",
       "      <th>vand_rad_Max</th>\n",
       "      <th>cov_rad_Avg</th>\n",
       "      <th>cov_rad_Min</th>\n",
       "      <th>cov_rad_Max</th>\n",
       "      <th>atom_rad_Avg</th>\n",
       "      <th>atom_rad_Min</th>\n",
       "      <th>atom_rad_Max</th>\n",
       "      <th>density_Avg</th>\n",
       "      <th>density_Min</th>\n",
       "      <th>density_Max</th>\n",
       "      <th>d001</th>\n",
       "      <th>d002</th>\n",
       "      <th>d003</th>\n",
       "      <th>bandgap_SISSO</th>\n",
       "    </tr>\n",
       "  </thead>\n",
       "  <tbody>\n",
       "    <tr>\n",
       "      <th>0</th>\n",
       "      <td>ZnGeN2</td>\n",
       "      <td>2.44</td>\n",
       "      <td>181.39</td>\n",
       "      <td>168.33</td>\n",
       "      <td>139</td>\n",
       "      <td>211</td>\n",
       "      <td>104.33</td>\n",
       "      <td>71</td>\n",
       "      <td>122</td>\n",
       "      <td>108.33</td>\n",
       "      <td>65</td>\n",
       "      <td>135</td>\n",
       "      <td>4.42</td>\n",
       "      <td>0.81</td>\n",
       "      <td>7.13</td>\n",
       "      <td>26.743211</td>\n",
       "      <td>-3767.725011</td>\n",
       "      <td>-0.017962</td>\n",
       "      <td>2.735238</td>\n",
       "    </tr>\n",
       "    <tr>\n",
       "      <th>1</th>\n",
       "      <td>ZnGeN2</td>\n",
       "      <td>3.02</td>\n",
       "      <td>181.83</td>\n",
       "      <td>168.33</td>\n",
       "      <td>139</td>\n",
       "      <td>211</td>\n",
       "      <td>104.33</td>\n",
       "      <td>71</td>\n",
       "      <td>122</td>\n",
       "      <td>108.33</td>\n",
       "      <td>65</td>\n",
       "      <td>135</td>\n",
       "      <td>4.42</td>\n",
       "      <td>0.81</td>\n",
       "      <td>7.13</td>\n",
       "      <td>26.693666</td>\n",
       "      <td>-3767.725011</td>\n",
       "      <td>-0.017962</td>\n",
       "      <td>2.727145</td>\n",
       "    </tr>\n",
       "  </tbody>\n",
       "</table>\n",
       "</div>"
      ],
      "text/plain": [
       "   compound  BandGap  Volume  vand_rad_Avg  vand_rad_Min  vand_rad_Max  \\\n",
       "0  ZnGeN2       2.44  181.39        168.33           139           211   \n",
       "1  ZnGeN2       3.02  181.83        168.33           139           211   \n",
       "\n",
       "   cov_rad_Avg  cov_rad_Min  cov_rad_Max  atom_rad_Avg  atom_rad_Min  \\\n",
       "0       104.33           71          122        108.33            65   \n",
       "1       104.33           71          122        108.33            65   \n",
       "\n",
       "   atom_rad_Max  density_Avg  density_Min  density_Max       d001  \\\n",
       "0           135         4.42         0.81         7.13  26.743211   \n",
       "1           135         4.42         0.81         7.13  26.693666   \n",
       "\n",
       "          d002      d003  bandgap_SISSO  \n",
       "0 -3767.725011 -0.017962       2.735238  \n",
       "1 -3767.725011 -0.017962       2.727145  "
      ]
     },
     "execution_count": 4,
     "metadata": {},
     "output_type": "execute_result"
    }
   ],
   "source": [
    "Descriptor = pd.read_csv(\"ABX2_complexity5_3D.csv\")\n",
    "Descriptor.head(2)"
   ]
  },
  {
   "cell_type": "code",
   "execution_count": 5,
   "metadata": {
    "colab": {
     "base_uri": "https://localhost:8080/"
    },
    "id": "da89B8JAQ80i",
    "outputId": "759a0476-e884-43cb-cb21-56d968e7b1bd"
   },
   "outputs": [
    {
     "data": {
      "text/plain": [
       "Index(['compound', 'BandGap', 'Volume', 'vand_rad_Avg', 'vand_rad_Min',\n",
       "       'vand_rad_Max', 'cov_rad_Avg', 'cov_rad_Min', 'cov_rad_Max',\n",
       "       'atom_rad_Avg', 'atom_rad_Min', 'atom_rad_Max', 'density_Avg',\n",
       "       'density_Min', 'density_Max', 'd001', 'd002', 'd003', 'bandgap_SISSO'],\n",
       "      dtype='object')"
      ]
     },
     "execution_count": 5,
     "metadata": {},
     "output_type": "execute_result"
    }
   ],
   "source": [
    "Descriptor.keys()"
   ]
  },
  {
   "cell_type": "code",
   "execution_count": 6,
   "metadata": {
    "colab": {
     "base_uri": "https://localhost:8080/",
     "height": 112
    },
    "id": "efqVMP5G7Igr",
    "outputId": "12390fc6-309e-48d4-d7ea-6f62e7ee768b",
    "scrolled": true
   },
   "outputs": [
    {
     "data": {
      "text/html": [
       "<div>\n",
       "<style scoped>\n",
       "    .dataframe tbody tr th:only-of-type {\n",
       "        vertical-align: middle;\n",
       "    }\n",
       "\n",
       "    .dataframe tbody tr th {\n",
       "        vertical-align: top;\n",
       "    }\n",
       "\n",
       "    .dataframe thead th {\n",
       "        text-align: right;\n",
       "    }\n",
       "</style>\n",
       "<table border=\"1\" class=\"dataframe\">\n",
       "  <thead>\n",
       "    <tr style=\"text-align: right;\">\n",
       "      <th></th>\n",
       "      <th>compound</th>\n",
       "      <th>BandGap</th>\n",
       "      <th>d001</th>\n",
       "      <th>d002</th>\n",
       "      <th>d003</th>\n",
       "    </tr>\n",
       "  </thead>\n",
       "  <tbody>\n",
       "    <tr>\n",
       "      <th>0</th>\n",
       "      <td>ZnGeN2</td>\n",
       "      <td>2.44</td>\n",
       "      <td>26.743211</td>\n",
       "      <td>-3767.725011</td>\n",
       "      <td>-0.017962</td>\n",
       "    </tr>\n",
       "    <tr>\n",
       "      <th>1</th>\n",
       "      <td>ZnGeN2</td>\n",
       "      <td>3.02</td>\n",
       "      <td>26.693666</td>\n",
       "      <td>-3767.725011</td>\n",
       "      <td>-0.017962</td>\n",
       "    </tr>\n",
       "  </tbody>\n",
       "</table>\n",
       "</div>"
      ],
      "text/plain": [
       "   compound  BandGap       d001         d002      d003\n",
       "0  ZnGeN2       2.44  26.743211 -3767.725011 -0.017962\n",
       "1  ZnGeN2       3.02  26.693666 -3767.725011 -0.017962"
      ]
     },
     "execution_count": 6,
     "metadata": {},
     "output_type": "execute_result"
    }
   ],
   "source": [
    "ML_data = Descriptor[['compound', 'BandGap','d001', 'd002', 'd003']]\n",
    "ML_data.head(2)"
   ]
  },
  {
   "cell_type": "code",
   "execution_count": 7,
   "metadata": {
    "id": "USv4fNhw7Igt"
   },
   "outputs": [],
   "source": [
    "ML_data1 = ML_data.drop(['compound'], axis=1)"
   ]
  },
  {
   "cell_type": "markdown",
   "metadata": {
    "id": "QJeTkMi87Ig1"
   },
   "source": [
    "# ML Model\n"
   ]
  },
  {
   "cell_type": "code",
   "execution_count": 8,
   "metadata": {
    "colab": {
     "base_uri": "https://localhost:8080/",
     "height": 112
    },
    "id": "m-QWorXE7Ig2",
    "outputId": "27011375-4d2f-46fd-dc71-111266825558"
   },
   "outputs": [
    {
     "data": {
      "text/html": [
       "<div>\n",
       "<style scoped>\n",
       "    .dataframe tbody tr th:only-of-type {\n",
       "        vertical-align: middle;\n",
       "    }\n",
       "\n",
       "    .dataframe tbody tr th {\n",
       "        vertical-align: top;\n",
       "    }\n",
       "\n",
       "    .dataframe thead th {\n",
       "        text-align: right;\n",
       "    }\n",
       "</style>\n",
       "<table border=\"1\" class=\"dataframe\">\n",
       "  <thead>\n",
       "    <tr style=\"text-align: right;\">\n",
       "      <th></th>\n",
       "      <th>BandGap</th>\n",
       "      <th>d001</th>\n",
       "      <th>d002</th>\n",
       "      <th>d003</th>\n",
       "    </tr>\n",
       "  </thead>\n",
       "  <tbody>\n",
       "    <tr>\n",
       "      <th>0</th>\n",
       "      <td>2.44</td>\n",
       "      <td>26.743211</td>\n",
       "      <td>-3767.725011</td>\n",
       "      <td>-0.017962</td>\n",
       "    </tr>\n",
       "    <tr>\n",
       "      <th>1</th>\n",
       "      <td>3.02</td>\n",
       "      <td>26.693666</td>\n",
       "      <td>-3767.725011</td>\n",
       "      <td>-0.017962</td>\n",
       "    </tr>\n",
       "  </tbody>\n",
       "</table>\n",
       "</div>"
      ],
      "text/plain": [
       "   BandGap       d001         d002      d003\n",
       "0     2.44  26.743211 -3767.725011 -0.017962\n",
       "1     3.02  26.693666 -3767.725011 -0.017962"
      ]
     },
     "execution_count": 8,
     "metadata": {},
     "output_type": "execute_result"
    }
   ],
   "source": [
    "ML_Balanced_Data =ML_data1.copy()\n",
    "ML_Balanced_Data.head(2)"
   ]
  },
  {
   "cell_type": "code",
   "execution_count": 9,
   "metadata": {
    "colab": {
     "base_uri": "https://localhost:8080/",
     "height": 143
    },
    "id": "f8WI5gtvFClX",
    "outputId": "e1885332-cd0e-4d41-e9b8-8a5f537afcd2"
   },
   "outputs": [
    {
     "data": {
      "text/html": [
       "<div>\n",
       "<style scoped>\n",
       "    .dataframe tbody tr th:only-of-type {\n",
       "        vertical-align: middle;\n",
       "    }\n",
       "\n",
       "    .dataframe tbody tr th {\n",
       "        vertical-align: top;\n",
       "    }\n",
       "\n",
       "    .dataframe thead th {\n",
       "        text-align: right;\n",
       "    }\n",
       "</style>\n",
       "<table border=\"1\" class=\"dataframe\">\n",
       "  <thead>\n",
       "    <tr style=\"text-align: right;\">\n",
       "      <th></th>\n",
       "      <th>d001</th>\n",
       "      <th>d002</th>\n",
       "      <th>d003</th>\n",
       "    </tr>\n",
       "  </thead>\n",
       "  <tbody>\n",
       "    <tr>\n",
       "      <th>0</th>\n",
       "      <td>26.743211</td>\n",
       "      <td>-3767.725011</td>\n",
       "      <td>-0.017962</td>\n",
       "    </tr>\n",
       "    <tr>\n",
       "      <th>1</th>\n",
       "      <td>26.693666</td>\n",
       "      <td>-3767.725011</td>\n",
       "      <td>-0.017962</td>\n",
       "    </tr>\n",
       "    <tr>\n",
       "      <th>2</th>\n",
       "      <td>26.724029</td>\n",
       "      <td>-3767.725011</td>\n",
       "      <td>-0.017962</td>\n",
       "    </tr>\n",
       "  </tbody>\n",
       "</table>\n",
       "</div>"
      ],
      "text/plain": [
       "        d001         d002      d003\n",
       "0  26.743211 -3767.725011 -0.017962\n",
       "1  26.693666 -3767.725011 -0.017962\n",
       "2  26.724029 -3767.725011 -0.017962"
      ]
     },
     "execution_count": 9,
     "metadata": {},
     "output_type": "execute_result"
    }
   ],
   "source": [
    "X1 = ML_Balanced_Data.drop(['BandGap'],axis=1)\n",
    "X1.head(3)"
   ]
  },
  {
   "cell_type": "code",
   "execution_count": 10,
   "metadata": {
    "colab": {
     "base_uri": "https://localhost:8080/"
    },
    "id": "-xE_IYQIQUNy",
    "outputId": "4940f4b9-f4cc-4a7e-9c0e-dca3475da756"
   },
   "outputs": [
    {
     "data": {
      "text/plain": [
       "(92, 3)"
      ]
     },
     "execution_count": 10,
     "metadata": {},
     "output_type": "execute_result"
    }
   ],
   "source": [
    "X1.shape"
   ]
  },
  {
   "cell_type": "code",
   "execution_count": 11,
   "metadata": {
    "colab": {
     "base_uri": "https://localhost:8080/",
     "height": 178
    },
    "id": "36oMJasRFHgk",
    "outputId": "f668c9e7-cfea-4382-c016-588ad1300cd9"
   },
   "outputs": [
    {
     "data": {
      "text/plain": [
       "0    2.44\n",
       "1    3.02\n",
       "2    2.73\n",
       "Name: BandGap, dtype: float64"
      ]
     },
     "execution_count": 11,
     "metadata": {},
     "output_type": "execute_result"
    }
   ],
   "source": [
    "Y1 = ML_Balanced_Data['BandGap']\n",
    "Y1.head(3)"
   ]
  },
  {
   "cell_type": "code",
   "execution_count": 12,
   "metadata": {
    "id": "d0ii36Vh7Ig2"
   },
   "outputs": [],
   "source": [
    "#X = preprocessing.scale(X1)\n",
    "X = X1.copy()"
   ]
  },
  {
   "cell_type": "code",
   "execution_count": 13,
   "metadata": {
    "id": "8byprmsW7Ig3",
    "scrolled": true
   },
   "outputs": [],
   "source": [
    "import csv\n",
    "import os\n",
    "from sklearn.cross_decomposition import PLSRegression\n",
    "from sklearn import svm\n",
    "from sklearn.svm import SVR\n",
    "import xgboost as xgb"
   ]
  },
  {
   "cell_type": "markdown",
   "metadata": {
    "id": "P4ku2QPXhF6Y"
   },
   "source": [
    "## So we are using 25 % for testing"
   ]
  },
  {
   "cell_type": "code",
   "execution_count": 14,
   "metadata": {
    "colab": {
     "base_uri": "https://localhost:8080/"
    },
    "id": "W6wrDQ4h7Ig3",
    "outputId": "ac3acbff-87bc-49ee-a5c5-64d06e1e3d6b"
   },
   "outputs": [
    {
     "name": "stdout",
     "output_type": "stream",
     "text": [
      "       RMSE-Train  $R^{2}$ train  RMSE-test  R$^2$ test\n",
      "count   20.000000      20.000000  20.000000   20.000000\n",
      "mean     0.313333       0.926414   0.300031    0.922584\n",
      "std      0.025266       0.012307   0.078866    0.043501\n",
      "min      0.262084       0.904574   0.162529    0.823417\n",
      "25%      0.294616       0.914963   0.245792    0.910003\n",
      "50%      0.316793       0.926033   0.298741    0.932416\n",
      "75%      0.331381       0.932982   0.362804    0.952097\n",
      "max      0.348470       0.947810   0.439101    0.976451\n"
     ]
    }
   ],
   "source": [
    "for n in range (0,20,1):\n",
    "        X_train, X_test, Y_train, Y_test = train_test_split(X, Y1, test_size =0.25, random_state=n)\n",
    "        #model = Lasso(alpha= 1.000000e-08, fit_intercept= True, max_iter= 500, positive= True, precompute= False, random_state= n,selection= 'random', tol= Flase, warm_start= False)\n",
    "        model = Lasso(alpha=0.00001,max_iter=100000,random_state=n,fit_intercept= True, positive= False,precompute= False,selection= 'random', tol= False, warm_start= False)\n",
    "        model.fit(X_train, Y_train)\n",
    "     ## ## model evaluation for training set\n",
    "        from sklearn.metrics import mean_squared_error\n",
    "        from sklearn.metrics import r2_score\n",
    "        y_train_predict = model.predict(X_train)\n",
    "        rmse_train = (np.sqrt(mean_squared_error(Y_train, y_train_predict)))\n",
    "        r2_train = r2_score(Y_train, y_train_predict)\n",
    "        y_test_predict = model.predict(X_test)\n",
    "        rmse_test = (np.sqrt(mean_squared_error(Y_test, y_test_predict)))\n",
    "        r2_test = r2_score(Y_test, y_test_predict)\n",
    "        with open('out.csv', mode='a') as out_file:\n",
    "            out_writer = csv.writer(out_file, delimiter=',', quotechar='\"', quoting=csv.QUOTE_MINIMAL)\n",
    "            out_writer.writerow(['%s' %n, '{}'.format(rmse_train) ,'{}'.format(r2_train), '{}'.format(rmse_test), '{}'.format(r2_test)])\n",
    "            out_file.close()\n",
    "from shutil import copyfile\n",
    "copyfile('out.csv', 'cross-validation-out.csv')\n",
    "###here we import the out.csv file and printthe statistics\n",
    "data_stat=pd.read_csv('out.csv',  names = [\"RMSE-Train\", \"$R^{2}$ train\", \"RMSE-test\", \"R$^2$ test\"])\n",
    "print(data_stat.describe())\n",
    "#Removing out.csv file\n",
    "try:\n",
    "    os.remove(\"out.csv\")\n",
    "except OSError:\n",
    "    pass"
   ]
  },
  {
   "cell_type": "code",
   "execution_count": 16,
   "metadata": {
    "id": "Q_kpTKBb7Ig3"
   },
   "outputs": [],
   "source": [
    "# RMSE-Train  $R^{2}$ train  RMSE-test  R$^2$ test\n",
    "# count   20.000000      20.000000  20.000000   20.000000\n",
    "# mean     0.313333       0.926414   0.300031    0.922584\n",
    "# std      0.025266       0.012307   0.078866    0.043501\n",
    "# min      0.262084       0.904574   0.162529    0.823417\n",
    "# 25%      0.294616       0.914963   0.245792    0.910003\n",
    "# 50%      0.316793       0.926033   0.298741    0.932416\n",
    "# 75%      0.331381       0.932982   0.362804    0.952097\n",
    "# max      0.348470       0.947810   0.439101    0.976451"
   ]
  },
  {
   "cell_type": "code",
   "execution_count": 17,
   "metadata": {
    "colab": {
     "base_uri": "https://localhost:8080/"
    },
    "id": "Qo4A6XAijwIu",
    "outputId": "61718a2a-af68-4b95-ac09-623a17ef9b43"
   },
   "outputs": [
    {
     "name": "stdout",
     "output_type": "stream",
     "text": [
      "Parameters currently in use:\n",
      "\n",
      "{'alpha': 1e-05, 'copy_X': True, 'fit_intercept': True, 'max_iter': 100000, 'positive': False, 'precompute': False, 'random_state': 19, 'selection': 'random', 'tol': False, 'warm_start': False}\n"
     ]
    }
   ],
   "source": [
    "print('Parameters currently in use:\\n')\n",
    "print(model.get_params())"
   ]
  },
  {
   "cell_type": "code",
   "execution_count": 18,
   "metadata": {
    "colab": {
     "base_uri": "https://localhost:8080/"
    },
    "id": "gcOTN81-7Ig3",
    "outputId": "3c0313c8-3b4e-4124-a841-76ae15b59ea3"
   },
   "outputs": [
    {
     "name": "stdout",
     "output_type": "stream",
     "text": [
      "    RMSE-Train  $R^{2}$ train  RMSE-test  R$^2$ test\n",
      "0     0.300295       0.934880   0.345866    0.903246\n",
      "1     0.282104       0.945202   0.389499    0.850095\n",
      "2     0.343225       0.904574   0.210931    0.968737\n",
      "3     0.289510       0.930141   0.382585    0.917744\n",
      "4     0.310027       0.930977   0.324431    0.912255\n",
      "5     0.278232       0.947475   0.395913    0.835538\n",
      "6     0.319355       0.928950   0.289946    0.915000\n",
      "7     0.321646       0.923065   0.281530    0.939425\n",
      "8     0.333764       0.914754   0.243589    0.953982\n",
      "9     0.327058       0.915033   0.277270    0.951469\n",
      "10    0.314232       0.919615   0.320614    0.937230\n",
      "11    0.313492       0.927825   0.307537    0.927601\n",
      "12    0.280667       0.947810   0.390392    0.823417\n",
      "13    0.343060       0.912991   0.190852    0.971077\n",
      "14    0.296318       0.932349   0.356210    0.913741\n",
      "15    0.330586       0.920821   0.246527    0.951385\n",
      "16    0.328622       0.924241   0.258533    0.939860\n",
      "17    0.348470       0.914586   0.162529    0.976451\n",
      "18    0.262084       0.939090   0.439101    0.903184\n",
      "19    0.343907       0.913896   0.186769    0.960233\n"
     ]
    }
   ],
   "source": [
    "print(data_stat.to_string())"
   ]
  },
  {
   "cell_type": "markdown",
   "metadata": {
    "id": "0YeA4RDz7Ig3"
   },
   "source": [
    "###  This section of the script is for an individual random state"
   ]
  },
  {
   "cell_type": "code",
   "execution_count": 19,
   "metadata": {
    "colab": {
     "base_uri": "https://localhost:8080/",
     "height": 80
    },
    "id": "efwGF4ID7Ig4",
    "outputId": "baafc035-a5ec-4938-a54a-90e57ac33655"
   },
   "outputs": [
    {
     "data": {
      "text/html": [
       "<style>#sk-container-id-1 {\n",
       "  /* Definition of color scheme common for light and dark mode */\n",
       "  --sklearn-color-text: black;\n",
       "  --sklearn-color-line: gray;\n",
       "  /* Definition of color scheme for unfitted estimators */\n",
       "  --sklearn-color-unfitted-level-0: #fff5e6;\n",
       "  --sklearn-color-unfitted-level-1: #f6e4d2;\n",
       "  --sklearn-color-unfitted-level-2: #ffe0b3;\n",
       "  --sklearn-color-unfitted-level-3: chocolate;\n",
       "  /* Definition of color scheme for fitted estimators */\n",
       "  --sklearn-color-fitted-level-0: #f0f8ff;\n",
       "  --sklearn-color-fitted-level-1: #d4ebff;\n",
       "  --sklearn-color-fitted-level-2: #b3dbfd;\n",
       "  --sklearn-color-fitted-level-3: cornflowerblue;\n",
       "\n",
       "  /* Specific color for light theme */\n",
       "  --sklearn-color-text-on-default-background: var(--sg-text-color, var(--theme-code-foreground, var(--jp-content-font-color1, black)));\n",
       "  --sklearn-color-background: var(--sg-background-color, var(--theme-background, var(--jp-layout-color0, white)));\n",
       "  --sklearn-color-border-box: var(--sg-text-color, var(--theme-code-foreground, var(--jp-content-font-color1, black)));\n",
       "  --sklearn-color-icon: #696969;\n",
       "\n",
       "  @media (prefers-color-scheme: dark) {\n",
       "    /* Redefinition of color scheme for dark theme */\n",
       "    --sklearn-color-text-on-default-background: var(--sg-text-color, var(--theme-code-foreground, var(--jp-content-font-color1, white)));\n",
       "    --sklearn-color-background: var(--sg-background-color, var(--theme-background, var(--jp-layout-color0, #111)));\n",
       "    --sklearn-color-border-box: var(--sg-text-color, var(--theme-code-foreground, var(--jp-content-font-color1, white)));\n",
       "    --sklearn-color-icon: #878787;\n",
       "  }\n",
       "}\n",
       "\n",
       "#sk-container-id-1 {\n",
       "  color: var(--sklearn-color-text);\n",
       "}\n",
       "\n",
       "#sk-container-id-1 pre {\n",
       "  padding: 0;\n",
       "}\n",
       "\n",
       "#sk-container-id-1 input.sk-hidden--visually {\n",
       "  border: 0;\n",
       "  clip: rect(1px 1px 1px 1px);\n",
       "  clip: rect(1px, 1px, 1px, 1px);\n",
       "  height: 1px;\n",
       "  margin: -1px;\n",
       "  overflow: hidden;\n",
       "  padding: 0;\n",
       "  position: absolute;\n",
       "  width: 1px;\n",
       "}\n",
       "\n",
       "#sk-container-id-1 div.sk-dashed-wrapped {\n",
       "  border: 1px dashed var(--sklearn-color-line);\n",
       "  margin: 0 0.4em 0.5em 0.4em;\n",
       "  box-sizing: border-box;\n",
       "  padding-bottom: 0.4em;\n",
       "  background-color: var(--sklearn-color-background);\n",
       "}\n",
       "\n",
       "#sk-container-id-1 div.sk-container {\n",
       "  /* jupyter's `normalize.less` sets `[hidden] { display: none; }`\n",
       "     but bootstrap.min.css set `[hidden] { display: none !important; }`\n",
       "     so we also need the `!important` here to be able to override the\n",
       "     default hidden behavior on the sphinx rendered scikit-learn.org.\n",
       "     See: https://github.com/scikit-learn/scikit-learn/issues/21755 */\n",
       "  display: inline-block !important;\n",
       "  position: relative;\n",
       "}\n",
       "\n",
       "#sk-container-id-1 div.sk-text-repr-fallback {\n",
       "  display: none;\n",
       "}\n",
       "\n",
       "div.sk-parallel-item,\n",
       "div.sk-serial,\n",
       "div.sk-item {\n",
       "  /* draw centered vertical line to link estimators */\n",
       "  background-image: linear-gradient(var(--sklearn-color-text-on-default-background), var(--sklearn-color-text-on-default-background));\n",
       "  background-size: 2px 100%;\n",
       "  background-repeat: no-repeat;\n",
       "  background-position: center center;\n",
       "}\n",
       "\n",
       "/* Parallel-specific style estimator block */\n",
       "\n",
       "#sk-container-id-1 div.sk-parallel-item::after {\n",
       "  content: \"\";\n",
       "  width: 100%;\n",
       "  border-bottom: 2px solid var(--sklearn-color-text-on-default-background);\n",
       "  flex-grow: 1;\n",
       "}\n",
       "\n",
       "#sk-container-id-1 div.sk-parallel {\n",
       "  display: flex;\n",
       "  align-items: stretch;\n",
       "  justify-content: center;\n",
       "  background-color: var(--sklearn-color-background);\n",
       "  position: relative;\n",
       "}\n",
       "\n",
       "#sk-container-id-1 div.sk-parallel-item {\n",
       "  display: flex;\n",
       "  flex-direction: column;\n",
       "}\n",
       "\n",
       "#sk-container-id-1 div.sk-parallel-item:first-child::after {\n",
       "  align-self: flex-end;\n",
       "  width: 50%;\n",
       "}\n",
       "\n",
       "#sk-container-id-1 div.sk-parallel-item:last-child::after {\n",
       "  align-self: flex-start;\n",
       "  width: 50%;\n",
       "}\n",
       "\n",
       "#sk-container-id-1 div.sk-parallel-item:only-child::after {\n",
       "  width: 0;\n",
       "}\n",
       "\n",
       "/* Serial-specific style estimator block */\n",
       "\n",
       "#sk-container-id-1 div.sk-serial {\n",
       "  display: flex;\n",
       "  flex-direction: column;\n",
       "  align-items: center;\n",
       "  background-color: var(--sklearn-color-background);\n",
       "  padding-right: 1em;\n",
       "  padding-left: 1em;\n",
       "}\n",
       "\n",
       "\n",
       "/* Toggleable style: style used for estimator/Pipeline/ColumnTransformer box that is\n",
       "clickable and can be expanded/collapsed.\n",
       "- Pipeline and ColumnTransformer use this feature and define the default style\n",
       "- Estimators will overwrite some part of the style using the `sk-estimator` class\n",
       "*/\n",
       "\n",
       "/* Pipeline and ColumnTransformer style (default) */\n",
       "\n",
       "#sk-container-id-1 div.sk-toggleable {\n",
       "  /* Default theme specific background. It is overwritten whether we have a\n",
       "  specific estimator or a Pipeline/ColumnTransformer */\n",
       "  background-color: var(--sklearn-color-background);\n",
       "}\n",
       "\n",
       "/* Toggleable label */\n",
       "#sk-container-id-1 label.sk-toggleable__label {\n",
       "  cursor: pointer;\n",
       "  display: block;\n",
       "  width: 100%;\n",
       "  margin-bottom: 0;\n",
       "  padding: 0.5em;\n",
       "  box-sizing: border-box;\n",
       "  text-align: center;\n",
       "}\n",
       "\n",
       "#sk-container-id-1 label.sk-toggleable__label-arrow:before {\n",
       "  /* Arrow on the left of the label */\n",
       "  content: \"▸\";\n",
       "  float: left;\n",
       "  margin-right: 0.25em;\n",
       "  color: var(--sklearn-color-icon);\n",
       "}\n",
       "\n",
       "#sk-container-id-1 label.sk-toggleable__label-arrow:hover:before {\n",
       "  color: var(--sklearn-color-text);\n",
       "}\n",
       "\n",
       "/* Toggleable content - dropdown */\n",
       "\n",
       "#sk-container-id-1 div.sk-toggleable__content {\n",
       "  max-height: 0;\n",
       "  max-width: 0;\n",
       "  overflow: hidden;\n",
       "  text-align: left;\n",
       "  /* unfitted */\n",
       "  background-color: var(--sklearn-color-unfitted-level-0);\n",
       "}\n",
       "\n",
       "#sk-container-id-1 div.sk-toggleable__content.fitted {\n",
       "  /* fitted */\n",
       "  background-color: var(--sklearn-color-fitted-level-0);\n",
       "}\n",
       "\n",
       "#sk-container-id-1 div.sk-toggleable__content pre {\n",
       "  margin: 0.2em;\n",
       "  border-radius: 0.25em;\n",
       "  color: var(--sklearn-color-text);\n",
       "  /* unfitted */\n",
       "  background-color: var(--sklearn-color-unfitted-level-0);\n",
       "}\n",
       "\n",
       "#sk-container-id-1 div.sk-toggleable__content.fitted pre {\n",
       "  /* unfitted */\n",
       "  background-color: var(--sklearn-color-fitted-level-0);\n",
       "}\n",
       "\n",
       "#sk-container-id-1 input.sk-toggleable__control:checked~div.sk-toggleable__content {\n",
       "  /* Expand drop-down */\n",
       "  max-height: 200px;\n",
       "  max-width: 100%;\n",
       "  overflow: auto;\n",
       "}\n",
       "\n",
       "#sk-container-id-1 input.sk-toggleable__control:checked~label.sk-toggleable__label-arrow:before {\n",
       "  content: \"▾\";\n",
       "}\n",
       "\n",
       "/* Pipeline/ColumnTransformer-specific style */\n",
       "\n",
       "#sk-container-id-1 div.sk-label input.sk-toggleable__control:checked~label.sk-toggleable__label {\n",
       "  color: var(--sklearn-color-text);\n",
       "  background-color: var(--sklearn-color-unfitted-level-2);\n",
       "}\n",
       "\n",
       "#sk-container-id-1 div.sk-label.fitted input.sk-toggleable__control:checked~label.sk-toggleable__label {\n",
       "  background-color: var(--sklearn-color-fitted-level-2);\n",
       "}\n",
       "\n",
       "/* Estimator-specific style */\n",
       "\n",
       "/* Colorize estimator box */\n",
       "#sk-container-id-1 div.sk-estimator input.sk-toggleable__control:checked~label.sk-toggleable__label {\n",
       "  /* unfitted */\n",
       "  background-color: var(--sklearn-color-unfitted-level-2);\n",
       "}\n",
       "\n",
       "#sk-container-id-1 div.sk-estimator.fitted input.sk-toggleable__control:checked~label.sk-toggleable__label {\n",
       "  /* fitted */\n",
       "  background-color: var(--sklearn-color-fitted-level-2);\n",
       "}\n",
       "\n",
       "#sk-container-id-1 div.sk-label label.sk-toggleable__label,\n",
       "#sk-container-id-1 div.sk-label label {\n",
       "  /* The background is the default theme color */\n",
       "  color: var(--sklearn-color-text-on-default-background);\n",
       "}\n",
       "\n",
       "/* On hover, darken the color of the background */\n",
       "#sk-container-id-1 div.sk-label:hover label.sk-toggleable__label {\n",
       "  color: var(--sklearn-color-text);\n",
       "  background-color: var(--sklearn-color-unfitted-level-2);\n",
       "}\n",
       "\n",
       "/* Label box, darken color on hover, fitted */\n",
       "#sk-container-id-1 div.sk-label.fitted:hover label.sk-toggleable__label.fitted {\n",
       "  color: var(--sklearn-color-text);\n",
       "  background-color: var(--sklearn-color-fitted-level-2);\n",
       "}\n",
       "\n",
       "/* Estimator label */\n",
       "\n",
       "#sk-container-id-1 div.sk-label label {\n",
       "  font-family: monospace;\n",
       "  font-weight: bold;\n",
       "  display: inline-block;\n",
       "  line-height: 1.2em;\n",
       "}\n",
       "\n",
       "#sk-container-id-1 div.sk-label-container {\n",
       "  text-align: center;\n",
       "}\n",
       "\n",
       "/* Estimator-specific */\n",
       "#sk-container-id-1 div.sk-estimator {\n",
       "  font-family: monospace;\n",
       "  border: 1px dotted var(--sklearn-color-border-box);\n",
       "  border-radius: 0.25em;\n",
       "  box-sizing: border-box;\n",
       "  margin-bottom: 0.5em;\n",
       "  /* unfitted */\n",
       "  background-color: var(--sklearn-color-unfitted-level-0);\n",
       "}\n",
       "\n",
       "#sk-container-id-1 div.sk-estimator.fitted {\n",
       "  /* fitted */\n",
       "  background-color: var(--sklearn-color-fitted-level-0);\n",
       "}\n",
       "\n",
       "/* on hover */\n",
       "#sk-container-id-1 div.sk-estimator:hover {\n",
       "  /* unfitted */\n",
       "  background-color: var(--sklearn-color-unfitted-level-2);\n",
       "}\n",
       "\n",
       "#sk-container-id-1 div.sk-estimator.fitted:hover {\n",
       "  /* fitted */\n",
       "  background-color: var(--sklearn-color-fitted-level-2);\n",
       "}\n",
       "\n",
       "/* Specification for estimator info (e.g. \"i\" and \"?\") */\n",
       "\n",
       "/* Common style for \"i\" and \"?\" */\n",
       "\n",
       ".sk-estimator-doc-link,\n",
       "a:link.sk-estimator-doc-link,\n",
       "a:visited.sk-estimator-doc-link {\n",
       "  float: right;\n",
       "  font-size: smaller;\n",
       "  line-height: 1em;\n",
       "  font-family: monospace;\n",
       "  background-color: var(--sklearn-color-background);\n",
       "  border-radius: 1em;\n",
       "  height: 1em;\n",
       "  width: 1em;\n",
       "  text-decoration: none !important;\n",
       "  margin-left: 1ex;\n",
       "  /* unfitted */\n",
       "  border: var(--sklearn-color-unfitted-level-1) 1pt solid;\n",
       "  color: var(--sklearn-color-unfitted-level-1);\n",
       "}\n",
       "\n",
       ".sk-estimator-doc-link.fitted,\n",
       "a:link.sk-estimator-doc-link.fitted,\n",
       "a:visited.sk-estimator-doc-link.fitted {\n",
       "  /* fitted */\n",
       "  border: var(--sklearn-color-fitted-level-1) 1pt solid;\n",
       "  color: var(--sklearn-color-fitted-level-1);\n",
       "}\n",
       "\n",
       "/* On hover */\n",
       "div.sk-estimator:hover .sk-estimator-doc-link:hover,\n",
       ".sk-estimator-doc-link:hover,\n",
       "div.sk-label-container:hover .sk-estimator-doc-link:hover,\n",
       ".sk-estimator-doc-link:hover {\n",
       "  /* unfitted */\n",
       "  background-color: var(--sklearn-color-unfitted-level-3);\n",
       "  color: var(--sklearn-color-background);\n",
       "  text-decoration: none;\n",
       "}\n",
       "\n",
       "div.sk-estimator.fitted:hover .sk-estimator-doc-link.fitted:hover,\n",
       ".sk-estimator-doc-link.fitted:hover,\n",
       "div.sk-label-container:hover .sk-estimator-doc-link.fitted:hover,\n",
       ".sk-estimator-doc-link.fitted:hover {\n",
       "  /* fitted */\n",
       "  background-color: var(--sklearn-color-fitted-level-3);\n",
       "  color: var(--sklearn-color-background);\n",
       "  text-decoration: none;\n",
       "}\n",
       "\n",
       "/* Span, style for the box shown on hovering the info icon */\n",
       ".sk-estimator-doc-link span {\n",
       "  display: none;\n",
       "  z-index: 9999;\n",
       "  position: relative;\n",
       "  font-weight: normal;\n",
       "  right: .2ex;\n",
       "  padding: .5ex;\n",
       "  margin: .5ex;\n",
       "  width: min-content;\n",
       "  min-width: 20ex;\n",
       "  max-width: 50ex;\n",
       "  color: var(--sklearn-color-text);\n",
       "  box-shadow: 2pt 2pt 4pt #999;\n",
       "  /* unfitted */\n",
       "  background: var(--sklearn-color-unfitted-level-0);\n",
       "  border: .5pt solid var(--sklearn-color-unfitted-level-3);\n",
       "}\n",
       "\n",
       ".sk-estimator-doc-link.fitted span {\n",
       "  /* fitted */\n",
       "  background: var(--sklearn-color-fitted-level-0);\n",
       "  border: var(--sklearn-color-fitted-level-3);\n",
       "}\n",
       "\n",
       ".sk-estimator-doc-link:hover span {\n",
       "  display: block;\n",
       "}\n",
       "\n",
       "/* \"?\"-specific style due to the `<a>` HTML tag */\n",
       "\n",
       "#sk-container-id-1 a.estimator_doc_link {\n",
       "  float: right;\n",
       "  font-size: 1rem;\n",
       "  line-height: 1em;\n",
       "  font-family: monospace;\n",
       "  background-color: var(--sklearn-color-background);\n",
       "  border-radius: 1rem;\n",
       "  height: 1rem;\n",
       "  width: 1rem;\n",
       "  text-decoration: none;\n",
       "  /* unfitted */\n",
       "  color: var(--sklearn-color-unfitted-level-1);\n",
       "  border: var(--sklearn-color-unfitted-level-1) 1pt solid;\n",
       "}\n",
       "\n",
       "#sk-container-id-1 a.estimator_doc_link.fitted {\n",
       "  /* fitted */\n",
       "  border: var(--sklearn-color-fitted-level-1) 1pt solid;\n",
       "  color: var(--sklearn-color-fitted-level-1);\n",
       "}\n",
       "\n",
       "/* On hover */\n",
       "#sk-container-id-1 a.estimator_doc_link:hover {\n",
       "  /* unfitted */\n",
       "  background-color: var(--sklearn-color-unfitted-level-3);\n",
       "  color: var(--sklearn-color-background);\n",
       "  text-decoration: none;\n",
       "}\n",
       "\n",
       "#sk-container-id-1 a.estimator_doc_link.fitted:hover {\n",
       "  /* fitted */\n",
       "  background-color: var(--sklearn-color-fitted-level-3);\n",
       "}\n",
       "</style><div id=\"sk-container-id-1\" class=\"sk-top-container\"><div class=\"sk-text-repr-fallback\"><pre>Lasso(alpha=1e-05, max_iter=100000, random_state=11)</pre><b>In a Jupyter environment, please rerun this cell to show the HTML representation or trust the notebook. <br />On GitHub, the HTML representation is unable to render, please try loading this page with nbviewer.org.</b></div><div class=\"sk-container\" hidden><div class=\"sk-item\"><div class=\"sk-estimator fitted sk-toggleable\"><input class=\"sk-toggleable__control sk-hidden--visually\" id=\"sk-estimator-id-1\" type=\"checkbox\" checked><label for=\"sk-estimator-id-1\" class=\"sk-toggleable__label fitted sk-toggleable__label-arrow fitted\">&nbsp;&nbsp;Lasso<a class=\"sk-estimator-doc-link fitted\" rel=\"noreferrer\" target=\"_blank\" href=\"https://scikit-learn.org/1.4/modules/generated/sklearn.linear_model.Lasso.html\">?<span>Documentation for Lasso</span></a><span class=\"sk-estimator-doc-link fitted\">i<span>Fitted</span></span></label><div class=\"sk-toggleable__content fitted\"><pre>Lasso(alpha=1e-05, max_iter=100000, random_state=11)</pre></div> </div></div></div></div>"
      ],
      "text/plain": [
       "Lasso(alpha=1e-05, max_iter=100000, random_state=11)"
      ]
     },
     "execution_count": 19,
     "metadata": {},
     "output_type": "execute_result"
    }
   ],
   "source": [
    "# random_state=11\n",
    "n=11\n",
    "X_train, X_test, Y_train, Y_test = train_test_split(X, Y1, test_size = 0.25,random_state=n)\n",
    "model = Lasso(alpha=0.00001,max_iter=100000,random_state=n)\n",
    "model.fit(X_train, Y_train)"
   ]
  },
  {
   "cell_type": "code",
   "execution_count": 20,
   "metadata": {
    "colab": {
     "base_uri": "https://localhost:8080/"
    },
    "id": "9ZiAngrmGoWl",
    "outputId": "b36822f7-43bc-4eb4-d1f9-e73dc4869fc9"
   },
   "outputs": [
    {
     "name": "stdout",
     "output_type": "stream",
     "text": [
      "The model performance for training set\n",
      "--------------------------------------\n",
      "RMSE is 0.3134919804647048\n",
      "R$^2$ score is 0.9278245432256049\n"
     ]
    }
   ],
   "source": [
    "##### model evaluation for training set\n",
    "y_train_predict = model.predict(X_train)\n",
    "rmse = (np.sqrt(mean_squared_error(Y_train, y_train_predict)))\n",
    "r2 = r2_score(Y_train, y_train_predict)\n",
    "print(\"The model performance for training set\")\n",
    "print(\"--------------------------------------\")\n",
    "print('RMSE is {}'.format(rmse))\n",
    "print('R$^2$ score is {}'.format(r2))"
   ]
  },
  {
   "cell_type": "markdown",
   "metadata": {
    "id": "PTVrWvM1ulUQ"
   },
   "source": [
    "The model performance for training set  \n",
    "RMSE is 0.3134919804647048  \n",
    "R$^2$ score is 0.9278245432256049  "
   ]
  },
  {
   "cell_type": "code",
   "execution_count": 21,
   "metadata": {
    "colab": {
     "base_uri": "https://localhost:8080/"
    },
    "id": "pUOxdpGp7Ig4",
    "outputId": "a59c5200-57ae-44f0-ff33-094c1f06e476",
    "scrolled": true
   },
   "outputs": [
    {
     "name": "stdout",
     "output_type": "stream",
     "text": [
      "The model performance for testing set\n",
      "--------------------------------------\n",
      "RMSE is 0.3075368631621574\n",
      "R$^2$ score is 0.927600736020227\n"
     ]
    }
   ],
   "source": [
    "# model evaluation for testing set\n",
    "y_test_predict = model.predict(X_test)\n",
    "rmse_test = (np.sqrt(mean_squared_error(Y_test, y_test_predict)))\n",
    "r2_test = r2_score(Y_test, y_test_predict)\n",
    "print(\"The model performance for testing set\")\n",
    "print(\"--------------------------------------\")\n",
    "print('RMSE is {}'.format(rmse_test))\n",
    "print('R$^2$ score is {}'.format(r2_test))"
   ]
  },
  {
   "cell_type": "markdown",
   "metadata": {
    "id": "D0szHlF7v_UU"
   },
   "source": [
    "\n",
    "The model performance for testing set   \n",
    "RMSE is 0.3075368631621574    \n",
    "R$^2$ score is 0.927600736020227    \n",
    "\n",
    "\n"
   ]
  },
  {
   "cell_type": "markdown",
   "metadata": {
    "id": "lySfjb9bzM_U"
   },
   "source": [
    "## We are writing results which average of 20  fold."
   ]
  },
  {
   "cell_type": "code",
   "execution_count": 22,
   "metadata": {
    "colab": {
     "base_uri": "https://localhost:8080/",
     "height": 407
    },
    "id": "pRy0N92JMSIa",
    "outputId": "2c71a88e-07f8-4207-ab4a-ae1a6b732eed"
   },
   "outputs": [
    {
     "data": {
      "image/png": "[encoded data removed]",
      "text/plain": [
       "<Figure size 400x400 with 1 Axes>"
      ]
     },
     "metadata": {},
     "output_type": "display_data"
    }
   ],
   "source": [
    "#### define your data plot here\n",
    "plt.figure(figsize=(4,4),dpi=100)\n",
    "#plt.figure(figsize=(4,4),dpi=400)\n",
    "#plt.title('XgBoost', fontsize=13)\n",
    "#### define your data plot here\n",
    "#plt.xlim((0,3))\n",
    "# plt.xticks(np.linspace(0,2,0.5,endpoint=True))\n",
    "#plt.ylim((0,3))\n",
    "# plt.yticks(np.linspace(0,2,0.5,endpoint=True))\n",
    "plt.tick_params(axis='both', which='major', labelsize=13)\n",
    "plt.scatter(Y_train, y_train_predict, label='Training',facecolors='red',alpha=0.8, edgecolors='none',s=60,marker='^')\n",
    "plt.scatter(Y_test, y_test_predict, label='Testing',facecolors='blue',alpha=0.75, edgecolors='none',s=60, marker='o')\n",
    "plt.xlabel(\"Bandgap DFT (eV)\",fontsize=13)\n",
    "plt.ylabel(\"Bandgap ML (eV)\",fontsize=13)\n",
    "\n",
    "#####fitting with a y=x line here (polynomial approach)\n",
    "#p1 = np.polyfit(Y_train, y_train_predict,1)\n",
    "plt.plot((-1.5,7),(-1.5,7), 'r',linestyle='dashed',label='y=x line')\n",
    "plt.legend(loc=2, prop={'size': 13}, frameon=True)\n",
    "leg = plt.legend()\n",
    "leg.get_frame().set_edgecolor('black')\n",
    "plt.tight_layout()\n",
    "plt.text(1.75, -1, 'RMSE Test = 0.30 eV \\n R$^2$ Test = 0.92',fontsize=13)\n",
    "#plt.savefig ('LASSO.pdf')\n",
    "plt.show()"
   ]
  },
  {
   "cell_type": "markdown",
   "metadata": {
    "id": "fG76IxP07Ig4"
   },
   "source": [
    "### Reference Figure"
   ]
  },
  {
   "attachments": {
    "490358a3-7513-4db9-ba85-d197c66612f6.png": {
     "image/png": "[encoded data removed]"
    }
   },
   "cell_type": "markdown",
   "metadata": {
    "id": "EkUvS1yo7Ig4"
   },
   "source": [
    "![image.png](attachment:490358a3-7513-4db9-ba85-d197c66612f6.png)"
   ]
  },
  {
   "cell_type": "markdown",
   "metadata": {
    "id": "9NLO_OGziqp4"
   },
   "source": [
    "## LASSO formula"
   ]
  },
  {
   "cell_type": "code",
   "execution_count": 23,
   "metadata": {
    "colab": {
     "base_uri": "https://localhost:8080/",
     "height": 423
    },
    "id": "fvQL-FUGkF7o",
    "outputId": "f549e283-a8d2-4080-e3ed-803bfb139764"
   },
   "outputs": [
    {
     "data": {
      "text/html": [
       "<div>\n",
       "<style scoped>\n",
       "    .dataframe tbody tr th:only-of-type {\n",
       "        vertical-align: middle;\n",
       "    }\n",
       "\n",
       "    .dataframe tbody tr th {\n",
       "        vertical-align: top;\n",
       "    }\n",
       "\n",
       "    .dataframe thead th {\n",
       "        text-align: right;\n",
       "    }\n",
       "</style>\n",
       "<table border=\"1\" class=\"dataframe\">\n",
       "  <thead>\n",
       "    <tr style=\"text-align: right;\">\n",
       "      <th></th>\n",
       "      <th>d001</th>\n",
       "      <th>d002</th>\n",
       "      <th>d003</th>\n",
       "    </tr>\n",
       "  </thead>\n",
       "  <tbody>\n",
       "    <tr>\n",
       "      <th>0</th>\n",
       "      <td>26.743211</td>\n",
       "      <td>-3767.725011</td>\n",
       "      <td>-0.017962</td>\n",
       "    </tr>\n",
       "    <tr>\n",
       "      <th>1</th>\n",
       "      <td>26.693666</td>\n",
       "      <td>-3767.725011</td>\n",
       "      <td>-0.017962</td>\n",
       "    </tr>\n",
       "    <tr>\n",
       "      <th>2</th>\n",
       "      <td>26.724029</td>\n",
       "      <td>-3767.725011</td>\n",
       "      <td>-0.017962</td>\n",
       "    </tr>\n",
       "    <tr>\n",
       "      <th>3</th>\n",
       "      <td>39.221053</td>\n",
       "      <td>85.236390</td>\n",
       "      <td>-0.005905</td>\n",
       "    </tr>\n",
       "    <tr>\n",
       "      <th>4</th>\n",
       "      <td>39.240156</td>\n",
       "      <td>85.236390</td>\n",
       "      <td>-0.005905</td>\n",
       "    </tr>\n",
       "    <tr>\n",
       "      <th>...</th>\n",
       "      <td>...</td>\n",
       "      <td>...</td>\n",
       "      <td>...</td>\n",
       "    </tr>\n",
       "    <tr>\n",
       "      <th>87</th>\n",
       "      <td>13.028835</td>\n",
       "      <td>-2746.039672</td>\n",
       "      <td>0.000101</td>\n",
       "    </tr>\n",
       "    <tr>\n",
       "      <th>88</th>\n",
       "      <td>13.026682</td>\n",
       "      <td>-2746.039672</td>\n",
       "      <td>0.000101</td>\n",
       "    </tr>\n",
       "    <tr>\n",
       "      <th>89</th>\n",
       "      <td>13.613564</td>\n",
       "      <td>-3199.156432</td>\n",
       "      <td>0.000034</td>\n",
       "    </tr>\n",
       "    <tr>\n",
       "      <th>90</th>\n",
       "      <td>13.612329</td>\n",
       "      <td>-3199.156432</td>\n",
       "      <td>0.000034</td>\n",
       "    </tr>\n",
       "    <tr>\n",
       "      <th>91</th>\n",
       "      <td>13.610370</td>\n",
       "      <td>-3199.156432</td>\n",
       "      <td>0.000034</td>\n",
       "    </tr>\n",
       "  </tbody>\n",
       "</table>\n",
       "<p>92 rows × 3 columns</p>\n",
       "</div>"
      ],
      "text/plain": [
       "         d001         d002      d003\n",
       "0   26.743211 -3767.725011 -0.017962\n",
       "1   26.693666 -3767.725011 -0.017962\n",
       "2   26.724029 -3767.725011 -0.017962\n",
       "3   39.221053    85.236390 -0.005905\n",
       "4   39.240156    85.236390 -0.005905\n",
       "..        ...          ...       ...\n",
       "87  13.028835 -2746.039672  0.000101\n",
       "88  13.026682 -2746.039672  0.000101\n",
       "89  13.613564 -3199.156432  0.000034\n",
       "90  13.612329 -3199.156432  0.000034\n",
       "91  13.610370 -3199.156432  0.000034\n",
       "\n",
       "[92 rows x 3 columns]"
      ]
     },
     "execution_count": 23,
     "metadata": {},
     "output_type": "execute_result"
    }
   ],
   "source": [
    "X"
   ]
  },
  {
   "cell_type": "code",
   "execution_count": 24,
   "metadata": {
    "colab": {
     "base_uri": "https://localhost:8080/"
    },
    "id": "rssLpKf6itrJ",
    "outputId": "72f38c56-af98-4685-870e-a7110b677c18"
   },
   "outputs": [
    {
     "name": "stdout",
     "output_type": "stream",
     "text": [
      "  features name  coefficient\n",
      "0          d001     0.163027\n",
      "1          d002     0.000060\n",
      "2          d003   -26.817969\n",
      "Features and their respective Coefficients are written in the file 'Feature_vs_coeff.csv'\n"
     ]
    }
   ],
   "source": [
    "######printing coefficient of the regression\n",
    "try:\n",
    "#    print (\"The Dual coefficients are\", np.vstack(model.dual_coef_))\n",
    "#    coefficient = np.vstack(model.dual_coef_)\n",
    "    coefficient = model.dual_coef_\n",
    "    print(coefficient)\n",
    "#    print(X_1.columns.values.tolist())\n",
    "    print (\"The dual coefficients are written in the file 'dual_coef.txt'\")\n",
    "    with open('dual_coef.txt', mode='a') as out_file:\n",
    "      out_writer = csv.writer(out_file, delimiter=',', quotechar='\"', quoting=csv.QUOTE_MINIMAL)\n",
    "      out_writer.writerow([X.columns.values.tolist()])\n",
    "      out_writer.writerow([coefficient])\n",
    "      out_file.close()\n",
    "except AttributeError:\n",
    "    pass\n",
    "try:\n",
    "#    print (\"The model coefficients are {}\", np.vstack(model.coef_))\n",
    "#    coefficient = np.vstack(model.coef_)\n",
    "    coefficient = model.coef_\n",
    "except AttributeError:\n",
    "    pass\n",
    "try:\n",
    " #   print (\"The model coefficients are\", np.vstack(model.feature_importances_))\n",
    "#    coefficient = np.vstack(model.feature_importances_)\n",
    "    coefficient = model.feature_importances_\n",
    "except AttributeError:\n",
    "    pass\n",
    "\n",
    "try:\n",
    "    os.remove(\"co-efficient-out.txt\")\n",
    "except OSError:\n",
    "    pass\n",
    "try:\n",
    "    feature={'features name': X.columns.values.tolist(),\n",
    "      'coefficient':coefficient}\n",
    "    df_feature=pd.DataFrame(feature)\n",
    "    print(df_feature)\n",
    "    df_feature.to_csv(\"Feature_vs_coeff.csv\")\n",
    "    print (\"Features and their respective Coefficients are written in the file 'Feature_vs_coeff.csv'\")\n",
    "except:\n",
    "  print (\"-------------------------------------------------------------------------------------------\")\n",
    "  print (\"-------------------------------------------------------------------------------------------\")\n",
    "  print (\"No Coefficient(s) saved for this model\")\n",
    "  pass"
   ]
  },
  {
   "cell_type": "code",
   "execution_count": null,
   "metadata": {
    "id": "r_f9vdJ7neGr"
   },
   "outputs": [],
   "source": [
    "# features name  coefficient\n",
    "# 0          d001     0.163027\n",
    "# 1          d002     0.000060\n",
    "# 2          d003   -26.817969\n",
    "# Features and their respective Coefficients are written in the file 'Feature_vs_coeff.csv'\n"
   ]
  },
  {
   "cell_type": "markdown",
   "metadata": {
    "id": "uEH-J_R8mGvX"
   },
   "source": [
    "# Hyperparameter"
   ]
  },
  {
   "cell_type": "code",
   "execution_count": 25,
   "metadata": {
    "colab": {
     "base_uri": "https://localhost:8080/"
    },
    "id": "VICgRvCyjlyB",
    "outputId": "77f69c12-8c16-4094-a0bf-64d2b1867117"
   },
   "outputs": [
    {
     "name": "stdout",
     "output_type": "stream",
     "text": [
      "Parameters currently in use:\n",
      "\n",
      "{'alpha': 1e-05, 'copy_X': True, 'fit_intercept': True, 'max_iter': 100000, 'positive': False, 'precompute': False, 'random_state': 11, 'selection': 'cyclic', 'tol': 0.0001, 'warm_start': False}\n"
     ]
    }
   ],
   "source": [
    "print('Parameters currently in use:\\n')\n",
    "print(model.get_params())"
   ]
  },
  {
   "cell_type": "code",
   "execution_count": 26,
   "metadata": {
    "colab": {
     "base_uri": "https://localhost:8080/"
    },
    "id": "rb9KpDEAmTa_",
    "outputId": "9081055e-f7c0-492d-a677-ba57238cfae1"
   },
   "outputs": [
    {
     "data": {
      "text/plain": [
       "Index(['d001', 'd002', 'd003'], dtype='object')"
      ]
     },
     "execution_count": 26,
     "metadata": {},
     "output_type": "execute_result"
    }
   ],
   "source": [
    "X.keys()"
   ]
  },
  {
   "cell_type": "code",
   "execution_count": 31,
   "metadata": {
    "colab": {
     "base_uri": "https://localhost:8080/"
    },
    "id": "VGNrEYCkmZ0h",
    "outputId": "2c5ecf4a-9c9b-463a-b8b6-abb8a76a128e"
   },
   "outputs": [
    {
     "name": "stdout",
     "output_type": "stream",
     "text": [
      "-1.9255349178651946\n"
     ]
    }
   ],
   "source": [
    "print(model.intercept_)"
   ]
  },
  {
   "cell_type": "markdown",
   "metadata": {
    "id": "WbnltbxdoMTm"
   },
   "source": [
    "## Defining LASSO formula"
   ]
  },
  {
   "cell_type": "code",
   "execution_count": 28,
   "metadata": {
    "colab": {
     "base_uri": "https://localhost:8080/",
     "height": 112
    },
    "id": "tRfIavR6nsxO",
    "outputId": "56451361-e79c-4b41-9e9c-cc6a9d5034cd"
   },
   "outputs": [
    {
     "data": {
      "text/html": [
       "<div>\n",
       "<style scoped>\n",
       "    .dataframe tbody tr th:only-of-type {\n",
       "        vertical-align: middle;\n",
       "    }\n",
       "\n",
       "    .dataframe tbody tr th {\n",
       "        vertical-align: top;\n",
       "    }\n",
       "\n",
       "    .dataframe thead th {\n",
       "        text-align: right;\n",
       "    }\n",
       "</style>\n",
       "<table border=\"1\" class=\"dataframe\">\n",
       "  <thead>\n",
       "    <tr style=\"text-align: right;\">\n",
       "      <th></th>\n",
       "      <th>compound</th>\n",
       "      <th>BandGap</th>\n",
       "      <th>d001</th>\n",
       "      <th>d002</th>\n",
       "      <th>d003</th>\n",
       "    </tr>\n",
       "  </thead>\n",
       "  <tbody>\n",
       "    <tr>\n",
       "      <th>0</th>\n",
       "      <td>ZnGeN2</td>\n",
       "      <td>2.44</td>\n",
       "      <td>26.743211</td>\n",
       "      <td>-3767.725011</td>\n",
       "      <td>-0.017962</td>\n",
       "    </tr>\n",
       "    <tr>\n",
       "      <th>1</th>\n",
       "      <td>ZnGeN2</td>\n",
       "      <td>3.02</td>\n",
       "      <td>26.693666</td>\n",
       "      <td>-3767.725011</td>\n",
       "      <td>-0.017962</td>\n",
       "    </tr>\n",
       "  </tbody>\n",
       "</table>\n",
       "</div>"
      ],
      "text/plain": [
       "   compound  BandGap       d001         d002      d003\n",
       "0  ZnGeN2       2.44  26.743211 -3767.725011 -0.017962\n",
       "1  ZnGeN2       3.02  26.693666 -3767.725011 -0.017962"
      ]
     },
     "execution_count": 28,
     "metadata": {},
     "output_type": "execute_result"
    }
   ],
   "source": [
    "ML_data = Descriptor[['compound', 'BandGap','d001', 'd002', 'd003']]\n",
    "ML_data.head(2)"
   ]
  },
  {
   "cell_type": "code",
   "execution_count": 29,
   "metadata": {
    "colab": {
     "base_uri": "https://localhost:8080/",
     "height": 310
    },
    "id": "EruAnWqLmc_c",
    "outputId": "75c639f4-f5ad-45f7-b05c-be4846505686"
   },
   "outputs": [
    {
     "data": {
      "text/html": [
       "<div>\n",
       "<style scoped>\n",
       "    .dataframe tbody tr th:only-of-type {\n",
       "        vertical-align: middle;\n",
       "    }\n",
       "\n",
       "    .dataframe tbody tr th {\n",
       "        vertical-align: top;\n",
       "    }\n",
       "\n",
       "    .dataframe thead th {\n",
       "        text-align: right;\n",
       "    }\n",
       "</style>\n",
       "<table border=\"1\" class=\"dataframe\">\n",
       "  <thead>\n",
       "    <tr style=\"text-align: right;\">\n",
       "      <th></th>\n",
       "      <th>compound</th>\n",
       "      <th>BandGap</th>\n",
       "      <th>d001</th>\n",
       "      <th>d002</th>\n",
       "      <th>d003</th>\n",
       "      <th>LASSO_Bandgap</th>\n",
       "    </tr>\n",
       "  </thead>\n",
       "  <tbody>\n",
       "    <tr>\n",
       "      <th>0</th>\n",
       "      <td>ZnGeN2</td>\n",
       "      <td>2.44</td>\n",
       "      <td>26.743211</td>\n",
       "      <td>-3767.725011</td>\n",
       "      <td>-0.017962</td>\n",
       "      <td>2.614579</td>\n",
       "    </tr>\n",
       "    <tr>\n",
       "      <th>1</th>\n",
       "      <td>ZnGeN2</td>\n",
       "      <td>3.02</td>\n",
       "      <td>26.693666</td>\n",
       "      <td>-3767.725011</td>\n",
       "      <td>-0.017962</td>\n",
       "      <td>2.606652</td>\n",
       "    </tr>\n",
       "    <tr>\n",
       "      <th>2</th>\n",
       "      <td>ZnGeN2</td>\n",
       "      <td>2.73</td>\n",
       "      <td>26.724029</td>\n",
       "      <td>-3767.725011</td>\n",
       "      <td>-0.017962</td>\n",
       "      <td>2.611510</td>\n",
       "    </tr>\n",
       "    <tr>\n",
       "      <th>3</th>\n",
       "      <td>AlGaN2</td>\n",
       "      <td>4.59</td>\n",
       "      <td>39.221053</td>\n",
       "      <td>85.236390</td>\n",
       "      <td>-0.005905</td>\n",
       "      <td>4.518852</td>\n",
       "    </tr>\n",
       "    <tr>\n",
       "      <th>4</th>\n",
       "      <td>AlGaN2</td>\n",
       "      <td>4.63</td>\n",
       "      <td>39.240156</td>\n",
       "      <td>85.236390</td>\n",
       "      <td>-0.005905</td>\n",
       "      <td>4.521908</td>\n",
       "    </tr>\n",
       "  </tbody>\n",
       "</table>\n",
       "</div>"
      ],
      "text/plain": [
       "   compound  BandGap       d001         d002      d003  LASSO_Bandgap\n",
       "0  ZnGeN2       2.44  26.743211 -3767.725011 -0.017962       2.614579\n",
       "1  ZnGeN2       3.02  26.693666 -3767.725011 -0.017962       2.606652\n",
       "2  ZnGeN2       2.73  26.724029 -3767.725011 -0.017962       2.611510\n",
       "3  AlGaN2       4.59  39.221053    85.236390 -0.005905       4.518852\n",
       "4  AlGaN2       4.63  39.240156    85.236390 -0.005905       4.521908"
      ]
     },
     "execution_count": 29,
     "metadata": {},
     "output_type": "execute_result"
    }
   ],
   "source": [
    "ML_data['LASSO_Bandgap'] = 0.16*ML_data['d001'] +0.000060*ML_data['d002']-26.82*ML_data['d003']-1.92\n",
    "## We are ML_data['d002'] beacuse it is too small\n",
    "#ML_data['LASSO_Bandgap'] = 0.16*ML_data['d001']+0.0001*ML_data['d002'] -26.82*ML_data['d003']-1.92\n",
    "ML_data.head()"
   ]
  },
  {
   "cell_type": "code",
   "execution_count": 30,
   "metadata": {
    "colab": {
     "base_uri": "https://localhost:8080/"
    },
    "id": "9k9AJCjdn2TX",
    "outputId": "559dbe61-e714-4063-e575-faa8cc820d99"
   },
   "outputs": [
    {
     "name": "stdout",
     "output_type": "stream",
     "text": [
      "The model performance for testing set\n",
      "--------------------------------------\n",
      "RMSE is 0.32\n",
      "R$^2$ score is 0.92\n"
     ]
    }
   ],
   "source": [
    "rmse_test = (np.sqrt(mean_squared_error(ML_data['BandGap'], ML_data['LASSO_Bandgap'])))\n",
    "rmse_test = round(rmse_test,2)\n",
    "r2_test = r2_score(ML_data['BandGap'], ML_data['LASSO_Bandgap'])\n",
    "r2_test = round(r2_test,2)\n",
    "print(\"The model performance for testing set\")\n",
    "print(\"--------------------------------------\")\n",
    "print('RMSE is {}'.format(rmse_test))\n",
    "print('R$^2$ score is {}'.format(r2_test))"
   ]
  },
  {
   "cell_type": "markdown",
   "metadata": {
    "id": "Pf8bJ9SCqWh0"
   },
   "source": [
    "The model performance for testing set   \n",
    "RMSE is 0.32   \n",
    "R$^2$ score is 0.92  "
   ]
  },
  {
   "cell_type": "code",
   "execution_count": null,
   "metadata": {
    "id": "iFssAT2rAfDY"
   },
   "outputs": [],
   "source": []
  }
 ],
 "metadata": {
  "colab": {
   "provenance": []
  },
  "kernelspec": {
   "display_name": "Python 3 (ipykernel)",
   "language": "python",
   "name": "python3"
  },
  "language_info": {
   "codemirror_mode": {
    "name": "ipython",
    "version": 3
   },
   "file_extension": ".py",
   "mimetype": "text/x-python",
   "name": "python",
   "nbconvert_exporter": "python",
   "pygments_lexer": "ipython3",
   "version": "3.11.5"
  }
 },
 "nbformat": 4,
 "nbformat_minor": 4
}
