{
 "cells": [
  {
   "cell_type": "code",
   "execution_count": 24,
   "id": "b6e1fd46",
   "metadata": {
    "id": "b6e1fd46"
   },
   "outputs": [],
   "source": [
    "import pandas as pd\n",
    "import seaborn as sns\n",
    "import numpy as np\n",
    "from sklearn.metrics import accuracy_score, confusion_matrix, ConfusionMatrixDisplay"
   ]
  },
  {
   "cell_type": "code",
   "execution_count": 3,
   "id": "5d49c055",
   "metadata": {
    "colab": {
     "base_uri": "https://localhost:8080/",
     "height": 226
    },
    "id": "5d49c055",
    "outputId": "ebca946c-bb55-4810-843e-c25e7f23a429"
   },
   "outputs": [
    {
     "data": {
      "text/html": [
       "<div>\n",
       "<style scoped>\n",
       "    .dataframe tbody tr th:only-of-type {\n",
       "        vertical-align: middle;\n",
       "    }\n",
       "\n",
       "    .dataframe tbody tr th {\n",
       "        vertical-align: top;\n",
       "    }\n",
       "\n",
       "    .dataframe thead th {\n",
       "        text-align: right;\n",
       "    }\n",
       "</style>\n",
       "<table border=\"1\" class=\"dataframe\">\n",
       "  <thead>\n",
       "    <tr style=\"text-align: right;\">\n",
       "      <th></th>\n",
       "      <th>compound</th>\n",
       "      <th>BandGap_class</th>\n",
       "      <th>Volume</th>\n",
       "      <th>vand_rad_Avg</th>\n",
       "      <th>vand_rad_Min</th>\n",
       "      <th>vand_rad_Max</th>\n",
       "      <th>cov_rad_Avg</th>\n",
       "      <th>cov_rad_Min</th>\n",
       "      <th>cov_rad_Max</th>\n",
       "      <th>atom_rad_Avg</th>\n",
       "      <th>atom_rad_Min</th>\n",
       "      <th>atom_rad_Max</th>\n",
       "      <th>density_Avg</th>\n",
       "      <th>density_Min</th>\n",
       "      <th>density_Max</th>\n",
       "    </tr>\n",
       "  </thead>\n",
       "  <tbody>\n",
       "    <tr>\n",
       "      <th>0</th>\n",
       "      <td>ZnGeN2</td>\n",
       "      <td>0</td>\n",
       "      <td>181.39</td>\n",
       "      <td>168.33</td>\n",
       "      <td>139</td>\n",
       "      <td>211</td>\n",
       "      <td>104.33</td>\n",
       "      <td>71</td>\n",
       "      <td>122</td>\n",
       "      <td>108.33</td>\n",
       "      <td>65</td>\n",
       "      <td>135</td>\n",
       "      <td>4.42</td>\n",
       "      <td>0.81</td>\n",
       "      <td>7.13</td>\n",
       "    </tr>\n",
       "    <tr>\n",
       "      <th>1</th>\n",
       "      <td>ZnGeN2</td>\n",
       "      <td>1</td>\n",
       "      <td>181.83</td>\n",
       "      <td>168.33</td>\n",
       "      <td>139</td>\n",
       "      <td>211</td>\n",
       "      <td>104.33</td>\n",
       "      <td>71</td>\n",
       "      <td>122</td>\n",
       "      <td>108.33</td>\n",
       "      <td>65</td>\n",
       "      <td>135</td>\n",
       "      <td>4.42</td>\n",
       "      <td>0.81</td>\n",
       "      <td>7.13</td>\n",
       "    </tr>\n",
       "    <tr>\n",
       "      <th>2</th>\n",
       "      <td>ZnGeN2</td>\n",
       "      <td>0</td>\n",
       "      <td>181.56</td>\n",
       "      <td>168.33</td>\n",
       "      <td>139</td>\n",
       "      <td>211</td>\n",
       "      <td>104.33</td>\n",
       "      <td>71</td>\n",
       "      <td>122</td>\n",
       "      <td>108.33</td>\n",
       "      <td>65</td>\n",
       "      <td>135</td>\n",
       "      <td>4.42</td>\n",
       "      <td>0.81</td>\n",
       "      <td>7.13</td>\n",
       "    </tr>\n",
       "    <tr>\n",
       "      <th>3</th>\n",
       "      <td>AlGaN2</td>\n",
       "      <td>1</td>\n",
       "      <td>178.46</td>\n",
       "      <td>175.33</td>\n",
       "      <td>155</td>\n",
       "      <td>187</td>\n",
       "      <td>104.67</td>\n",
       "      <td>71</td>\n",
       "      <td>122</td>\n",
       "      <td>106.67</td>\n",
       "      <td>65</td>\n",
       "      <td>130</td>\n",
       "      <td>3.14</td>\n",
       "      <td>0.81</td>\n",
       "      <td>5.91</td>\n",
       "    </tr>\n",
       "    <tr>\n",
       "      <th>4</th>\n",
       "      <td>AlGaN2</td>\n",
       "      <td>1</td>\n",
       "      <td>178.36</td>\n",
       "      <td>175.33</td>\n",
       "      <td>155</td>\n",
       "      <td>187</td>\n",
       "      <td>104.67</td>\n",
       "      <td>71</td>\n",
       "      <td>122</td>\n",
       "      <td>106.67</td>\n",
       "      <td>65</td>\n",
       "      <td>130</td>\n",
       "      <td>3.14</td>\n",
       "      <td>0.81</td>\n",
       "      <td>5.91</td>\n",
       "    </tr>\n",
       "  </tbody>\n",
       "</table>\n",
       "</div>"
      ],
      "text/plain": [
       "   compound  BandGap_class  Volume  vand_rad_Avg  vand_rad_Min  vand_rad_Max  \\\n",
       "0  ZnGeN2                0  181.39        168.33           139           211   \n",
       "1  ZnGeN2                1  181.83        168.33           139           211   \n",
       "2  ZnGeN2                0  181.56        168.33           139           211   \n",
       "3  AlGaN2                1  178.46        175.33           155           187   \n",
       "4  AlGaN2                1  178.36        175.33           155           187   \n",
       "\n",
       "   cov_rad_Avg  cov_rad_Min  cov_rad_Max  atom_rad_Avg  atom_rad_Min  \\\n",
       "0       104.33           71          122        108.33            65   \n",
       "1       104.33           71          122        108.33            65   \n",
       "2       104.33           71          122        108.33            65   \n",
       "3       104.67           71          122        106.67            65   \n",
       "4       104.67           71          122        106.67            65   \n",
       "\n",
       "   atom_rad_Max  density_Avg  density_Min  density_Max  \n",
       "0           135         4.42         0.81         7.13  \n",
       "1           135         4.42         0.81         7.13  \n",
       "2           135         4.42         0.81         7.13  \n",
       "3           130         3.14         0.81         5.91  \n",
       "4           130         3.14         0.81         5.91  "
      ]
     },
     "execution_count": 3,
     "metadata": {},
     "output_type": "execute_result"
    }
   ],
   "source": [
    "df = pd.read_csv('Class_data.csv')\n",
    "#df = pd.read_csv('SISSO_data_Class.csv')\n",
    "df.head()"
   ]
  },
  {
   "cell_type": "code",
   "execution_count": 4,
   "id": "b187013a",
   "metadata": {
    "colab": {
     "base_uri": "https://localhost:8080/",
     "height": 226
    },
    "id": "b187013a",
    "outputId": "748b8605-34be-4eeb-a08f-7c63bb63dc04"
   },
   "outputs": [
    {
     "data": {
      "text/html": [
       "<div>\n",
       "<style scoped>\n",
       "    .dataframe tbody tr th:only-of-type {\n",
       "        vertical-align: middle;\n",
       "    }\n",
       "\n",
       "    .dataframe tbody tr th {\n",
       "        vertical-align: top;\n",
       "    }\n",
       "\n",
       "    .dataframe thead th {\n",
       "        text-align: right;\n",
       "    }\n",
       "</style>\n",
       "<table border=\"1\" class=\"dataframe\">\n",
       "  <thead>\n",
       "    <tr style=\"text-align: right;\">\n",
       "      <th></th>\n",
       "      <th>compound</th>\n",
       "      <th>BandGap_class</th>\n",
       "      <th>Volume</th>\n",
       "      <th>vand_rad_Avg</th>\n",
       "      <th>vand_rad_Min</th>\n",
       "      <th>vand_rad_Max</th>\n",
       "      <th>cov_rad_Avg</th>\n",
       "      <th>cov_rad_Min</th>\n",
       "      <th>cov_rad_Max</th>\n",
       "      <th>atom_rad_Avg</th>\n",
       "      <th>atom_rad_Min</th>\n",
       "      <th>atom_rad_Max</th>\n",
       "      <th>density_Avg</th>\n",
       "      <th>density_Min</th>\n",
       "      <th>density_Max</th>\n",
       "      <th>Volume_density_Avg</th>\n",
       "      <th>Volume_atom_rad_Avg</th>\n",
       "    </tr>\n",
       "  </thead>\n",
       "  <tbody>\n",
       "    <tr>\n",
       "      <th>0</th>\n",
       "      <td>ZnGeN2</td>\n",
       "      <td>0</td>\n",
       "      <td>181.39</td>\n",
       "      <td>168.33</td>\n",
       "      <td>139</td>\n",
       "      <td>211</td>\n",
       "      <td>104.33</td>\n",
       "      <td>71</td>\n",
       "      <td>122</td>\n",
       "      <td>108.33</td>\n",
       "      <td>65</td>\n",
       "      <td>135</td>\n",
       "      <td>4.42</td>\n",
       "      <td>0.81</td>\n",
       "      <td>7.13</td>\n",
       "      <td>9.29</td>\n",
       "      <td>26.98</td>\n",
       "    </tr>\n",
       "    <tr>\n",
       "      <th>1</th>\n",
       "      <td>ZnGeN2</td>\n",
       "      <td>1</td>\n",
       "      <td>181.83</td>\n",
       "      <td>168.33</td>\n",
       "      <td>139</td>\n",
       "      <td>211</td>\n",
       "      <td>104.33</td>\n",
       "      <td>71</td>\n",
       "      <td>122</td>\n",
       "      <td>108.33</td>\n",
       "      <td>65</td>\n",
       "      <td>135</td>\n",
       "      <td>4.42</td>\n",
       "      <td>0.81</td>\n",
       "      <td>7.13</td>\n",
       "      <td>9.30</td>\n",
       "      <td>27.01</td>\n",
       "    </tr>\n",
       "    <tr>\n",
       "      <th>2</th>\n",
       "      <td>ZnGeN2</td>\n",
       "      <td>0</td>\n",
       "      <td>181.56</td>\n",
       "      <td>168.33</td>\n",
       "      <td>139</td>\n",
       "      <td>211</td>\n",
       "      <td>104.33</td>\n",
       "      <td>71</td>\n",
       "      <td>122</td>\n",
       "      <td>108.33</td>\n",
       "      <td>65</td>\n",
       "      <td>135</td>\n",
       "      <td>4.42</td>\n",
       "      <td>0.81</td>\n",
       "      <td>7.13</td>\n",
       "      <td>9.29</td>\n",
       "      <td>26.99</td>\n",
       "    </tr>\n",
       "    <tr>\n",
       "      <th>3</th>\n",
       "      <td>AlGaN2</td>\n",
       "      <td>1</td>\n",
       "      <td>178.46</td>\n",
       "      <td>175.33</td>\n",
       "      <td>155</td>\n",
       "      <td>187</td>\n",
       "      <td>104.67</td>\n",
       "      <td>71</td>\n",
       "      <td>122</td>\n",
       "      <td>106.67</td>\n",
       "      <td>65</td>\n",
       "      <td>130</td>\n",
       "      <td>3.14</td>\n",
       "      <td>0.81</td>\n",
       "      <td>5.91</td>\n",
       "      <td>8.24</td>\n",
       "      <td>26.70</td>\n",
       "    </tr>\n",
       "    <tr>\n",
       "      <th>4</th>\n",
       "      <td>AlGaN2</td>\n",
       "      <td>1</td>\n",
       "      <td>178.36</td>\n",
       "      <td>175.33</td>\n",
       "      <td>155</td>\n",
       "      <td>187</td>\n",
       "      <td>104.67</td>\n",
       "      <td>71</td>\n",
       "      <td>122</td>\n",
       "      <td>106.67</td>\n",
       "      <td>65</td>\n",
       "      <td>130</td>\n",
       "      <td>3.14</td>\n",
       "      <td>0.81</td>\n",
       "      <td>5.91</td>\n",
       "      <td>8.24</td>\n",
       "      <td>26.70</td>\n",
       "    </tr>\n",
       "  </tbody>\n",
       "</table>\n",
       "</div>"
      ],
      "text/plain": [
       "   compound  BandGap_class  Volume  vand_rad_Avg  vand_rad_Min  vand_rad_Max  \\\n",
       "0  ZnGeN2                0  181.39        168.33           139           211   \n",
       "1  ZnGeN2                1  181.83        168.33           139           211   \n",
       "2  ZnGeN2                0  181.56        168.33           139           211   \n",
       "3  AlGaN2                1  178.46        175.33           155           187   \n",
       "4  AlGaN2                1  178.36        175.33           155           187   \n",
       "\n",
       "   cov_rad_Avg  cov_rad_Min  cov_rad_Max  atom_rad_Avg  atom_rad_Min  \\\n",
       "0       104.33           71          122        108.33            65   \n",
       "1       104.33           71          122        108.33            65   \n",
       "2       104.33           71          122        108.33            65   \n",
       "3       104.67           71          122        106.67            65   \n",
       "4       104.67           71          122        106.67            65   \n",
       "\n",
       "   atom_rad_Max  density_Avg  density_Min  density_Max  Volume_density_Avg  \\\n",
       "0           135         4.42         0.81         7.13                9.29   \n",
       "1           135         4.42         0.81         7.13                9.30   \n",
       "2           135         4.42         0.81         7.13                9.29   \n",
       "3           130         3.14         0.81         5.91                8.24   \n",
       "4           130         3.14         0.81         5.91                8.24   \n",
       "\n",
       "   Volume_atom_rad_Avg  \n",
       "0                26.98  \n",
       "1                27.01  \n",
       "2                26.99  \n",
       "3                26.70  \n",
       "4                26.70  "
      ]
     },
     "execution_count": 4,
     "metadata": {},
     "output_type": "execute_result"
    }
   ],
   "source": [
    "df['Volume_density_Avg']= np.cbrt(df['Volume']*df['density_Avg'])\n",
    "df['Volume_density_Avg']= df['Volume_density_Avg'].round(decimals = 2)\n",
    "df['Volume_atom_rad_Avg']= np.cbrt(df['Volume']*df['atom_rad_Avg'])\n",
    "df['Volume_atom_rad_Avg'] = df['Volume_atom_rad_Avg'].round(decimals = 2)\n",
    "df.head()"
   ]
  },
  {
   "cell_type": "code",
   "execution_count": 5,
   "id": "EPJrlwzz0008",
   "metadata": {
    "colab": {
     "base_uri": "https://localhost:8080/"
    },
    "id": "EPJrlwzz0008",
    "outputId": "91f13b11-0a1e-44ab-cd01-509376fc23e5"
   },
   "outputs": [
    {
     "data": {
      "text/plain": [
       "(144, 17)"
      ]
     },
     "execution_count": 5,
     "metadata": {},
     "output_type": "execute_result"
    }
   ],
   "source": [
    "df.shape"
   ]
  },
  {
   "cell_type": "code",
   "execution_count": 6,
   "id": "lvGqX5W2pp0T",
   "metadata": {
    "id": "lvGqX5W2pp0T"
   },
   "outputs": [],
   "source": [
    "df1= df.copy()"
   ]
  },
  {
   "cell_type": "code",
   "execution_count": 7,
   "id": "_hnOBdBFqEWD",
   "metadata": {
    "colab": {
     "base_uri": "https://localhost:8080/",
     "height": 206
    },
    "id": "_hnOBdBFqEWD",
    "outputId": "776d0813-b14e-45ae-fe92-e4927f1d863a"
   },
   "outputs": [
    {
     "data": {
      "text/html": [
       "<div>\n",
       "<style scoped>\n",
       "    .dataframe tbody tr th:only-of-type {\n",
       "        vertical-align: middle;\n",
       "    }\n",
       "\n",
       "    .dataframe tbody tr th {\n",
       "        vertical-align: top;\n",
       "    }\n",
       "\n",
       "    .dataframe thead th {\n",
       "        text-align: right;\n",
       "    }\n",
       "</style>\n",
       "<table border=\"1\" class=\"dataframe\">\n",
       "  <thead>\n",
       "    <tr style=\"text-align: right;\">\n",
       "      <th></th>\n",
       "      <th>compound</th>\n",
       "      <th>BandGap_class</th>\n",
       "      <th>Volume_density_Avg</th>\n",
       "      <th>Volume_atom_rad_Avg</th>\n",
       "    </tr>\n",
       "  </thead>\n",
       "  <tbody>\n",
       "    <tr>\n",
       "      <th>0</th>\n",
       "      <td>ZnGeN2</td>\n",
       "      <td>0</td>\n",
       "      <td>9.29</td>\n",
       "      <td>26.98</td>\n",
       "    </tr>\n",
       "    <tr>\n",
       "      <th>1</th>\n",
       "      <td>ZnGeN2</td>\n",
       "      <td>1</td>\n",
       "      <td>9.30</td>\n",
       "      <td>27.01</td>\n",
       "    </tr>\n",
       "    <tr>\n",
       "      <th>2</th>\n",
       "      <td>ZnGeN2</td>\n",
       "      <td>0</td>\n",
       "      <td>9.29</td>\n",
       "      <td>26.99</td>\n",
       "    </tr>\n",
       "    <tr>\n",
       "      <th>3</th>\n",
       "      <td>AlGaN2</td>\n",
       "      <td>1</td>\n",
       "      <td>8.24</td>\n",
       "      <td>26.70</td>\n",
       "    </tr>\n",
       "    <tr>\n",
       "      <th>4</th>\n",
       "      <td>AlGaN2</td>\n",
       "      <td>1</td>\n",
       "      <td>8.24</td>\n",
       "      <td>26.70</td>\n",
       "    </tr>\n",
       "  </tbody>\n",
       "</table>\n",
       "</div>"
      ],
      "text/plain": [
       "   compound  BandGap_class  Volume_density_Avg  Volume_atom_rad_Avg\n",
       "0  ZnGeN2                0                9.29                26.98\n",
       "1  ZnGeN2                1                9.30                27.01\n",
       "2  ZnGeN2                0                9.29                26.99\n",
       "3  AlGaN2                1                8.24                26.70\n",
       "4  AlGaN2                1                8.24                26.70"
      ]
     },
     "execution_count": 7,
     "metadata": {},
     "output_type": "execute_result"
    }
   ],
   "source": [
    "df2 = df1[['compound','BandGap_class','Volume_density_Avg','Volume_atom_rad_Avg']]\n",
    "df2.head()"
   ]
  },
  {
   "cell_type": "code",
   "execution_count": 8,
   "id": "QnBVNE63ptYr",
   "metadata": {
    "colab": {
     "base_uri": "https://localhost:8080/",
     "height": 112
    },
    "id": "QnBVNE63ptYr",
    "outputId": "6902bc4d-10dc-4bbe-b19e-63050c906c9e"
   },
   "outputs": [
    {
     "data": {
      "text/html": [
       "<div>\n",
       "<style scoped>\n",
       "    .dataframe tbody tr th:only-of-type {\n",
       "        vertical-align: middle;\n",
       "    }\n",
       "\n",
       "    .dataframe tbody tr th {\n",
       "        vertical-align: top;\n",
       "    }\n",
       "\n",
       "    .dataframe thead th {\n",
       "        text-align: right;\n",
       "    }\n",
       "</style>\n",
       "<table border=\"1\" class=\"dataframe\">\n",
       "  <thead>\n",
       "    <tr style=\"text-align: right;\">\n",
       "      <th></th>\n",
       "      <th>Volume_density_Avg</th>\n",
       "      <th>Volume_atom_rad_Avg</th>\n",
       "    </tr>\n",
       "  </thead>\n",
       "  <tbody>\n",
       "    <tr>\n",
       "      <th>0</th>\n",
       "      <td>9.29</td>\n",
       "      <td>26.98</td>\n",
       "    </tr>\n",
       "    <tr>\n",
       "      <th>1</th>\n",
       "      <td>9.30</td>\n",
       "      <td>27.01</td>\n",
       "    </tr>\n",
       "  </tbody>\n",
       "</table>\n",
       "</div>"
      ],
      "text/plain": [
       "   Volume_density_Avg  Volume_atom_rad_Avg\n",
       "0                9.29                26.98\n",
       "1                9.30                27.01"
      ]
     },
     "execution_count": 8,
     "metadata": {},
     "output_type": "execute_result"
    }
   ],
   "source": [
    "X1 = df2.drop(['compound','BandGap_class'], axis=1)\n",
    "#X1 = df2.drop(['compound','BandGap_class','Volume_density_Avg'], axis=1)\n",
    "X1.head(2)"
   ]
  },
  {
   "cell_type": "code",
   "execution_count": 9,
   "id": "7Ly15f9tqoK8",
   "metadata": {
    "colab": {
     "base_uri": "https://localhost:8080/",
     "height": 147
    },
    "id": "7Ly15f9tqoK8",
    "outputId": "9e64ff75-0df8-40f0-f9b9-efa62ea2ae0f"
   },
   "outputs": [
    {
     "data": {
      "text/plain": [
       "0    0\n",
       "1    1\n",
       "Name: BandGap_class, dtype: int64"
      ]
     },
     "execution_count": 9,
     "metadata": {},
     "output_type": "execute_result"
    }
   ],
   "source": [
    "Y1 = df2['BandGap_class']\n",
    "Y1.head(2)"
   ]
  },
  {
   "cell_type": "markdown",
   "id": "WV2ohb-ord2V",
   "metadata": {
    "id": "WV2ohb-ord2V"
   },
   "source": [
    "## ML Model"
   ]
  },
  {
   "cell_type": "code",
   "execution_count": 10,
   "id": "yxalGnwSrt5P",
   "metadata": {
    "id": "yxalGnwSrt5P"
   },
   "outputs": [],
   "source": [
    "import pandas as pd\n",
    "import numpy as np\n",
    "from sklearn.model_selection import train_test_split\n",
    "from sklearn import metrics\n",
    "from sklearn.model_selection import cross_val_score\n",
    "from sklearn.metrics import mean_squared_error\n",
    "from sklearn import preprocessing\n",
    "import matplotlib.pyplot as plt\n",
    "import pandas as pd\n",
    "import matplotlib.pyplot as plt\n",
    "import numpy as np\n",
    "from scipy import stats\n",
    "import seaborn as sns\n",
    "from scipy.stats import norm\n",
    "from scipy.stats import skew,kurtosis\n",
    "#-----------------------------------------------------##\n",
    "from sklearn.linear_model import LinearRegression\n",
    "from sklearn.linear_model import Ridge\n",
    "from sklearn.linear_model import Lasso\n",
    "from sklearn.kernel_ridge import KernelRidge\n",
    "from sklearn import ensemble\n",
    "from sklearn.ensemble import GradientBoostingRegressor\n",
    "from sklearn.gaussian_process import GaussianProcessRegressor\n",
    "from sklearn.ensemble import RandomForestRegressor\n",
    "from sklearn.gaussian_process.kernels import RBF, ConstantKernel as C\n",
    "from sklearn.gaussian_process.kernels import DotProduct, WhiteKernel\n",
    "from sklearn.gaussian_process.kernels import DotProduct, WhiteKernel, Matern\n",
    "#-------------------------------------------------------------------------\n",
    "import csv\n",
    "import os\n",
    "from sklearn.cross_decomposition import PLSRegression\n",
    "from sklearn.metrics import mean_squared_error\n",
    "from sklearn.metrics import r2_score\n",
    "from sklearn.linear_model import LogisticRegression\n",
    "from sklearn.discriminant_analysis import LinearDiscriminantAnalysis\n",
    "from sklearn.neighbors import KNeighborsClassifier\n",
    "from sklearn.naive_bayes import GaussianNB\n",
    "from sklearn.tree import DecisionTreeClassifier\n",
    "from sklearn.svm import SVC\n",
    "\n",
    "from sklearn.metrics import accuracy_score\n",
    "from sklearn.metrics import confusion_matrix\n",
    "from sklearn.metrics import classification_report\n",
    "import numpy as np\n",
    "import matplotlib.pyplot as plt\n",
    "from matplotlib.colors import ListedColormap\n",
    "from sklearn.model_selection import train_test_split\n",
    "from sklearn.preprocessing import StandardScaler\n",
    "from sklearn.datasets import make_moons, make_circles, make_classification\n",
    "from sklearn.neural_network import MLPClassifier\n",
    "from sklearn.neighbors import KNeighborsClassifier\n",
    "from sklearn.svm import SVC\n",
    "from sklearn.gaussian_process import GaussianProcessClassifier\n",
    "from sklearn.gaussian_process.kernels import RBF\n",
    "from sklearn.tree import DecisionTreeClassifier\n",
    "from sklearn.ensemble import RandomForestClassifier, AdaBoostClassifier\n",
    "from sklearn.naive_bayes import GaussianNB\n",
    "from sklearn.discriminant_analysis import QuadraticDiscriminantAnalysis\n",
    "from sklearn import svm\n",
    "import os\n",
    "import csv\n",
    "import pandas as pd\n",
    "from shutil import copyfile\n",
    "from imblearn.over_sampling import SMOTE\n",
    "from sklearn.model_selection import train_test_split\n",
    "from sklearn.tree import DecisionTreeClassifier\n",
    "from sklearn.metrics import accuracy_score, precision_score, recall_score, f1_score"
   ]
  },
  {
   "cell_type": "code",
   "execution_count": 11,
   "id": "0tSB8guxlnJ8",
   "metadata": {
    "id": "0tSB8guxlnJ8"
   },
   "outputs": [],
   "source": [
    "import csv\n",
    "import os\n",
    "from sklearn.ensemble import RandomForestClassifier, AdaBoostClassifier\n",
    "from sklearn.tree import DecisionTreeClassifier\n",
    "from sklearn.ensemble import GradientBoostingClassifier\n",
    "from sklearn.linear_model import LogisticRegression\n",
    "from sklearn.naive_bayes import GaussianNB\n",
    "from sklearn.datasets import make_hastie_10_2\n",
    "from sklearn.ensemble import GradientBoostingClassifier\n",
    "from sklearn.metrics import accuracy_score\n",
    "from sklearn.metrics import confusion_matrix\n",
    "from sklearn.metrics import classification_report\n",
    "from imblearn.over_sampling import SMOTE"
   ]
  },
  {
   "cell_type": "code",
   "execution_count": 12,
   "id": "hBgLfKPPrzXr",
   "metadata": {
    "id": "hBgLfKPPrzXr"
   },
   "outputs": [],
   "source": [
    "#X = preprocessing.scale(X2)\n",
    "X = X1.copy()"
   ]
  },
  {
   "cell_type": "code",
   "execution_count": 13,
   "id": "mVlcdcvokdpU",
   "metadata": {
    "colab": {
     "base_uri": "https://localhost:8080/"
    },
    "id": "mVlcdcvokdpU",
    "outputId": "2127ae78-bbb2-4e0e-dfd3-039d50b906ad"
   },
   "outputs": [
    {
     "data": {
      "text/plain": [
       "(144, 2)"
      ]
     },
     "execution_count": 13,
     "metadata": {},
     "output_type": "execute_result"
    }
   ],
   "source": [
    "X.shape"
   ]
  },
  {
   "cell_type": "code",
   "execution_count": 14,
   "id": "i3-AJ22Ohqvo",
   "metadata": {
    "colab": {
     "base_uri": "https://localhost:8080/",
     "height": 112
    },
    "id": "i3-AJ22Ohqvo",
    "outputId": "ad46f680-fa6d-45c2-b01e-82a860b514eb"
   },
   "outputs": [
    {
     "data": {
      "text/html": [
       "<div>\n",
       "<style scoped>\n",
       "    .dataframe tbody tr th:only-of-type {\n",
       "        vertical-align: middle;\n",
       "    }\n",
       "\n",
       "    .dataframe tbody tr th {\n",
       "        vertical-align: top;\n",
       "    }\n",
       "\n",
       "    .dataframe thead th {\n",
       "        text-align: right;\n",
       "    }\n",
       "</style>\n",
       "<table border=\"1\" class=\"dataframe\">\n",
       "  <thead>\n",
       "    <tr style=\"text-align: right;\">\n",
       "      <th></th>\n",
       "      <th>Volume_density_Avg</th>\n",
       "      <th>Volume_atom_rad_Avg</th>\n",
       "    </tr>\n",
       "  </thead>\n",
       "  <tbody>\n",
       "    <tr>\n",
       "      <th>0</th>\n",
       "      <td>9.29</td>\n",
       "      <td>26.98</td>\n",
       "    </tr>\n",
       "    <tr>\n",
       "      <th>1</th>\n",
       "      <td>9.30</td>\n",
       "      <td>27.01</td>\n",
       "    </tr>\n",
       "  </tbody>\n",
       "</table>\n",
       "</div>"
      ],
      "text/plain": [
       "   Volume_density_Avg  Volume_atom_rad_Avg\n",
       "0                9.29                26.98\n",
       "1                9.30                27.01"
      ]
     },
     "execution_count": 14,
     "metadata": {},
     "output_type": "execute_result"
    }
   ],
   "source": [
    "X.head(2)"
   ]
  },
  {
   "cell_type": "code",
   "execution_count": 15,
   "id": "W63Wx5Arht82",
   "metadata": {
    "colab": {
     "base_uri": "https://localhost:8080/",
     "height": 147
    },
    "id": "W63Wx5Arht82",
    "outputId": "65a7fb8a-6531-4bab-847f-edd176a4c1d2"
   },
   "outputs": [
    {
     "data": {
      "text/plain": [
       "0    0\n",
       "1    1\n",
       "Name: BandGap_class, dtype: int64"
      ]
     },
     "execution_count": 15,
     "metadata": {},
     "output_type": "execute_result"
    }
   ],
   "source": [
    "Y1.head(2)"
   ]
  },
  {
   "cell_type": "code",
   "execution_count": 17,
   "id": "TcXZ6VCwhx3c",
   "metadata": {
    "colab": {
     "base_uri": "https://localhost:8080/",
     "height": 213
    },
    "id": "TcXZ6VCwhx3c",
    "outputId": "4ab83d32-3655-4bfa-a701-dff7822d0eba"
   },
   "outputs": [
    {
     "data": {
      "text/plain": [
       "0    72\n",
       "1    72\n",
       "Name: BandGap_class, dtype: int64"
      ]
     },
     "execution_count": 17,
     "metadata": {},
     "output_type": "execute_result"
    }
   ],
   "source": [
    "pd.value_counts(Y1)"
   ]
  },
  {
   "cell_type": "markdown",
   "id": "0Em6Hlr9ixo4",
   "metadata": {
    "id": "0Em6Hlr9ixo4"
   },
   "source": [
    "## LogisticRegression"
   ]
  },
  {
   "cell_type": "code",
   "execution_count": 18,
   "id": "8vB9qNSZiz6V",
   "metadata": {
    "colab": {
     "base_uri": "https://localhost:8080/"
    },
    "id": "8vB9qNSZiz6V",
    "outputId": "0b610258-765d-4dd4-9c70-21a9e6f503d1"
   },
   "outputs": [
    {
     "name": "stdout",
     "output_type": "stream",
     "text": [
      "        Accuracy\n",
      "count  20.000000\n",
      "mean    0.970833\n",
      "std     0.021088\n",
      "min     0.916667\n",
      "25%     0.972222\n",
      "50%     0.972222\n",
      "75%     0.972222\n",
      "max     1.000000\n"
     ]
    }
   ],
   "source": [
    "import pandas as pd\n",
    "import numpy as np\n",
    "import csv\n",
    "import os\n",
    "from shutil import copyfile\n",
    "from sklearn.model_selection import train_test_split\n",
    "from sklearn.linear_model import LogisticRegression\n",
    "from sklearn.metrics import accuracy_score\n",
    "\n",
    "for n in range(0, 20, 1):\n",
    "    X_train, X_test, Y_train, Y_test = train_test_split(X, Y1, test_size=0.25, random_state=n)\n",
    "\n",
    "    model = LogisticRegression(max_iter=1000, random_state=n)\n",
    "    model.fit(X_train, Y_train)\n",
    "\n",
    "    y_test_pred = model.predict(X_test)\n",
    "    accuracy = accuracy_score(Y_test, y_test_pred)\n",
    "\n",
    "    with open('out.csv', mode='a') as out_file:\n",
    "        out_writer = csv.writer(out_file, delimiter=',', quotechar='\"', quoting=csv.QUOTE_MINIMAL)\n",
    "        out_writer.writerow([n, accuracy])\n",
    "\n",
    "copyfile('out.csv', 'out2.csv')\n",
    "\n",
    "# Import the out.csv file and print the statistics\n",
    "data_stat = pd.read_csv('out.csv', names=[ \"Accuracy\"])\n",
    "print(data_stat.describe())\n",
    "\n",
    "# Removing out.csv file\n",
    "try:\n",
    "    os.remove(\"out.csv\")\n",
    "except OSError:\n",
    "    pass\n"
   ]
  },
  {
   "cell_type": "code",
   "execution_count": null,
   "id": "Wmv_4hOzqqCJ",
   "metadata": {
    "id": "Wmv_4hOzqqCJ"
   },
   "outputs": [],
   "source": [
    "#  Accuracy\n",
    "# count  20.000000\n",
    "# mean    0.970833\n",
    "# std     0.021088\n",
    "# min     0.916667\n",
    "# 25%     0.972222\n",
    "# 50%     0.972222\n",
    "# 75%     0.972222\n",
    "# max     1.000000"
   ]
  },
  {
   "cell_type": "code",
   "execution_count": 19,
   "id": "_yIs64l-koBO",
   "metadata": {
    "colab": {
     "base_uri": "https://localhost:8080/"
    },
    "id": "_yIs64l-koBO",
    "outputId": "7cf072cc-a479-4209-b079-8ea5318e9038"
   },
   "outputs": [
    {
     "name": "stdout",
     "output_type": "stream",
     "text": [
      "    Accuracy\n",
      "0   0.972222\n",
      "1   0.972222\n",
      "2   0.972222\n",
      "3   1.000000\n",
      "4   0.916667\n",
      "5   1.000000\n",
      "6   0.972222\n",
      "7   1.000000\n",
      "8   0.972222\n",
      "9   0.972222\n",
      "10  0.944444\n",
      "11  0.944444\n",
      "12  0.972222\n",
      "13  1.000000\n",
      "14  0.972222\n",
      "15  0.972222\n",
      "16  0.972222\n",
      "17  0.944444\n",
      "18  0.972222\n",
      "19  0.972222\n"
     ]
    }
   ],
   "source": [
    "print(data_stat)"
   ]
  },
  {
   "cell_type": "markdown",
   "id": "s9DiXbuOluf6",
   "metadata": {
    "id": "s9DiXbuOluf6",
    "jp-MarkdownHeadingCollapsed": true
   },
   "source": [
    "#### Taking random state 1"
   ]
  },
  {
   "cell_type": "markdown",
   "id": "mzO2JteSjEfN",
   "metadata": {
    "id": "mzO2JteSjEfN"
   },
   "source": [
    "The logistic regression model follows the **logistic (sigmoid) function**, which is given by:\n",
    "\n",
    "\\[\n",
    "P(Y = 1 \\mid X) = \\frac{1}{1 + e^{-(\\beta_0 + \\beta_1 X_1 + \\beta_2 X_2 + \\dots + \\beta_n X_n)}}\n",
    "\\]\n",
    "\n",
    "where:  \n",
    "- \\( P(Y = 1 \\mid X) \\) is the probability of the positive class.  \n",
    "- \\( \\beta_0 \\) is the intercept (bias term).  \n",
    "- \\( \\beta_1, \\beta_2, \\dots, \\beta_n \\) are the model coefficients (weights).  \n",
    "- \\( X_1, X_2, \\dots, X_n \\) are the input features.  \n",
    "- \\( e \\) is Euler's number (~2.718).  \n",
    "\n",
    "### **Decision Rule**:\n",
    "Once we calculate the probability \\( P(Y = 1 \\mid X) \\), we classify the instance as:  \n",
    "\\[\n",
    "\\hat{Y} =\n",
    "\\begin{cases}\n",
    "1, & \\text{if } P(Y = 1 \\mid X) \\geq 0.5 \\\\\n",
    "0, & \\text{otherwise}\n",
    "\\end{cases}\n",
    "\\]\n",
    "\n",
    "This formula is used in the `LogisticRegression` model in your code to predict class labels."
   ]
  },
  {
   "cell_type": "code",
   "execution_count": 20,
   "id": "BX6W8_nAln08",
   "metadata": {
    "colab": {
     "base_uri": "https://localhost:8080/"
    },
    "id": "BX6W8_nAln08",
    "outputId": "8536094b-8a4d-45e4-c00b-8e6d56cba8d7"
   },
   "outputs": [
    {
     "name": "stdout",
     "output_type": "stream",
     "text": [
      "Random State 1:\n",
      "Logistic Regression Equation:\n",
      "P(Y=1) = 1 / (1 + exp(-(59.7791 + -1.3922*X1 + -1.6524*X2)))\n",
      "\n",
      "       Accuracy\n",
      "count  1.000000\n",
      "mean   0.972222\n",
      "std         NaN\n",
      "min    0.972222\n",
      "25%    0.972222\n",
      "50%    0.972222\n",
      "75%    0.972222\n",
      "max    0.972222\n"
     ]
    }
   ],
   "source": [
    "n=1\n",
    "X_train, X_test, Y_train, Y_test = train_test_split(X, Y1, test_size=0.25, random_state=n)\n",
    "model = LogisticRegression(max_iter=1000, random_state=n)\n",
    "model.fit(X_train, Y_train)\n",
    "y_test_pred = model.predict(X_test)\n",
    "accuracy = accuracy_score(Y_test, y_test_pred)\n",
    "# Extracting the logistic regression formula\n",
    "coefficients = model.coef_[0]  # Coefficients (weights)\n",
    "intercept = model.intercept_[0]  # Intercept (bias)\n",
    "formula_terms = [f\"{coef:.4f}*X{i+1}\" for i, coef in enumerate(coefficients)]\n",
    "formula = \" + \".join(formula_terms)\n",
    "equation = f\"P(Y=1) = 1 / (1 + exp(-({intercept:.4f} + {formula})))\"\n",
    "print(f\"Random State {n}:\")\n",
    "print(f\"Logistic Regression Equation:\\n{equation}\\n\")\n",
    "with open('out.csv', mode='a') as out_file:\n",
    "  out_writer = csv.writer(out_file, delimiter=',', quotechar='\"', quoting=csv.QUOTE_MINIMAL)\n",
    "  out_writer.writerow([n, accuracy])\n",
    "copyfile('out.csv', 'out2.csv')\n",
    "\n",
    "# Import the out.csv file and print the statistics\n",
    "data_stat = pd.read_csv('out.csv', names=[ \"Accuracy\"])\n",
    "print(data_stat.describe())\n",
    "# Removing out.csv file\n",
    "try:\n",
    "    os.remove(\"out.csv\")\n",
    "except OSError:\n",
    "    pass\n"
   ]
  },
  {
   "cell_type": "code",
   "execution_count": null,
   "id": "8HCZZ63cqs4f",
   "metadata": {
    "id": "8HCZZ63cqs4f"
   },
   "outputs": [],
   "source": [
    "# Random State 1:\n",
    "# Logistic Regression Equation:\n",
    "# P(Y=1) = 1 / (1 + exp(-(59.7791 + -1.3922*X1 + -1.6524*X2)))\n",
    "\n",
    "#        Accuracy\n",
    "# count  1.000000\n",
    "# mean   0.972222\n",
    "# std         NaN\n",
    "# min    0.972222\n",
    "# 25%    0.972222\n",
    "# 50%    0.972222\n",
    "# 75%    0.972222\n",
    "# max    0.972222"
   ]
  },
  {
   "cell_type": "code",
   "execution_count": 29,
   "id": "2dd8ca98-2463-4231-b0db-2ecd8ceb9717",
   "metadata": {},
   "outputs": [
    {
     "data": {
      "text/plain": [
       "(108,)"
      ]
     },
     "execution_count": 29,
     "metadata": {},
     "output_type": "execute_result"
    }
   ],
   "source": [
    "Y_train.shape"
   ]
  },
  {
   "cell_type": "code",
   "execution_count": 27,
   "id": "bd0914a0-f42d-47fb-8b21-af34f0740ea6",
   "metadata": {},
   "outputs": [
    {
     "data": {
      "text/plain": [
       "(36,)"
      ]
     },
     "execution_count": 27,
     "metadata": {},
     "output_type": "execute_result"
    }
   ],
   "source": [
    "Y_test.shape"
   ]
  },
  {
   "cell_type": "code",
   "execution_count": 30,
   "id": "5a688cb7-2c58-4389-aff2-aa1581f19f8f",
   "metadata": {},
   "outputs": [
    {
     "data": {
      "text/plain": [
       "144"
      ]
     },
     "execution_count": 30,
     "metadata": {},
     "output_type": "execute_result"
    }
   ],
   "source": [
    "108+36"
   ]
  },
  {
   "cell_type": "code",
   "execution_count": 21,
   "id": "0eSLHdlvpS5e",
   "metadata": {
    "colab": {
     "base_uri": "https://localhost:8080/"
    },
    "id": "0eSLHdlvpS5e",
    "outputId": "f0b34c47-9f5f-4e56-ddd5-678730227d8b"
   },
   "outputs": [
    {
     "name": "stdout",
     "output_type": "stream",
     "text": [
      "Classification Report:\n",
      "              precision    recall  f1-score   support\n",
      "\n",
      "           0       1.00      0.95      0.98        22\n",
      "           1       0.93      1.00      0.97        14\n",
      "\n",
      "    accuracy                           0.97        36\n",
      "   macro avg       0.97      0.98      0.97        36\n",
      "weighted avg       0.97      0.97      0.97        36\n",
      "\n"
     ]
    }
   ],
   "source": [
    "# Print classification report\n",
    "print(\"Classification Report:\")\n",
    "print(classification_report(Y_test, y_test_pred))"
   ]
  },
  {
   "cell_type": "code",
   "execution_count": 22,
   "id": "FCHJzYbgpWGz",
   "metadata": {
    "id": "FCHJzYbgpWGz"
   },
   "outputs": [],
   "source": [
    "# Classification Report:\n",
    "#               precision    recall  f1-score   support\n",
    "\n",
    "#            0       1.00      0.95      0.98        22\n",
    "#            1       0.93      1.00      0.97        14\n",
    "\n",
    "#     accuracy                           0.97        36\n",
    "#    macro avg       0.97      0.98      0.97        36\n",
    "# weighted avg       0.97      0.97      0.97        36"
   ]
  },
  {
   "cell_type": "code",
   "execution_count": 33,
   "id": "4f4e5202-9859-4b1f-a0f3-568a153a3190",
   "metadata": {},
   "outputs": [
    {
     "data": {
      "text/plain": [
       "<Figure size 1600x1600 with 0 Axes>"
      ]
     },
     "metadata": {},
     "output_type": "display_data"
    },
    {
     "data": {
      "image/png": "[encoded data removed]",
      "text/plain": [
       "<Figure size 640x480 with 2 Axes>"
      ]
     },
     "metadata": {},
     "output_type": "display_data"
    }
   ],
   "source": [
    "# Generate Confusion Matrix\n",
    "plt.figure(figsize=(4,4),dpi=400)\n",
    "cm = confusion_matrix(Y_test, y_test_pred)\n",
    "disp = ConfusionMatrixDisplay(confusion_matrix=cm)\n",
    "disp.plot(cmap='Blues')\n",
    "plt.title(f'Confusion Matrix (Random State {n})')\n",
    "plt.savefig('Confusion_Matrix.pdf')\n",
    "plt.show()"
   ]
  },
  {
   "cell_type": "code",
   "execution_count": 26,
   "id": "44c3f520-7e16-485c-9ddc-9a5c5c291112",
   "metadata": {},
   "outputs": [
    {
     "name": "stdout",
     "output_type": "stream",
     "text": [
      "Confusion Matrix (Raw Values):\n",
      "[[21  1]\n",
      " [ 0 14]]\n"
     ]
    }
   ],
   "source": [
    "# Generate Confusion Matrix\n",
    "cm = confusion_matrix(Y_test, y_test_pred)\n",
    "print(\"Confusion Matrix (Raw Values):\")\n",
    "print(cm)"
   ]
  },
  {
   "cell_type": "markdown",
   "id": "65e37388-225a-4cdc-9003-6f1413d92195",
   "metadata": {},
   "source": [
    "The logistic regression model demonstrated strong classification performance. Out of the total test samples, it correctly classified 21 instances of class 0 (true negatives) and 14 instances of class 1 (true positives). There was only one misclassification, where the model predicted class 1 instead of the true class 0 (false positive), and notably, there were no false negatives. This resulted in an overall high accuracy of the model. The precision for class 1 is 93.3% (14 correct out of 15 predicted positives), while the recall is a perfect 100% (all actual positives were correctly identified). The F1-score, which balances precision and recall, is 96.6%. These metrics indicate that the model is both precise and sensitive, making it reliable especially for detecting positive cases. The near-perfect performance reflects the model's robustness on this dataset.\n",
    "\n"
   ]
  },
  {
   "cell_type": "code",
   "execution_count": null,
   "id": "a82964bc-8976-4808-8262-7c628a233e00",
   "metadata": {},
   "outputs": [],
   "source": []
  }
 ],
 "metadata": {
  "colab": {
   "provenance": []
  },
  "kernelspec": {
   "display_name": "Python 3 (ipykernel)",
   "language": "python",
   "name": "python3"
  },
  "language_info": {
   "codemirror_mode": {
    "name": "ipython",
    "version": 3
   },
   "file_extension": ".py",
   "mimetype": "text/x-python",
   "name": "python",
   "nbconvert_exporter": "python",
   "pygments_lexer": "ipython3",
   "version": "3.11.5"
  }
 },
 "nbformat": 4,
 "nbformat_minor": 5
}
