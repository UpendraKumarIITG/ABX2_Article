{
 "cells": [
  {
   "cell_type": "code",
   "execution_count": 1,
   "id": "06359d52",
   "metadata": {
    "id": "06359d52"
   },
   "outputs": [],
   "source": [
    "import csv\n",
    "import os\n",
    "from sklearn.cross_decomposition import PLSRegression\n",
    "from sklearn import svm\n",
    "from sklearn.svm import SVR\n",
    "import xgboost as xgb"
   ]
  },
  {
   "cell_type": "code",
   "execution_count": 2,
   "id": "fc0e4008",
   "metadata": {
    "id": "fc0e4008"
   },
   "outputs": [],
   "source": [
    "##Import the modules\n",
    "import pandas as pd\n",
    "import numpy as np\n",
    "from sklearn.model_selection import train_test_split\n",
    "from sklearn import metrics\n",
    "from sklearn.model_selection import cross_val_score\n",
    "from sklearn.metrics import mean_squared_error\n",
    "from sklearn import preprocessing\n",
    "import matplotlib.pyplot as plt\n",
    "#-----------------------------------------------------##\n",
    "from sklearn.linear_model import LinearRegression\n",
    "from sklearn.linear_model import Ridge\n",
    "from sklearn.linear_model import Lasso\n",
    "from sklearn.kernel_ridge import KernelRidge\n",
    "from sklearn import ensemble\n",
    "from sklearn.ensemble import GradientBoostingRegressor\n",
    "from sklearn.gaussian_process import GaussianProcessRegressor\n",
    "from sklearn.ensemble import RandomForestRegressor\n",
    "from sklearn.gaussian_process.kernels import RBF, ConstantKernel as C\n",
    "from sklearn.gaussian_process.kernels import DotProduct, WhiteKernel\n",
    "from sklearn.gaussian_process.kernels import DotProduct, WhiteKernel, Matern"
   ]
  },
  {
   "cell_type": "code",
   "execution_count": 3,
   "id": "0af8b3ef",
   "metadata": {
    "id": "0af8b3ef"
   },
   "outputs": [],
   "source": [
    "import pandas as pd\n",
    "import numpy as np\n",
    "import warnings\n",
    "warnings.filterwarnings('ignore')\n",
    "import seaborn as sns\n",
    "import matplotlib.pyplot as plt"
   ]
  },
  {
   "cell_type": "code",
   "execution_count": 4,
   "id": "c1e8e487",
   "metadata": {
    "colab": {
     "base_uri": "https://localhost:8080/",
     "height": 226
    },
    "id": "c1e8e487",
    "outputId": "1dbc5876-6345-42b9-cb84-e699c0c3d3c8"
   },
   "outputs": [
    {
     "data": {
      "text/html": [
       "<div>\n",
       "<style scoped>\n",
       "    .dataframe tbody tr th:only-of-type {\n",
       "        vertical-align: middle;\n",
       "    }\n",
       "\n",
       "    .dataframe tbody tr th {\n",
       "        vertical-align: top;\n",
       "    }\n",
       "\n",
       "    .dataframe thead th {\n",
       "        text-align: right;\n",
       "    }\n",
       "</style>\n",
       "<table border=\"1\" class=\"dataframe\">\n",
       "  <thead>\n",
       "    <tr style=\"text-align: right;\">\n",
       "      <th></th>\n",
       "      <th>compound</th>\n",
       "      <th>BandGap</th>\n",
       "      <th>Volume</th>\n",
       "      <th>vand_rad_Avg</th>\n",
       "      <th>vand_rad_Min</th>\n",
       "      <th>vand_rad_Max</th>\n",
       "      <th>cov_rad_Avg</th>\n",
       "      <th>cov_rad_Min</th>\n",
       "      <th>cov_rad_Max</th>\n",
       "      <th>atom_rad_Avg</th>\n",
       "      <th>atom_rad_Min</th>\n",
       "      <th>atom_rad_Max</th>\n",
       "      <th>density_Avg</th>\n",
       "      <th>density_Min</th>\n",
       "      <th>density_Max</th>\n",
       "    </tr>\n",
       "  </thead>\n",
       "  <tbody>\n",
       "    <tr>\n",
       "      <th>0</th>\n",
       "      <td>ZnGeN2</td>\n",
       "      <td>2.44</td>\n",
       "      <td>181.39</td>\n",
       "      <td>168.33</td>\n",
       "      <td>139</td>\n",
       "      <td>211</td>\n",
       "      <td>104.33</td>\n",
       "      <td>71</td>\n",
       "      <td>122</td>\n",
       "      <td>108.33</td>\n",
       "      <td>65</td>\n",
       "      <td>135</td>\n",
       "      <td>4.42</td>\n",
       "      <td>0.81</td>\n",
       "      <td>7.13</td>\n",
       "    </tr>\n",
       "    <tr>\n",
       "      <th>1</th>\n",
       "      <td>ZnGeN2</td>\n",
       "      <td>3.02</td>\n",
       "      <td>181.83</td>\n",
       "      <td>168.33</td>\n",
       "      <td>139</td>\n",
       "      <td>211</td>\n",
       "      <td>104.33</td>\n",
       "      <td>71</td>\n",
       "      <td>122</td>\n",
       "      <td>108.33</td>\n",
       "      <td>65</td>\n",
       "      <td>135</td>\n",
       "      <td>4.42</td>\n",
       "      <td>0.81</td>\n",
       "      <td>7.13</td>\n",
       "    </tr>\n",
       "    <tr>\n",
       "      <th>2</th>\n",
       "      <td>ZnGeN2</td>\n",
       "      <td>2.73</td>\n",
       "      <td>181.56</td>\n",
       "      <td>168.33</td>\n",
       "      <td>139</td>\n",
       "      <td>211</td>\n",
       "      <td>104.33</td>\n",
       "      <td>71</td>\n",
       "      <td>122</td>\n",
       "      <td>108.33</td>\n",
       "      <td>65</td>\n",
       "      <td>135</td>\n",
       "      <td>4.42</td>\n",
       "      <td>0.81</td>\n",
       "      <td>7.13</td>\n",
       "    </tr>\n",
       "    <tr>\n",
       "      <th>3</th>\n",
       "      <td>AlGaN2</td>\n",
       "      <td>4.59</td>\n",
       "      <td>178.46</td>\n",
       "      <td>175.33</td>\n",
       "      <td>155</td>\n",
       "      <td>187</td>\n",
       "      <td>104.67</td>\n",
       "      <td>71</td>\n",
       "      <td>122</td>\n",
       "      <td>106.67</td>\n",
       "      <td>65</td>\n",
       "      <td>130</td>\n",
       "      <td>3.14</td>\n",
       "      <td>0.81</td>\n",
       "      <td>5.91</td>\n",
       "    </tr>\n",
       "    <tr>\n",
       "      <th>4</th>\n",
       "      <td>AlGaN2</td>\n",
       "      <td>4.63</td>\n",
       "      <td>178.36</td>\n",
       "      <td>175.33</td>\n",
       "      <td>155</td>\n",
       "      <td>187</td>\n",
       "      <td>104.67</td>\n",
       "      <td>71</td>\n",
       "      <td>122</td>\n",
       "      <td>106.67</td>\n",
       "      <td>65</td>\n",
       "      <td>130</td>\n",
       "      <td>3.14</td>\n",
       "      <td>0.81</td>\n",
       "      <td>5.91</td>\n",
       "    </tr>\n",
       "  </tbody>\n",
       "</table>\n",
       "</div>"
      ],
      "text/plain": [
       "   compound  BandGap  Volume  vand_rad_Avg  vand_rad_Min  vand_rad_Max  \\\n",
       "0  ZnGeN2       2.44  181.39        168.33           139           211   \n",
       "1  ZnGeN2       3.02  181.83        168.33           139           211   \n",
       "2  ZnGeN2       2.73  181.56        168.33           139           211   \n",
       "3  AlGaN2       4.59  178.46        175.33           155           187   \n",
       "4  AlGaN2       4.63  178.36        175.33           155           187   \n",
       "\n",
       "   cov_rad_Avg  cov_rad_Min  cov_rad_Max  atom_rad_Avg  atom_rad_Min  \\\n",
       "0       104.33           71          122        108.33            65   \n",
       "1       104.33           71          122        108.33            65   \n",
       "2       104.33           71          122        108.33            65   \n",
       "3       104.67           71          122        106.67            65   \n",
       "4       104.67           71          122        106.67            65   \n",
       "\n",
       "   atom_rad_Max  density_Avg  density_Min  density_Max  \n",
       "0           135         4.42         0.81         7.13  \n",
       "1           135         4.42         0.81         7.13  \n",
       "2           135         4.42         0.81         7.13  \n",
       "3           130         3.14         0.81         5.91  \n",
       "4           130         3.14         0.81         5.91  "
      ]
     },
     "execution_count": 4,
     "metadata": {},
     "output_type": "execute_result"
    }
   ],
   "source": [
    "df1 = pd.read_csv('Descriptor_GaBP2__20_Sep_24.csv')\n",
    "df1 = df1.round(decimals = 2)\n",
    "df1.head()"
   ]
  },
  {
   "cell_type": "code",
   "execution_count": 5,
   "id": "2167d13e",
   "metadata": {
    "colab": {
     "base_uri": "https://localhost:8080/"
    },
    "id": "2167d13e",
    "outputId": "27b8266e-9bc4-41f7-8b09-0f526ffb2f1b"
   },
   "outputs": [
    {
     "data": {
      "text/plain": [
       "Index(['compound', 'BandGap', 'Volume', 'vand_rad_Avg', 'vand_rad_Min',\n",
       "       'vand_rad_Max', 'cov_rad_Avg', 'cov_rad_Min', 'cov_rad_Max',\n",
       "       'atom_rad_Avg', 'atom_rad_Min', 'atom_rad_Max', 'density_Avg',\n",
       "       'density_Min', 'density_Max'],\n",
       "      dtype='object')"
      ]
     },
     "execution_count": 5,
     "metadata": {},
     "output_type": "execute_result"
    }
   ],
   "source": [
    "df1.keys()"
   ]
  },
  {
   "cell_type": "markdown",
   "id": "80a127f8",
   "metadata": {
    "id": "80a127f8"
   },
   "source": [
    "# **`Data for Volume`**"
   ]
  },
  {
   "cell_type": "code",
   "execution_count": 6,
   "id": "BZXRoGFwBulW",
   "metadata": {
    "id": "BZXRoGFwBulW"
   },
   "outputs": [],
   "source": [
    "df2 =df1.copy()"
   ]
  },
  {
   "cell_type": "code",
   "execution_count": 7,
   "id": "2fa4d3a2",
   "metadata": {
    "colab": {
     "base_uri": "https://localhost:8080/",
     "height": 206
    },
    "id": "2fa4d3a2",
    "outputId": "21310d4a-27b6-4dd1-eabd-6da3cc17a15d"
   },
   "outputs": [
    {
     "data": {
      "text/html": [
       "<div>\n",
       "<style scoped>\n",
       "    .dataframe tbody tr th:only-of-type {\n",
       "        vertical-align: middle;\n",
       "    }\n",
       "\n",
       "    .dataframe tbody tr th {\n",
       "        vertical-align: top;\n",
       "    }\n",
       "\n",
       "    .dataframe thead th {\n",
       "        text-align: right;\n",
       "    }\n",
       "</style>\n",
       "<table border=\"1\" class=\"dataframe\">\n",
       "  <thead>\n",
       "    <tr style=\"text-align: right;\">\n",
       "      <th></th>\n",
       "      <th>Volume</th>\n",
       "      <th>vand_rad_Avg</th>\n",
       "      <th>vand_rad_Min</th>\n",
       "      <th>vand_rad_Max</th>\n",
       "      <th>cov_rad_Avg</th>\n",
       "      <th>cov_rad_Min</th>\n",
       "      <th>cov_rad_Max</th>\n",
       "      <th>atom_rad_Avg</th>\n",
       "      <th>atom_rad_Min</th>\n",
       "      <th>atom_rad_Max</th>\n",
       "    </tr>\n",
       "  </thead>\n",
       "  <tbody>\n",
       "    <tr>\n",
       "      <th>0</th>\n",
       "      <td>181.39</td>\n",
       "      <td>168.33</td>\n",
       "      <td>139</td>\n",
       "      <td>211</td>\n",
       "      <td>104.33</td>\n",
       "      <td>71</td>\n",
       "      <td>122</td>\n",
       "      <td>108.33</td>\n",
       "      <td>65</td>\n",
       "      <td>135</td>\n",
       "    </tr>\n",
       "    <tr>\n",
       "      <th>1</th>\n",
       "      <td>181.83</td>\n",
       "      <td>168.33</td>\n",
       "      <td>139</td>\n",
       "      <td>211</td>\n",
       "      <td>104.33</td>\n",
       "      <td>71</td>\n",
       "      <td>122</td>\n",
       "      <td>108.33</td>\n",
       "      <td>65</td>\n",
       "      <td>135</td>\n",
       "    </tr>\n",
       "    <tr>\n",
       "      <th>2</th>\n",
       "      <td>181.56</td>\n",
       "      <td>168.33</td>\n",
       "      <td>139</td>\n",
       "      <td>211</td>\n",
       "      <td>104.33</td>\n",
       "      <td>71</td>\n",
       "      <td>122</td>\n",
       "      <td>108.33</td>\n",
       "      <td>65</td>\n",
       "      <td>135</td>\n",
       "    </tr>\n",
       "    <tr>\n",
       "      <th>3</th>\n",
       "      <td>178.46</td>\n",
       "      <td>175.33</td>\n",
       "      <td>155</td>\n",
       "      <td>187</td>\n",
       "      <td>104.67</td>\n",
       "      <td>71</td>\n",
       "      <td>122</td>\n",
       "      <td>106.67</td>\n",
       "      <td>65</td>\n",
       "      <td>130</td>\n",
       "    </tr>\n",
       "    <tr>\n",
       "      <th>4</th>\n",
       "      <td>178.36</td>\n",
       "      <td>175.33</td>\n",
       "      <td>155</td>\n",
       "      <td>187</td>\n",
       "      <td>104.67</td>\n",
       "      <td>71</td>\n",
       "      <td>122</td>\n",
       "      <td>106.67</td>\n",
       "      <td>65</td>\n",
       "      <td>130</td>\n",
       "    </tr>\n",
       "  </tbody>\n",
       "</table>\n",
       "</div>"
      ],
      "text/plain": [
       "   Volume  vand_rad_Avg  vand_rad_Min  vand_rad_Max  cov_rad_Avg  cov_rad_Min  \\\n",
       "0  181.39        168.33           139           211       104.33           71   \n",
       "1  181.83        168.33           139           211       104.33           71   \n",
       "2  181.56        168.33           139           211       104.33           71   \n",
       "3  178.46        175.33           155           187       104.67           71   \n",
       "4  178.36        175.33           155           187       104.67           71   \n",
       "\n",
       "   cov_rad_Max  atom_rad_Avg  atom_rad_Min  atom_rad_Max  \n",
       "0          122        108.33            65           135  \n",
       "1          122        108.33            65           135  \n",
       "2          122        108.33            65           135  \n",
       "3          122        106.67            65           130  \n",
       "4          122        106.67            65           130  "
      ]
     },
     "execution_count": 7,
     "metadata": {},
     "output_type": "execute_result"
    }
   ],
   "source": [
    "df2 = df2[['Volume','vand_rad_Avg','vand_rad_Min', 'vand_rad_Max', 'cov_rad_Avg', 'cov_rad_Min',\\\n",
    "       'cov_rad_Max', 'atom_rad_Avg', 'atom_rad_Min', 'atom_rad_Max']]\n",
    "df2.head()"
   ]
  },
  {
   "cell_type": "code",
   "execution_count": 8,
   "id": "52f5016a",
   "metadata": {
    "id": "52f5016a"
   },
   "outputs": [],
   "source": [
    "X = df2.drop(['Volume'], axis=1)\n",
    "Y1= df2['Volume']"
   ]
  },
  {
   "cell_type": "code",
   "execution_count": 9,
   "id": "311fde43",
   "metadata": {
    "colab": {
     "base_uri": "https://localhost:8080/",
     "height": 206
    },
    "id": "311fde43",
    "outputId": "4faa9f47-a427-4957-d550-1a5795b36723"
   },
   "outputs": [
    {
     "data": {
      "text/html": [
       "<div>\n",
       "<style scoped>\n",
       "    .dataframe tbody tr th:only-of-type {\n",
       "        vertical-align: middle;\n",
       "    }\n",
       "\n",
       "    .dataframe tbody tr th {\n",
       "        vertical-align: top;\n",
       "    }\n",
       "\n",
       "    .dataframe thead th {\n",
       "        text-align: right;\n",
       "    }\n",
       "</style>\n",
       "<table border=\"1\" class=\"dataframe\">\n",
       "  <thead>\n",
       "    <tr style=\"text-align: right;\">\n",
       "      <th></th>\n",
       "      <th>vand_rad_Avg</th>\n",
       "      <th>vand_rad_Min</th>\n",
       "      <th>vand_rad_Max</th>\n",
       "      <th>cov_rad_Avg</th>\n",
       "      <th>cov_rad_Min</th>\n",
       "      <th>cov_rad_Max</th>\n",
       "      <th>atom_rad_Avg</th>\n",
       "      <th>atom_rad_Min</th>\n",
       "      <th>atom_rad_Max</th>\n",
       "    </tr>\n",
       "  </thead>\n",
       "  <tbody>\n",
       "    <tr>\n",
       "      <th>0</th>\n",
       "      <td>168.33</td>\n",
       "      <td>139</td>\n",
       "      <td>211</td>\n",
       "      <td>104.33</td>\n",
       "      <td>71</td>\n",
       "      <td>122</td>\n",
       "      <td>108.33</td>\n",
       "      <td>65</td>\n",
       "      <td>135</td>\n",
       "    </tr>\n",
       "    <tr>\n",
       "      <th>1</th>\n",
       "      <td>168.33</td>\n",
       "      <td>139</td>\n",
       "      <td>211</td>\n",
       "      <td>104.33</td>\n",
       "      <td>71</td>\n",
       "      <td>122</td>\n",
       "      <td>108.33</td>\n",
       "      <td>65</td>\n",
       "      <td>135</td>\n",
       "    </tr>\n",
       "    <tr>\n",
       "      <th>2</th>\n",
       "      <td>168.33</td>\n",
       "      <td>139</td>\n",
       "      <td>211</td>\n",
       "      <td>104.33</td>\n",
       "      <td>71</td>\n",
       "      <td>122</td>\n",
       "      <td>108.33</td>\n",
       "      <td>65</td>\n",
       "      <td>135</td>\n",
       "    </tr>\n",
       "    <tr>\n",
       "      <th>3</th>\n",
       "      <td>175.33</td>\n",
       "      <td>155</td>\n",
       "      <td>187</td>\n",
       "      <td>104.67</td>\n",
       "      <td>71</td>\n",
       "      <td>122</td>\n",
       "      <td>106.67</td>\n",
       "      <td>65</td>\n",
       "      <td>130</td>\n",
       "    </tr>\n",
       "    <tr>\n",
       "      <th>4</th>\n",
       "      <td>175.33</td>\n",
       "      <td>155</td>\n",
       "      <td>187</td>\n",
       "      <td>104.67</td>\n",
       "      <td>71</td>\n",
       "      <td>122</td>\n",
       "      <td>106.67</td>\n",
       "      <td>65</td>\n",
       "      <td>130</td>\n",
       "    </tr>\n",
       "  </tbody>\n",
       "</table>\n",
       "</div>"
      ],
      "text/plain": [
       "   vand_rad_Avg  vand_rad_Min  vand_rad_Max  cov_rad_Avg  cov_rad_Min  \\\n",
       "0        168.33           139           211       104.33           71   \n",
       "1        168.33           139           211       104.33           71   \n",
       "2        168.33           139           211       104.33           71   \n",
       "3        175.33           155           187       104.67           71   \n",
       "4        175.33           155           187       104.67           71   \n",
       "\n",
       "   cov_rad_Max  atom_rad_Avg  atom_rad_Min  atom_rad_Max  \n",
       "0          122        108.33            65           135  \n",
       "1          122        108.33            65           135  \n",
       "2          122        108.33            65           135  \n",
       "3          122        106.67            65           130  \n",
       "4          122        106.67            65           130  "
      ]
     },
     "execution_count": 9,
     "metadata": {},
     "output_type": "execute_result"
    }
   ],
   "source": [
    "X.head()"
   ]
  },
  {
   "cell_type": "markdown",
   "id": "e7d16b4a",
   "metadata": {
    "id": "e7d16b4a"
   },
   "source": [
    "## `LASSO Model`"
   ]
  },
  {
   "cell_type": "code",
   "execution_count": 10,
   "id": "c6e1abc7",
   "metadata": {
    "colab": {
     "base_uri": "https://localhost:8080/"
    },
    "id": "c6e1abc7",
    "outputId": "1ced1193-e690-4d92-daa9-3e23fff08b91"
   },
   "outputs": [
    {
     "name": "stdout",
     "output_type": "stream",
     "text": [
      "       RMSE-Train  $R^{2}$ train  RMSE-test  R$^2$ test\n",
      "count   20.000000      20.000000  20.000000   20.000000\n",
      "mean     7.510361       0.994251   8.571422    0.991805\n",
      "std      0.407318       0.000573   1.286300    0.002753\n",
      "min      6.757685       0.993282   6.181813    0.984214\n",
      "25%      7.202198       0.993820   7.820202    0.989922\n",
      "50%      7.594861       0.994208   8.418311    0.992429\n",
      "75%      7.854075       0.994607   9.520703    0.993728\n",
      "max      8.167222       0.995185  10.532706    0.995947\n"
     ]
    }
   ],
   "source": [
    "for n in range (0,20,1):\n",
    "        X_train, X_test, Y_train, Y_test = train_test_split(X, Y1, test_size =0.25, random_state=n)\n",
    "        #model = LinearRegression(fit_intercept=True)\n",
    "        #model = PLSRegression()\n",
    "        #model = Ridge(alpha=0.0000001, max_iter=10000, tol=0.001)\n",
    "        #model = Lasso(alpha=0.00001,max_iter=100000)\n",
    "        model = Lasso(alpha=0.001,max_iter=100000)\n",
    "        # model = KernelRidge(kernel='polynomial', alpha=0.000000001, degree= 5)\n",
    "        #model = KernelRidge(kernel='rbf', gamma=0.001, alpha=0.0001)\n",
    "        #model = GradientBoostingRegressor(n_estimators=500, max_depth = 10, learning_rate=0.01)\n",
    "        # kernel = C(1.0, (1e-3, 1e3)) * RBF(10, (1e-2, 1e2))\n",
    "        # model = GaussianProcessRegressor(kernel=kernel, n_restarts_optimizer=9)\n",
    "        #model = RandomForestRegressor(n_estimators=1000, max_features=15,max_depth=15,random_state=n)\n",
    "        #model = RandomForestRegressor(n_estimators=1000, max_features=9,max_depth=15,random_state=n)\n",
    "        #model = xgb.XGBRegressor(objective=\"reg:linear\",random_state=n,verbosity = 0)\n",
    "        #model = SVR(gamma='scale', C=8.0, epsilon=0.01)\n",
    "        model.fit(X_train, Y_train)\n",
    "     ## ## model evaluation for training set\n",
    "        from sklearn.metrics import mean_squared_error\n",
    "        from sklearn.metrics import r2_score\n",
    "        y_train_predict = model.predict(X_train)\n",
    "        rmse_train = (np.sqrt(mean_squared_error(Y_train, y_train_predict)))\n",
    "        r2_train = r2_score(Y_train, y_train_predict)\n",
    "        y_test_predict = model.predict(X_test)\n",
    "        rmse_test = (np.sqrt(mean_squared_error(Y_test, y_test_predict)))\n",
    "        r2_test = r2_score(Y_test, y_test_predict)\n",
    "        with open('out.csv', mode='a') as out_file:\n",
    "            out_writer = csv.writer(out_file, delimiter=',', quotechar='\"', quoting=csv.QUOTE_MINIMAL)\n",
    "            out_writer.writerow(['%s' %n, '{}'.format(rmse_train) ,'{}'.format(r2_train), '{}'.format(rmse_test), '{}'.format(r2_test)])\n",
    "            out_file.close()\n",
    "from shutil import copyfile\n",
    "copyfile('out.csv', 'cross-validation-out.csv')\n",
    "###here we import the out.csv file and printthe statistics\n",
    "data_stat=pd.read_csv('out.csv',  names = [\"RMSE-Train\", \"$R^{2}$ train\", \"RMSE-test\", \"R$^2$ test\"])\n",
    "print(data_stat.describe())\n",
    "#Removing out.csv file\n",
    "try:\n",
    "    os.remove(\"out.csv\")\n",
    "except OSError:\n",
    "    pass"
   ]
  },
  {
   "cell_type": "code",
   "execution_count": 14,
   "id": "51c5bcc5",
   "metadata": {
    "id": "51c5bcc5"
   },
   "outputs": [],
   "source": [
    "#      RMSE-Train  $R^{2}$ train  RMSE-test  R$^2$ test\n",
    "# count   20.000000      20.000000  20.000000   20.000000\n",
    "# mean     7.510361       0.994251   8.571422    0.991805\n",
    "# std      0.407318       0.000573   1.286300    0.002753\n",
    "# min      6.757685       0.993282   6.181813    0.984214\n",
    "# 25%      7.202198       0.993820   7.820202    0.989922\n",
    "# 50%      7.594861       0.994208   8.418311    0.992429\n",
    "# 75%      7.854075       0.994607   9.520703    0.993728\n",
    "# max      8.167222       0.995185  10.532706    0.995947"
   ]
  },
  {
   "cell_type": "code",
   "execution_count": 13,
   "id": "327f2ae9",
   "metadata": {
    "colab": {
     "base_uri": "https://localhost:8080/"
    },
    "id": "327f2ae9",
    "outputId": "b5c9fdab-3653-4018-c22a-ebe2c9fc417d"
   },
   "outputs": [
    {
     "name": "stdout",
     "output_type": "stream",
     "text": [
      "  features name  coefficient\n",
      "0  vand_rad_Avg     7.413725\n",
      "1  vand_rad_Min    -0.251717\n",
      "2  vand_rad_Max     1.413283\n",
      "3   cov_rad_Avg    -4.132643\n",
      "4   cov_rad_Min     1.835718\n",
      "5   cov_rad_Max     0.727999\n",
      "6  atom_rad_Avg     5.813631\n",
      "7  atom_rad_Min     0.079592\n",
      "8  atom_rad_Max    -1.434502\n",
      "Features and their respective Coefficients are written in the file 'Feature_vs_coeff.csv'\n"
     ]
    }
   ],
   "source": [
    "######printing coefficient of the regression\n",
    "try:\n",
    "#    print (\"The Dual coefficients are\", np.vstack(model.dual_coef_))\n",
    "#    coefficient = np.vstack(model.dual_coef_)\n",
    "    coefficient = model.dual_coef_\n",
    "    print(coefficient)\n",
    "#    print(X_1.columns.values.tolist())\n",
    "    print (\"The dual coefficients are written in the file 'dual_coef.txt'\")\n",
    "    with open('dual_coef.txt', mode='a') as out_file:\n",
    "      out_writer = csv.writer(out_file, delimiter=',', quotechar='\"', quoting=csv.QUOTE_MINIMAL)\n",
    "      out_writer.writerow([X.columns.values.tolist()])\n",
    "      out_writer.writerow([coefficient])\n",
    "      out_file.close()\n",
    "except AttributeError:\n",
    "    pass\n",
    "try:\n",
    "#    print (\"The model coefficients are {}\", np.vstack(model.coef_))\n",
    "#    coefficient = np.vstack(model.coef_)\n",
    "    coefficient = model.coef_\n",
    "except AttributeError:\n",
    "    pass\n",
    "try:\n",
    " #   print (\"The model coefficients are\", np.vstack(model.feature_importances_))\n",
    "#    coefficient = np.vstack(model.feature_importances_)\n",
    "    coefficient = model.feature_importances_\n",
    "except AttributeError:\n",
    "    pass\n",
    "\n",
    "try:\n",
    "    os.remove(\"co-efficient-out.txt\")\n",
    "except OSError:\n",
    "    pass\n",
    "try:\n",
    "    feature={'features name': X.columns.values.tolist(),\n",
    "      'coefficient':coefficient}\n",
    "    df_feature=pd.DataFrame(feature)\n",
    "    print(df_feature)\n",
    "    df_feature.to_csv(\"Feature_vs_coeff.csv\")\n",
    "    print (\"Features and their respective Coefficients are written in the file 'Feature_vs_coeff.csv'\")\n",
    "except:\n",
    "  print (\"-------------------------------------------------------------------------------------------\")\n",
    "  print (\"-------------------------------------------------------------------------------------------\")\n",
    "  print (\"No Coefficient(s) saved for this model\")\n",
    "  pass"
   ]
  },
  {
   "cell_type": "code",
   "execution_count": 11,
   "id": "3ae3ac99-089d-41db-ae81-10d142ac0bb8",
   "metadata": {},
   "outputs": [],
   "source": [
    "#  features name  coefficient\n",
    "# 0  vand_rad_Avg     7.413725\n",
    "# 1  vand_rad_Min    -0.251717\n",
    "# 2  vand_rad_Max     1.413283\n",
    "# 3   cov_rad_Avg    -4.132643\n",
    "# 4   cov_rad_Min     1.835718\n",
    "# 5   cov_rad_Max     0.727999\n",
    "# 6  atom_rad_Avg     5.813631\n",
    "# 7  atom_rad_Min     0.079592\n",
    "# 8  atom_rad_Max    -1.434502"
   ]
  },
  {
   "cell_type": "code",
   "execution_count": 15,
   "id": "80d7c307",
   "metadata": {
    "colab": {
     "base_uri": "https://localhost:8080/",
     "height": 331
    },
    "id": "80d7c307",
    "outputId": "84c25c95-bf2a-44e6-be40-cc274b54265a"
   },
   "outputs": [
    {
     "data": {
      "text/html": [
       "<div>\n",
       "<style scoped>\n",
       "    .dataframe tbody tr th:only-of-type {\n",
       "        vertical-align: middle;\n",
       "    }\n",
       "\n",
       "    .dataframe tbody tr th {\n",
       "        vertical-align: top;\n",
       "    }\n",
       "\n",
       "    .dataframe thead th {\n",
       "        text-align: right;\n",
       "    }\n",
       "</style>\n",
       "<table border=\"1\" class=\"dataframe\">\n",
       "  <thead>\n",
       "    <tr style=\"text-align: right;\">\n",
       "      <th></th>\n",
       "      <th>features name</th>\n",
       "      <th>coefficient</th>\n",
       "    </tr>\n",
       "  </thead>\n",
       "  <tbody>\n",
       "    <tr>\n",
       "      <th>6</th>\n",
       "      <td>atom_rad_Avg</td>\n",
       "      <td>5.81</td>\n",
       "    </tr>\n",
       "    <tr>\n",
       "      <th>8</th>\n",
       "      <td>atom_rad_Max</td>\n",
       "      <td>-1.43</td>\n",
       "    </tr>\n",
       "    <tr>\n",
       "      <th>7</th>\n",
       "      <td>atom_rad_Min</td>\n",
       "      <td>0.08</td>\n",
       "    </tr>\n",
       "    <tr>\n",
       "      <th>3</th>\n",
       "      <td>cov_rad_Avg</td>\n",
       "      <td>-4.13</td>\n",
       "    </tr>\n",
       "    <tr>\n",
       "      <th>5</th>\n",
       "      <td>cov_rad_Max</td>\n",
       "      <td>0.73</td>\n",
       "    </tr>\n",
       "    <tr>\n",
       "      <th>4</th>\n",
       "      <td>cov_rad_Min</td>\n",
       "      <td>1.84</td>\n",
       "    </tr>\n",
       "    <tr>\n",
       "      <th>0</th>\n",
       "      <td>vand_rad_Avg</td>\n",
       "      <td>7.41</td>\n",
       "    </tr>\n",
       "    <tr>\n",
       "      <th>2</th>\n",
       "      <td>vand_rad_Max</td>\n",
       "      <td>1.41</td>\n",
       "    </tr>\n",
       "    <tr>\n",
       "      <th>1</th>\n",
       "      <td>vand_rad_Min</td>\n",
       "      <td>-0.25</td>\n",
       "    </tr>\n",
       "  </tbody>\n",
       "</table>\n",
       "</div>"
      ],
      "text/plain": [
       "  features name  coefficient\n",
       "6  atom_rad_Avg         5.81\n",
       "8  atom_rad_Max        -1.43\n",
       "7  atom_rad_Min         0.08\n",
       "3   cov_rad_Avg        -4.13\n",
       "5   cov_rad_Max         0.73\n",
       "4   cov_rad_Min         1.84\n",
       "0  vand_rad_Avg         7.41\n",
       "2  vand_rad_Max         1.41\n",
       "1  vand_rad_Min        -0.25"
      ]
     },
     "execution_count": 15,
     "metadata": {},
     "output_type": "execute_result"
    }
   ],
   "source": [
    "df8 = df_feature.sort_values(by=['coefficient'], ascending=False)\n",
    "df8 = df8.round(decimals =2)\n",
    "df8 = df8.sort_values(by=['features name'])\n",
    "df8"
   ]
  },
  {
   "cell_type": "markdown",
   "id": "X8HiPp_HCL0x",
   "metadata": {
    "id": "X8HiPp_HCL0x"
   },
   "source": [
    "## For reference"
   ]
  },
  {
   "cell_type": "markdown",
   "id": "8f_4ou6XCJjf",
   "metadata": {
    "id": "8f_4ou6XCJjf"
   },
   "source": [
    "![image.png](data:image/png;base64,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)"
   ]
  },
  {
   "cell_type": "code",
   "execution_count": 16,
   "id": "dc9472d3",
   "metadata": {
    "colab": {
     "base_uri": "https://localhost:8080/"
    },
    "id": "dc9472d3",
    "outputId": "38d49fb4-64cf-4546-c194-d085f7206d6e"
   },
   "outputs": [
    {
     "name": "stdout",
     "output_type": "stream",
     "text": [
      "-1566.4125078230165\n"
     ]
    }
   ],
   "source": [
    "print(model.intercept_)"
   ]
  },
  {
   "cell_type": "markdown",
   "id": "xqzPrBqGCSCz",
   "metadata": {
    "id": "xqzPrBqGCSCz"
   },
   "source": [
    "Intercept value = -1566.412507823011"
   ]
  },
  {
   "cell_type": "markdown",
   "id": "954b86cf",
   "metadata": {
    "id": "954b86cf"
   },
   "source": [
    "## `Justify LASSO Formula`"
   ]
  },
  {
   "cell_type": "code",
   "execution_count": 17,
   "id": "02e922c9",
   "metadata": {
    "colab": {
     "base_uri": "https://localhost:8080/",
     "height": 206
    },
    "id": "02e922c9",
    "outputId": "b1ad41cb-0855-49bf-8044-6488fe95d8c1"
   },
   "outputs": [
    {
     "data": {
      "text/html": [
       "<div>\n",
       "<style scoped>\n",
       "    .dataframe tbody tr th:only-of-type {\n",
       "        vertical-align: middle;\n",
       "    }\n",
       "\n",
       "    .dataframe tbody tr th {\n",
       "        vertical-align: top;\n",
       "    }\n",
       "\n",
       "    .dataframe thead th {\n",
       "        text-align: right;\n",
       "    }\n",
       "</style>\n",
       "<table border=\"1\" class=\"dataframe\">\n",
       "  <thead>\n",
       "    <tr style=\"text-align: right;\">\n",
       "      <th></th>\n",
       "      <th>Volume</th>\n",
       "      <th>vand_rad_Avg</th>\n",
       "      <th>vand_rad_Min</th>\n",
       "      <th>vand_rad_Max</th>\n",
       "      <th>cov_rad_Avg</th>\n",
       "      <th>cov_rad_Min</th>\n",
       "      <th>cov_rad_Max</th>\n",
       "      <th>atom_rad_Avg</th>\n",
       "      <th>atom_rad_Min</th>\n",
       "      <th>atom_rad_Max</th>\n",
       "    </tr>\n",
       "  </thead>\n",
       "  <tbody>\n",
       "    <tr>\n",
       "      <th>0</th>\n",
       "      <td>181.39</td>\n",
       "      <td>168.33</td>\n",
       "      <td>139</td>\n",
       "      <td>211</td>\n",
       "      <td>104.33</td>\n",
       "      <td>71</td>\n",
       "      <td>122</td>\n",
       "      <td>108.33</td>\n",
       "      <td>65</td>\n",
       "      <td>135</td>\n",
       "    </tr>\n",
       "    <tr>\n",
       "      <th>1</th>\n",
       "      <td>181.83</td>\n",
       "      <td>168.33</td>\n",
       "      <td>139</td>\n",
       "      <td>211</td>\n",
       "      <td>104.33</td>\n",
       "      <td>71</td>\n",
       "      <td>122</td>\n",
       "      <td>108.33</td>\n",
       "      <td>65</td>\n",
       "      <td>135</td>\n",
       "    </tr>\n",
       "    <tr>\n",
       "      <th>2</th>\n",
       "      <td>181.56</td>\n",
       "      <td>168.33</td>\n",
       "      <td>139</td>\n",
       "      <td>211</td>\n",
       "      <td>104.33</td>\n",
       "      <td>71</td>\n",
       "      <td>122</td>\n",
       "      <td>108.33</td>\n",
       "      <td>65</td>\n",
       "      <td>135</td>\n",
       "    </tr>\n",
       "    <tr>\n",
       "      <th>3</th>\n",
       "      <td>178.46</td>\n",
       "      <td>175.33</td>\n",
       "      <td>155</td>\n",
       "      <td>187</td>\n",
       "      <td>104.67</td>\n",
       "      <td>71</td>\n",
       "      <td>122</td>\n",
       "      <td>106.67</td>\n",
       "      <td>65</td>\n",
       "      <td>130</td>\n",
       "    </tr>\n",
       "    <tr>\n",
       "      <th>4</th>\n",
       "      <td>178.36</td>\n",
       "      <td>175.33</td>\n",
       "      <td>155</td>\n",
       "      <td>187</td>\n",
       "      <td>104.67</td>\n",
       "      <td>71</td>\n",
       "      <td>122</td>\n",
       "      <td>106.67</td>\n",
       "      <td>65</td>\n",
       "      <td>130</td>\n",
       "    </tr>\n",
       "  </tbody>\n",
       "</table>\n",
       "</div>"
      ],
      "text/plain": [
       "   Volume  vand_rad_Avg  vand_rad_Min  vand_rad_Max  cov_rad_Avg  cov_rad_Min  \\\n",
       "0  181.39        168.33           139           211       104.33           71   \n",
       "1  181.83        168.33           139           211       104.33           71   \n",
       "2  181.56        168.33           139           211       104.33           71   \n",
       "3  178.46        175.33           155           187       104.67           71   \n",
       "4  178.36        175.33           155           187       104.67           71   \n",
       "\n",
       "   cov_rad_Max  atom_rad_Avg  atom_rad_Min  atom_rad_Max  \n",
       "0          122        108.33            65           135  \n",
       "1          122        108.33            65           135  \n",
       "2          122        108.33            65           135  \n",
       "3          122        106.67            65           130  \n",
       "4          122        106.67            65           130  "
      ]
     },
     "execution_count": 17,
     "metadata": {},
     "output_type": "execute_result"
    }
   ],
   "source": [
    "df9 = df2.copy()\n",
    "df9.head()"
   ]
  },
  {
   "cell_type": "code",
   "execution_count": 18,
   "id": "a1c63612",
   "metadata": {
    "colab": {
     "base_uri": "https://localhost:8080/",
     "height": 226
    },
    "id": "a1c63612",
    "outputId": "0847556b-eb4f-4d1a-b0ec-cbf1b07ad49a"
   },
   "outputs": [
    {
     "data": {
      "text/html": [
       "<div>\n",
       "<style scoped>\n",
       "    .dataframe tbody tr th:only-of-type {\n",
       "        vertical-align: middle;\n",
       "    }\n",
       "\n",
       "    .dataframe tbody tr th {\n",
       "        vertical-align: top;\n",
       "    }\n",
       "\n",
       "    .dataframe thead th {\n",
       "        text-align: right;\n",
       "    }\n",
       "</style>\n",
       "<table border=\"1\" class=\"dataframe\">\n",
       "  <thead>\n",
       "    <tr style=\"text-align: right;\">\n",
       "      <th></th>\n",
       "      <th>Volume</th>\n",
       "      <th>vand_rad_Avg</th>\n",
       "      <th>vand_rad_Min</th>\n",
       "      <th>vand_rad_Max</th>\n",
       "      <th>cov_rad_Avg</th>\n",
       "      <th>cov_rad_Min</th>\n",
       "      <th>cov_rad_Max</th>\n",
       "      <th>atom_rad_Avg</th>\n",
       "      <th>atom_rad_Min</th>\n",
       "      <th>atom_rad_Max</th>\n",
       "      <th>Volume_Formula</th>\n",
       "    </tr>\n",
       "  </thead>\n",
       "  <tbody>\n",
       "    <tr>\n",
       "      <th>0</th>\n",
       "      <td>181.39</td>\n",
       "      <td>168.33</td>\n",
       "      <td>139</td>\n",
       "      <td>211</td>\n",
       "      <td>104.33</td>\n",
       "      <td>71</td>\n",
       "      <td>122</td>\n",
       "      <td>108.33</td>\n",
       "      <td>65</td>\n",
       "      <td>135</td>\n",
       "      <td>174.04</td>\n",
       "    </tr>\n",
       "    <tr>\n",
       "      <th>1</th>\n",
       "      <td>181.83</td>\n",
       "      <td>168.33</td>\n",
       "      <td>139</td>\n",
       "      <td>211</td>\n",
       "      <td>104.33</td>\n",
       "      <td>71</td>\n",
       "      <td>122</td>\n",
       "      <td>108.33</td>\n",
       "      <td>65</td>\n",
       "      <td>135</td>\n",
       "      <td>174.04</td>\n",
       "    </tr>\n",
       "    <tr>\n",
       "      <th>2</th>\n",
       "      <td>181.56</td>\n",
       "      <td>168.33</td>\n",
       "      <td>139</td>\n",
       "      <td>211</td>\n",
       "      <td>104.33</td>\n",
       "      <td>71</td>\n",
       "      <td>122</td>\n",
       "      <td>108.33</td>\n",
       "      <td>65</td>\n",
       "      <td>135</td>\n",
       "      <td>174.04</td>\n",
       "    </tr>\n",
       "    <tr>\n",
       "      <th>3</th>\n",
       "      <td>178.46</td>\n",
       "      <td>175.33</td>\n",
       "      <td>155</td>\n",
       "      <td>187</td>\n",
       "      <td>104.67</td>\n",
       "      <td>71</td>\n",
       "      <td>122</td>\n",
       "      <td>106.67</td>\n",
       "      <td>65</td>\n",
       "      <td>130</td>\n",
       "      <td>184.17</td>\n",
       "    </tr>\n",
       "    <tr>\n",
       "      <th>4</th>\n",
       "      <td>178.36</td>\n",
       "      <td>175.33</td>\n",
       "      <td>155</td>\n",
       "      <td>187</td>\n",
       "      <td>104.67</td>\n",
       "      <td>71</td>\n",
       "      <td>122</td>\n",
       "      <td>106.67</td>\n",
       "      <td>65</td>\n",
       "      <td>130</td>\n",
       "      <td>184.17</td>\n",
       "    </tr>\n",
       "  </tbody>\n",
       "</table>\n",
       "</div>"
      ],
      "text/plain": [
       "   Volume  vand_rad_Avg  vand_rad_Min  vand_rad_Max  cov_rad_Avg  cov_rad_Min  \\\n",
       "0  181.39        168.33           139           211       104.33           71   \n",
       "1  181.83        168.33           139           211       104.33           71   \n",
       "2  181.56        168.33           139           211       104.33           71   \n",
       "3  178.46        175.33           155           187       104.67           71   \n",
       "4  178.36        175.33           155           187       104.67           71   \n",
       "\n",
       "   cov_rad_Max  atom_rad_Avg  atom_rad_Min  atom_rad_Max  Volume_Formula  \n",
       "0          122        108.33            65           135          174.04  \n",
       "1          122        108.33            65           135          174.04  \n",
       "2          122        108.33            65           135          174.04  \n",
       "3          122        106.67            65           130          184.17  \n",
       "4          122        106.67            65           130          184.17  "
      ]
     },
     "execution_count": 18,
     "metadata": {},
     "output_type": "execute_result"
    }
   ],
   "source": [
    "df9['Volume_Formula'] = 5.81*df9['atom_rad_Avg']-1.43*df9['atom_rad_Max']+0.08*df9['atom_rad_Min']-4.13*df9['cov_rad_Avg']+0.73*df9['cov_rad_Max']\\\n",
    "                        +1.84*df9['cov_rad_Min']+7.41*df9['vand_rad_Avg']+1.41*df9['vand_rad_Max']-0.25*df9['vand_rad_Min']-1566.41\n",
    "df9['Volume_Formula'] = df9['Volume_Formula'].round(decimals =2)\n",
    "df9.head()"
   ]
  },
  {
   "cell_type": "code",
   "execution_count": 19,
   "id": "82c15009",
   "metadata": {
    "colab": {
     "base_uri": "https://localhost:8080/"
    },
    "id": "82c15009",
    "outputId": "f73ec35b-a26d-4da5-b104-3701e08657fd"
   },
   "outputs": [
    {
     "name": "stdout",
     "output_type": "stream",
     "text": [
      "The model performance for testing set\n",
      "--------------------------------------\n",
      "RMSE is 7.95\n",
      "R$^2$ score is 0.99\n"
     ]
    }
   ],
   "source": [
    "rmse_test = (np.sqrt(mean_squared_error(df9['Volume_Formula'], df9['Volume'])))\n",
    "rmse_test = round(rmse_test,2)\n",
    "r2_test = r2_score(df9['Volume_Formula'], df9['Volume'])\n",
    "r2_test = round(r2_test,2)\n",
    "print(\"The model performance for testing set\")\n",
    "print(\"--------------------------------------\")\n",
    "print('RMSE is {}'.format(rmse_test))\n",
    "print('R$^2$ score is {}'.format(r2_test))"
   ]
  },
  {
   "cell_type": "markdown",
   "id": "R2AokGEKC8yu",
   "metadata": {
    "id": "R2AokGEKC8yu"
   },
   "source": [
    "## For reference\n",
    "\n",
    "The model performance for testing set  \n",
    "RMSE is 7.95   \n",
    "R$^2$ score is 0.99   "
   ]
  },
  {
   "cell_type": "code",
   "execution_count": 20,
   "id": "62c152f5",
   "metadata": {
    "colab": {
     "base_uri": "https://localhost:8080/",
     "height": 335
    },
    "id": "62c152f5",
    "outputId": "0a97ab0a-1326-4414-f7f6-6bd9f0bd5f49"
   },
   "outputs": [
    {
     "data": {
      "text/plain": [
       "count     92.000000\n",
       "mean     340.970652\n",
       "std      100.040265\n",
       "min      164.130000\n",
       "25%      245.367500\n",
       "50%      357.890000\n",
       "75%      401.742500\n",
       "max      544.540000\n",
       "Name: Volume, dtype: float64"
      ]
     },
     "execution_count": 20,
     "metadata": {},
     "output_type": "execute_result"
    }
   ],
   "source": [
    "df9['Volume'].describe()"
   ]
  },
  {
   "cell_type": "code",
   "execution_count": 21,
   "id": "fe4eeb60",
   "metadata": {
    "colab": {
     "base_uri": "https://localhost:8080/",
     "height": 487
    },
    "id": "fe4eeb60",
    "outputId": "8e3b6100-6525-470e-f42d-ea79f797e559"
   },
   "outputs": [
    {
     "data": {
      "image/png": "[encoded data removed]",
      "text/plain": [
       "<Figure size 640x480 with 1 Axes>"
      ]
     },
     "metadata": {},
     "output_type": "display_data"
    }
   ],
   "source": [
    "#### define your data plot here\n",
    "#plt.figure(figsize=(6,5),dpi=300)\n",
    "#plt.title('XgBoost', fontsize=13)\n",
    "#### define your data plot here\n",
    "#plt.xlim((-0.5,2.5))\n",
    "#plt.xticks(np.linspace(0,2.5,3,endpoint=True))\n",
    "#plt.ylim((-0.5,2.5))\n",
    "#plt.yticks(np.linspace(0,2.5,3,endpoint=True))\n",
    "plt.tick_params(axis='both', which='major', labelsize=13)\n",
    "plt.scatter(df9['Volume'], df9['Volume_Formula'], facecolors='#F97306',alpha=0.8, edgecolors='none',s=60,marker='^')\n",
    "#plt.scatter(df1['critical_temp_SISSO'], df1['critical_temp_SISSO'], label='Testing',facecolors='tab:blue',alpha=0.8, edgecolors='none',s=60, marker='o')\n",
    "plt.xlabel(\"Volume Actual\",fontsize=13, fontweight = 'bold')\n",
    "plt.ylabel(\"Volume SISSO Predicted\", fontsize=13 , fontweight = 'bold')\n",
    "\n",
    "#####fitting with a y=x line here (polynomial approach)\n",
    "p1 = np.polyfit(df9['Volume'], df9['Volume_Formula'],1)\n",
    "plt.plot((150,570),(150,570), 'r',linestyle='dashed',label='y=x line')\n",
    "#plt.legend(loc=2, prop={'size': 13}, frameon=True)\n",
    "#leg = plt.legend()\n",
    "#leg.get_frame().set_edgecolor('black')\n",
    "plt.tight_layout()\n",
    "#plt.text(4, 2, 'RMSE = 0.30 K \\n R$^2$ =0.94',fontsize=13)\n",
    "#plt.savefig ('RFR.eps')\n",
    "plt.show()"
   ]
  },
  {
   "cell_type": "markdown",
   "id": "ai0F-I_2D2nw",
   "metadata": {
    "id": "ai0F-I_2D2nw"
   },
   "source": [
    "## Use LASSO ML Model for indiviudal state"
   ]
  },
  {
   "cell_type": "code",
   "execution_count": null,
   "id": "ciiKtiKJEZV6",
   "metadata": {
    "colab": {
     "base_uri": "https://localhost:8080/"
    },
    "id": "ciiKtiKJEZV6",
    "outputId": "76444d22-3d6c-4651-f4f4-c37c8ac91efa"
   },
   "outputs": [
    {
     "name": "stdout",
     "output_type": "stream",
     "text": [
      "    RMSE-Train  $R^{2}$ train  RMSE-test  R$^2$ test\n",
      "0     7.683467       0.994330   7.978247    0.992359\n",
      "1     6.766087       0.995073  10.532706    0.989843\n",
      "2     7.585307       0.993282   8.908147    0.993796\n",
      "3     7.604415       0.994150   8.186486    0.992456\n",
      "4     7.693590       0.993708   7.720858    0.994707\n",
      "5     7.857925       0.994465   7.853317    0.989643\n",
      "6     7.675156       0.994146   7.904281    0.993157\n",
      "7     7.852791       0.993664   8.029371    0.992402\n",
      "8     6.913077       0.994843   9.932198    0.991465\n",
      "9     7.966776       0.993757   7.030341    0.994461\n",
      "10    7.202615       0.994267   9.153099    0.992975\n",
      "11    8.167222       0.993306   6.181813    0.995947\n",
      "12    7.415956       0.995185   9.081327    0.984214\n",
      "13    7.967998       0.993841   6.862935    0.994287\n",
      "14    6.757685       0.995174  10.495894    0.989949\n",
      "15    7.555176       0.993968   8.650137    0.992950\n",
      "16    7.867794       0.994054   7.203313    0.993706\n",
      "17    7.279079       0.994788   9.434690    0.989775\n",
      "18    7.194159       0.994466  10.510541    0.990126\n",
      "19    7.200946       0.994546   9.778742    0.987877\n"
     ]
    }
   ],
   "source": [
    "print(data_stat.to_string())"
   ]
  },
  {
   "cell_type": "markdown",
   "id": "IJCE6ILKEdtX",
   "metadata": {
    "id": "IJCE6ILKEdtX"
   },
   "source": [
    "<div style=\"padding: 1ex; margin-top: 1ex; margin-bottom: 1ex; border-style: dotted; border-width: 1pt; border-color: blue; border-radius: 3px;\">\n",
    "<b>This section of the script is for an individual random state, which has best fitting (Close to average of R$^2$ and RMSE test i.e. 8.571422, 0.99)</b>"
   ]
  },
  {
   "cell_type": "code",
   "execution_count": 22,
   "id": "G40yBZ6yEhWg",
   "metadata": {
    "colab": {
     "base_uri": "https://localhost:8080/",
     "height": 80
    },
    "id": "G40yBZ6yEhWg",
    "outputId": "8d963c2b-f02b-48d7-9019-da58b325a2c3"
   },
   "outputs": [
    {
     "data": {
      "text/html": [
       "<style>#sk-container-id-1 {\n",
       "  /* Definition of color scheme common for light and dark mode */\n",
       "  --sklearn-color-text: black;\n",
       "  --sklearn-color-line: gray;\n",
       "  /* Definition of color scheme for unfitted estimators */\n",
       "  --sklearn-color-unfitted-level-0: #fff5e6;\n",
       "  --sklearn-color-unfitted-level-1: #f6e4d2;\n",
       "  --sklearn-color-unfitted-level-2: #ffe0b3;\n",
       "  --sklearn-color-unfitted-level-3: chocolate;\n",
       "  /* Definition of color scheme for fitted estimators */\n",
       "  --sklearn-color-fitted-level-0: #f0f8ff;\n",
       "  --sklearn-color-fitted-level-1: #d4ebff;\n",
       "  --sklearn-color-fitted-level-2: #b3dbfd;\n",
       "  --sklearn-color-fitted-level-3: cornflowerblue;\n",
       "\n",
       "  /* Specific color for light theme */\n",
       "  --sklearn-color-text-on-default-background: var(--sg-text-color, var(--theme-code-foreground, var(--jp-content-font-color1, black)));\n",
       "  --sklearn-color-background: var(--sg-background-color, var(--theme-background, var(--jp-layout-color0, white)));\n",
       "  --sklearn-color-border-box: var(--sg-text-color, var(--theme-code-foreground, var(--jp-content-font-color1, black)));\n",
       "  --sklearn-color-icon: #696969;\n",
       "\n",
       "  @media (prefers-color-scheme: dark) {\n",
       "    /* Redefinition of color scheme for dark theme */\n",
       "    --sklearn-color-text-on-default-background: var(--sg-text-color, var(--theme-code-foreground, var(--jp-content-font-color1, white)));\n",
       "    --sklearn-color-background: var(--sg-background-color, var(--theme-background, var(--jp-layout-color0, #111)));\n",
       "    --sklearn-color-border-box: var(--sg-text-color, var(--theme-code-foreground, var(--jp-content-font-color1, white)));\n",
       "    --sklearn-color-icon: #878787;\n",
       "  }\n",
       "}\n",
       "\n",
       "#sk-container-id-1 {\n",
       "  color: var(--sklearn-color-text);\n",
       "}\n",
       "\n",
       "#sk-container-id-1 pre {\n",
       "  padding: 0;\n",
       "}\n",
       "\n",
       "#sk-container-id-1 input.sk-hidden--visually {\n",
       "  border: 0;\n",
       "  clip: rect(1px 1px 1px 1px);\n",
       "  clip: rect(1px, 1px, 1px, 1px);\n",
       "  height: 1px;\n",
       "  margin: -1px;\n",
       "  overflow: hidden;\n",
       "  padding: 0;\n",
       "  position: absolute;\n",
       "  width: 1px;\n",
       "}\n",
       "\n",
       "#sk-container-id-1 div.sk-dashed-wrapped {\n",
       "  border: 1px dashed var(--sklearn-color-line);\n",
       "  margin: 0 0.4em 0.5em 0.4em;\n",
       "  box-sizing: border-box;\n",
       "  padding-bottom: 0.4em;\n",
       "  background-color: var(--sklearn-color-background);\n",
       "}\n",
       "\n",
       "#sk-container-id-1 div.sk-container {\n",
       "  /* jupyter's `normalize.less` sets `[hidden] { display: none; }`\n",
       "     but bootstrap.min.css set `[hidden] { display: none !important; }`\n",
       "     so we also need the `!important` here to be able to override the\n",
       "     default hidden behavior on the sphinx rendered scikit-learn.org.\n",
       "     See: https://github.com/scikit-learn/scikit-learn/issues/21755 */\n",
       "  display: inline-block !important;\n",
       "  position: relative;\n",
       "}\n",
       "\n",
       "#sk-container-id-1 div.sk-text-repr-fallback {\n",
       "  display: none;\n",
       "}\n",
       "\n",
       "div.sk-parallel-item,\n",
       "div.sk-serial,\n",
       "div.sk-item {\n",
       "  /* draw centered vertical line to link estimators */\n",
       "  background-image: linear-gradient(var(--sklearn-color-text-on-default-background), var(--sklearn-color-text-on-default-background));\n",
       "  background-size: 2px 100%;\n",
       "  background-repeat: no-repeat;\n",
       "  background-position: center center;\n",
       "}\n",
       "\n",
       "/* Parallel-specific style estimator block */\n",
       "\n",
       "#sk-container-id-1 div.sk-parallel-item::after {\n",
       "  content: \"\";\n",
       "  width: 100%;\n",
       "  border-bottom: 2px solid var(--sklearn-color-text-on-default-background);\n",
       "  flex-grow: 1;\n",
       "}\n",
       "\n",
       "#sk-container-id-1 div.sk-parallel {\n",
       "  display: flex;\n",
       "  align-items: stretch;\n",
       "  justify-content: center;\n",
       "  background-color: var(--sklearn-color-background);\n",
       "  position: relative;\n",
       "}\n",
       "\n",
       "#sk-container-id-1 div.sk-parallel-item {\n",
       "  display: flex;\n",
       "  flex-direction: column;\n",
       "}\n",
       "\n",
       "#sk-container-id-1 div.sk-parallel-item:first-child::after {\n",
       "  align-self: flex-end;\n",
       "  width: 50%;\n",
       "}\n",
       "\n",
       "#sk-container-id-1 div.sk-parallel-item:last-child::after {\n",
       "  align-self: flex-start;\n",
       "  width: 50%;\n",
       "}\n",
       "\n",
       "#sk-container-id-1 div.sk-parallel-item:only-child::after {\n",
       "  width: 0;\n",
       "}\n",
       "\n",
       "/* Serial-specific style estimator block */\n",
       "\n",
       "#sk-container-id-1 div.sk-serial {\n",
       "  display: flex;\n",
       "  flex-direction: column;\n",
       "  align-items: center;\n",
       "  background-color: var(--sklearn-color-background);\n",
       "  padding-right: 1em;\n",
       "  padding-left: 1em;\n",
       "}\n",
       "\n",
       "\n",
       "/* Toggleable style: style used for estimator/Pipeline/ColumnTransformer box that is\n",
       "clickable and can be expanded/collapsed.\n",
       "- Pipeline and ColumnTransformer use this feature and define the default style\n",
       "- Estimators will overwrite some part of the style using the `sk-estimator` class\n",
       "*/\n",
       "\n",
       "/* Pipeline and ColumnTransformer style (default) */\n",
       "\n",
       "#sk-container-id-1 div.sk-toggleable {\n",
       "  /* Default theme specific background. It is overwritten whether we have a\n",
       "  specific estimator or a Pipeline/ColumnTransformer */\n",
       "  background-color: var(--sklearn-color-background);\n",
       "}\n",
       "\n",
       "/* Toggleable label */\n",
       "#sk-container-id-1 label.sk-toggleable__label {\n",
       "  cursor: pointer;\n",
       "  display: block;\n",
       "  width: 100%;\n",
       "  margin-bottom: 0;\n",
       "  padding: 0.5em;\n",
       "  box-sizing: border-box;\n",
       "  text-align: center;\n",
       "}\n",
       "\n",
       "#sk-container-id-1 label.sk-toggleable__label-arrow:before {\n",
       "  /* Arrow on the left of the label */\n",
       "  content: \"▸\";\n",
       "  float: left;\n",
       "  margin-right: 0.25em;\n",
       "  color: var(--sklearn-color-icon);\n",
       "}\n",
       "\n",
       "#sk-container-id-1 label.sk-toggleable__label-arrow:hover:before {\n",
       "  color: var(--sklearn-color-text);\n",
       "}\n",
       "\n",
       "/* Toggleable content - dropdown */\n",
       "\n",
       "#sk-container-id-1 div.sk-toggleable__content {\n",
       "  max-height: 0;\n",
       "  max-width: 0;\n",
       "  overflow: hidden;\n",
       "  text-align: left;\n",
       "  /* unfitted */\n",
       "  background-color: var(--sklearn-color-unfitted-level-0);\n",
       "}\n",
       "\n",
       "#sk-container-id-1 div.sk-toggleable__content.fitted {\n",
       "  /* fitted */\n",
       "  background-color: var(--sklearn-color-fitted-level-0);\n",
       "}\n",
       "\n",
       "#sk-container-id-1 div.sk-toggleable__content pre {\n",
       "  margin: 0.2em;\n",
       "  border-radius: 0.25em;\n",
       "  color: var(--sklearn-color-text);\n",
       "  /* unfitted */\n",
       "  background-color: var(--sklearn-color-unfitted-level-0);\n",
       "}\n",
       "\n",
       "#sk-container-id-1 div.sk-toggleable__content.fitted pre {\n",
       "  /* unfitted */\n",
       "  background-color: var(--sklearn-color-fitted-level-0);\n",
       "}\n",
       "\n",
       "#sk-container-id-1 input.sk-toggleable__control:checked~div.sk-toggleable__content {\n",
       "  /* Expand drop-down */\n",
       "  max-height: 200px;\n",
       "  max-width: 100%;\n",
       "  overflow: auto;\n",
       "}\n",
       "\n",
       "#sk-container-id-1 input.sk-toggleable__control:checked~label.sk-toggleable__label-arrow:before {\n",
       "  content: \"▾\";\n",
       "}\n",
       "\n",
       "/* Pipeline/ColumnTransformer-specific style */\n",
       "\n",
       "#sk-container-id-1 div.sk-label input.sk-toggleable__control:checked~label.sk-toggleable__label {\n",
       "  color: var(--sklearn-color-text);\n",
       "  background-color: var(--sklearn-color-unfitted-level-2);\n",
       "}\n",
       "\n",
       "#sk-container-id-1 div.sk-label.fitted input.sk-toggleable__control:checked~label.sk-toggleable__label {\n",
       "  background-color: var(--sklearn-color-fitted-level-2);\n",
       "}\n",
       "\n",
       "/* Estimator-specific style */\n",
       "\n",
       "/* Colorize estimator box */\n",
       "#sk-container-id-1 div.sk-estimator input.sk-toggleable__control:checked~label.sk-toggleable__label {\n",
       "  /* unfitted */\n",
       "  background-color: var(--sklearn-color-unfitted-level-2);\n",
       "}\n",
       "\n",
       "#sk-container-id-1 div.sk-estimator.fitted input.sk-toggleable__control:checked~label.sk-toggleable__label {\n",
       "  /* fitted */\n",
       "  background-color: var(--sklearn-color-fitted-level-2);\n",
       "}\n",
       "\n",
       "#sk-container-id-1 div.sk-label label.sk-toggleable__label,\n",
       "#sk-container-id-1 div.sk-label label {\n",
       "  /* The background is the default theme color */\n",
       "  color: var(--sklearn-color-text-on-default-background);\n",
       "}\n",
       "\n",
       "/* On hover, darken the color of the background */\n",
       "#sk-container-id-1 div.sk-label:hover label.sk-toggleable__label {\n",
       "  color: var(--sklearn-color-text);\n",
       "  background-color: var(--sklearn-color-unfitted-level-2);\n",
       "}\n",
       "\n",
       "/* Label box, darken color on hover, fitted */\n",
       "#sk-container-id-1 div.sk-label.fitted:hover label.sk-toggleable__label.fitted {\n",
       "  color: var(--sklearn-color-text);\n",
       "  background-color: var(--sklearn-color-fitted-level-2);\n",
       "}\n",
       "\n",
       "/* Estimator label */\n",
       "\n",
       "#sk-container-id-1 div.sk-label label {\n",
       "  font-family: monospace;\n",
       "  font-weight: bold;\n",
       "  display: inline-block;\n",
       "  line-height: 1.2em;\n",
       "}\n",
       "\n",
       "#sk-container-id-1 div.sk-label-container {\n",
       "  text-align: center;\n",
       "}\n",
       "\n",
       "/* Estimator-specific */\n",
       "#sk-container-id-1 div.sk-estimator {\n",
       "  font-family: monospace;\n",
       "  border: 1px dotted var(--sklearn-color-border-box);\n",
       "  border-radius: 0.25em;\n",
       "  box-sizing: border-box;\n",
       "  margin-bottom: 0.5em;\n",
       "  /* unfitted */\n",
       "  background-color: var(--sklearn-color-unfitted-level-0);\n",
       "}\n",
       "\n",
       "#sk-container-id-1 div.sk-estimator.fitted {\n",
       "  /* fitted */\n",
       "  background-color: var(--sklearn-color-fitted-level-0);\n",
       "}\n",
       "\n",
       "/* on hover */\n",
       "#sk-container-id-1 div.sk-estimator:hover {\n",
       "  /* unfitted */\n",
       "  background-color: var(--sklearn-color-unfitted-level-2);\n",
       "}\n",
       "\n",
       "#sk-container-id-1 div.sk-estimator.fitted:hover {\n",
       "  /* fitted */\n",
       "  background-color: var(--sklearn-color-fitted-level-2);\n",
       "}\n",
       "\n",
       "/* Specification for estimator info (e.g. \"i\" and \"?\") */\n",
       "\n",
       "/* Common style for \"i\" and \"?\" */\n",
       "\n",
       ".sk-estimator-doc-link,\n",
       "a:link.sk-estimator-doc-link,\n",
       "a:visited.sk-estimator-doc-link {\n",
       "  float: right;\n",
       "  font-size: smaller;\n",
       "  line-height: 1em;\n",
       "  font-family: monospace;\n",
       "  background-color: var(--sklearn-color-background);\n",
       "  border-radius: 1em;\n",
       "  height: 1em;\n",
       "  width: 1em;\n",
       "  text-decoration: none !important;\n",
       "  margin-left: 1ex;\n",
       "  /* unfitted */\n",
       "  border: var(--sklearn-color-unfitted-level-1) 1pt solid;\n",
       "  color: var(--sklearn-color-unfitted-level-1);\n",
       "}\n",
       "\n",
       ".sk-estimator-doc-link.fitted,\n",
       "a:link.sk-estimator-doc-link.fitted,\n",
       "a:visited.sk-estimator-doc-link.fitted {\n",
       "  /* fitted */\n",
       "  border: var(--sklearn-color-fitted-level-1) 1pt solid;\n",
       "  color: var(--sklearn-color-fitted-level-1);\n",
       "}\n",
       "\n",
       "/* On hover */\n",
       "div.sk-estimator:hover .sk-estimator-doc-link:hover,\n",
       ".sk-estimator-doc-link:hover,\n",
       "div.sk-label-container:hover .sk-estimator-doc-link:hover,\n",
       ".sk-estimator-doc-link:hover {\n",
       "  /* unfitted */\n",
       "  background-color: var(--sklearn-color-unfitted-level-3);\n",
       "  color: var(--sklearn-color-background);\n",
       "  text-decoration: none;\n",
       "}\n",
       "\n",
       "div.sk-estimator.fitted:hover .sk-estimator-doc-link.fitted:hover,\n",
       ".sk-estimator-doc-link.fitted:hover,\n",
       "div.sk-label-container:hover .sk-estimator-doc-link.fitted:hover,\n",
       ".sk-estimator-doc-link.fitted:hover {\n",
       "  /* fitted */\n",
       "  background-color: var(--sklearn-color-fitted-level-3);\n",
       "  color: var(--sklearn-color-background);\n",
       "  text-decoration: none;\n",
       "}\n",
       "\n",
       "/* Span, style for the box shown on hovering the info icon */\n",
       ".sk-estimator-doc-link span {\n",
       "  display: none;\n",
       "  z-index: 9999;\n",
       "  position: relative;\n",
       "  font-weight: normal;\n",
       "  right: .2ex;\n",
       "  padding: .5ex;\n",
       "  margin: .5ex;\n",
       "  width: min-content;\n",
       "  min-width: 20ex;\n",
       "  max-width: 50ex;\n",
       "  color: var(--sklearn-color-text);\n",
       "  box-shadow: 2pt 2pt 4pt #999;\n",
       "  /* unfitted */\n",
       "  background: var(--sklearn-color-unfitted-level-0);\n",
       "  border: .5pt solid var(--sklearn-color-unfitted-level-3);\n",
       "}\n",
       "\n",
       ".sk-estimator-doc-link.fitted span {\n",
       "  /* fitted */\n",
       "  background: var(--sklearn-color-fitted-level-0);\n",
       "  border: var(--sklearn-color-fitted-level-3);\n",
       "}\n",
       "\n",
       ".sk-estimator-doc-link:hover span {\n",
       "  display: block;\n",
       "}\n",
       "\n",
       "/* \"?\"-specific style due to the `<a>` HTML tag */\n",
       "\n",
       "#sk-container-id-1 a.estimator_doc_link {\n",
       "  float: right;\n",
       "  font-size: 1rem;\n",
       "  line-height: 1em;\n",
       "  font-family: monospace;\n",
       "  background-color: var(--sklearn-color-background);\n",
       "  border-radius: 1rem;\n",
       "  height: 1rem;\n",
       "  width: 1rem;\n",
       "  text-decoration: none;\n",
       "  /* unfitted */\n",
       "  color: var(--sklearn-color-unfitted-level-1);\n",
       "  border: var(--sklearn-color-unfitted-level-1) 1pt solid;\n",
       "}\n",
       "\n",
       "#sk-container-id-1 a.estimator_doc_link.fitted {\n",
       "  /* fitted */\n",
       "  border: var(--sklearn-color-fitted-level-1) 1pt solid;\n",
       "  color: var(--sklearn-color-fitted-level-1);\n",
       "}\n",
       "\n",
       "/* On hover */\n",
       "#sk-container-id-1 a.estimator_doc_link:hover {\n",
       "  /* unfitted */\n",
       "  background-color: var(--sklearn-color-unfitted-level-3);\n",
       "  color: var(--sklearn-color-background);\n",
       "  text-decoration: none;\n",
       "}\n",
       "\n",
       "#sk-container-id-1 a.estimator_doc_link.fitted:hover {\n",
       "  /* fitted */\n",
       "  background-color: var(--sklearn-color-fitted-level-3);\n",
       "}\n",
       "</style><div id=\"sk-container-id-1\" class=\"sk-top-container\"><div class=\"sk-text-repr-fallback\"><pre>Lasso(alpha=0.001, max_iter=100000, random_state=15)</pre><b>In a Jupyter environment, please rerun this cell to show the HTML representation or trust the notebook. <br />On GitHub, the HTML representation is unable to render, please try loading this page with nbviewer.org.</b></div><div class=\"sk-container\" hidden><div class=\"sk-item\"><div class=\"sk-estimator fitted sk-toggleable\"><input class=\"sk-toggleable__control sk-hidden--visually\" id=\"sk-estimator-id-1\" type=\"checkbox\" checked><label for=\"sk-estimator-id-1\" class=\"sk-toggleable__label fitted sk-toggleable__label-arrow fitted\">&nbsp;&nbsp;Lasso<a class=\"sk-estimator-doc-link fitted\" rel=\"noreferrer\" target=\"_blank\" href=\"https://scikit-learn.org/1.4/modules/generated/sklearn.linear_model.Lasso.html\">?<span>Documentation for Lasso</span></a><span class=\"sk-estimator-doc-link fitted\">i<span>Fitted</span></span></label><div class=\"sk-toggleable__content fitted\"><pre>Lasso(alpha=0.001, max_iter=100000, random_state=15)</pre></div> </div></div></div></div>"
      ],
      "text/plain": [
       "Lasso(alpha=0.001, max_iter=100000, random_state=15)"
      ]
     },
     "execution_count": 22,
     "metadata": {},
     "output_type": "execute_result"
    }
   ],
   "source": [
    "# random_state=15\n",
    "n=15\n",
    "X_train, X_test, Y_train, Y_test = train_test_split(X, Y1, test_size = 0.25,random_state=n)\n",
    "model = Lasso(alpha=0.001,max_iter=100000,random_state=n)\n",
    "model.fit(X_train, Y_train)"
   ]
  },
  {
   "cell_type": "code",
   "execution_count": 23,
   "id": "UNX0aL0VElch",
   "metadata": {
    "colab": {
     "base_uri": "https://localhost:8080/"
    },
    "id": "UNX0aL0VElch",
    "outputId": "686344c4-4f31-4979-b39d-72ec2e782f78"
   },
   "outputs": [
    {
     "name": "stdout",
     "output_type": "stream",
     "text": [
      "The model performance for training set\n",
      "--------------------------------------\n",
      "RMSE is 7.555176164263497\n",
      "R$^2$ score is 0.9939679973332921\n"
     ]
    }
   ],
   "source": [
    "##### model evaluation for training set\n",
    "y_train_predict = model.predict(X_train)\n",
    "rmse = (np.sqrt(mean_squared_error(Y_train, y_train_predict)))\n",
    "r2 = r2_score(Y_train, y_train_predict)\n",
    "print(\"The model performance for training set\")\n",
    "print(\"--------------------------------------\")\n",
    "print('RMSE is {}'.format(rmse))\n",
    "print('R$^2$ score is {}'.format(r2))"
   ]
  },
  {
   "cell_type": "markdown",
   "id": "YDAXY746EpCm",
   "metadata": {
    "id": "YDAXY746EpCm"
   },
   "source": [
    "The model performance for training set\r\n",
    "--------------------------------------\r\n",
    "RMSE is 7.555176164263497\r\n",
    "R$^2$ score is 0.9939679973332921"
   ]
  },
  {
   "cell_type": "code",
   "execution_count": 24,
   "id": "5kxrl92HEtbN",
   "metadata": {
    "colab": {
     "base_uri": "https://localhost:8080/"
    },
    "id": "5kxrl92HEtbN",
    "outputId": "62182a47-5383-4833-b29a-fdc941a07486"
   },
   "outputs": [
    {
     "name": "stdout",
     "output_type": "stream",
     "text": [
      "The model performance for testing set\n",
      "--------------------------------------\n",
      "RMSE is 8.650136553128032\n",
      "R$^2$ score is 0.9929502632126865\n"
     ]
    }
   ],
   "source": [
    "# model evaluation for testing set\n",
    "y_test_predict = model.predict(X_test)\n",
    "rmse_test = (np.sqrt(mean_squared_error(Y_test, y_test_predict)))\n",
    "r2_test = r2_score(Y_test, y_test_predict)\n",
    "print(\"The model performance for testing set\")\n",
    "print(\"--------------------------------------\")\n",
    "print('RMSE is {}'.format(rmse_test))\n",
    "print('R$^2$ score is {}'.format(r2_test))"
   ]
  },
  {
   "cell_type": "markdown",
   "id": "XvEy4YwVEy9F",
   "metadata": {
    "id": "XvEy4YwVEy9F"
   },
   "source": [
    "The model performance for testing set\r\n",
    "--------------------------------------\r\n",
    "RMSE is 8.650136553128032\r\n",
    "R$^2$ score is 0.9929502632126865"
   ]
  },
  {
   "cell_type": "code",
   "execution_count": 25,
   "id": "GY-Y8WteAFL5",
   "metadata": {
    "colab": {
     "base_uri": "https://localhost:8080/",
     "height": 938
    },
    "id": "GY-Y8WteAFL5",
    "outputId": "e4e71aa4-c6a8-469c-cb9c-7bec9997eda5"
   },
   "outputs": [
    {
     "data": {
      "image/png": "[encoded data removed]",
      "text/plain": [
       "<Figure size 2000x1600 with 1 Axes>"
      ]
     },
     "metadata": {},
     "output_type": "display_data"
    }
   ],
   "source": [
    "#### define your data plot here\n",
    "plt.figure(figsize=(5,4),dpi=400)\n",
    "#plt.title('XgBoost', fontsize=13)\n",
    "#### define your data plot here\n",
    "#plt.xlim((-0.5,2.5))\n",
    "#plt.xticks(np.linspace(0,2.5,3,endpoint=True))\n",
    "#plt.ylim((-0.5,2.5))\n",
    "#plt.yticks(np.linspace(0,2.5,3,endpoint=True))\n",
    "plt.tick_params(axis='both', which='major', labelsize=13)\n",
    "plt.scatter(Y_train, y_train_predict, label='Training',facecolors='red',alpha=0.8, edgecolors='none',s=60,marker='^')\n",
    "plt.scatter(Y_test, y_test_predict, label='Testing',facecolors='blue',alpha=0.8, edgecolors='none',s=60, marker='o')\n",
    "plt.xlabel(\"Volume Actual ($\\AA^3$)\",fontsize=13)\n",
    "plt.ylabel(\"Volume Predicted ($\\AA^3$)\", fontsize=13 )\n",
    "# Define x and y axis limits and tick marks\n",
    "plt.xlim(90, 700)\n",
    "plt.xticks(np.arange(100, 701, 150))\n",
    "plt.ylim(90, 700)\n",
    "plt.yticks(np.arange(100, 701, 150))\n",
    "#####fitting with a y=x line here (polynomial approach)\n",
    "p1 = np.polyfit(Y_train, y_train_predict,1)\n",
    "plt.plot((50,700),(50,700), 'r',linestyle='dashed',label='y=x line')\n",
    "plt.legend(loc=2, prop={'size': 13}, frameon=True)\n",
    "leg = plt.legend()\n",
    "leg.get_frame().set_edgecolor('black')\n",
    "plt.tight_layout()\n",
    "plt.text(300, 200, 'RMSE Test= 8.65 $\\AA^3$ \\n R$^2$ Test=0.99',fontsize=13)\n",
    "plt.savefig ('Volume_LASSO.pdf')\n",
    "plt.show()"
   ]
  },
  {
   "cell_type": "code",
   "execution_count": null,
   "id": "772b77a5",
   "metadata": {
    "colab": {
     "base_uri": "https://localhost:8080/",
     "height": 17
    },
    "id": "772b77a5",
    "outputId": "87a65fda-7023-430d-f90b-7d33af5c307b"
   },
   "outputs": [
    {
     "data": {
      "application/javascript": [
       "\n",
       "    async function download(id, filename, size) {\n",
       "      if (!google.colab.kernel.accessAllowed) {\n",
       "        return;\n",
       "      }\n",
       "      const div = document.createElement('div');\n",
       "      const label = document.createElement('label');\n",
       "      label.textContent = `Downloading \"${filename}\": `;\n",
       "      div.appendChild(label);\n",
       "      const progress = document.createElement('progress');\n",
       "      progress.max = size;\n",
       "      div.appendChild(progress);\n",
       "      document.body.appendChild(div);\n",
       "\n",
       "      const buffers = [];\n",
       "      let downloaded = 0;\n",
       "\n",
       "      const channel = await google.colab.kernel.comms.open(id);\n",
       "      // Send a message to notify the kernel that we're ready.\n",
       "      channel.send({})\n",
       "\n",
       "      for await (const message of channel.messages) {\n",
       "        // Send a message to notify the kernel that we're ready.\n",
       "        channel.send({})\n",
       "        if (message.buffers) {\n",
       "          for (const buffer of message.buffers) {\n",
       "            buffers.push(buffer);\n",
       "            downloaded += buffer.byteLength;\n",
       "            progress.value = downloaded;\n",
       "          }\n",
       "        }\n",
       "      }\n",
       "      const blob = new Blob(buffers, {type: 'application/binary'});\n",
       "      const a = document.createElement('a');\n",
       "      a.href = window.URL.createObjectURL(blob);\n",
       "      a.download = filename;\n",
       "      div.appendChild(a);\n",
       "      a.click();\n",
       "      div.remove();\n",
       "    }\n",
       "  "
      ],
      "text/plain": [
       "<IPython.core.display.Javascript object>"
      ]
     },
     "metadata": {},
     "output_type": "display_data"
    },
    {
     "data": {
      "application/javascript": [
       "download(\"download_d90bb472-7bc7-4d15-befb-6a454d7de451\", \"Volume_LASSO.pdf\", 20031)"
      ],
      "text/plain": [
       "<IPython.core.display.Javascript object>"
      ]
     },
     "metadata": {},
     "output_type": "display_data"
    }
   ],
   "source": [
    "# from google.colab import files\n",
    "# files.download(\"Volume_LASSO.pdf\")"
   ]
  },
  {
   "cell_type": "code",
   "execution_count": null,
   "id": "Glnw67O_GOAr",
   "metadata": {
    "id": "Glnw67O_GOAr"
   },
   "outputs": [],
   "source": []
  }
 ],
 "metadata": {
  "colab": {
   "provenance": []
  },
  "kernelspec": {
   "display_name": "Python 3 (ipykernel)",
   "language": "python",
   "name": "python3"
  },
  "language_info": {
   "codemirror_mode": {
    "name": "ipython",
    "version": 3
   },
   "file_extension": ".py",
   "mimetype": "text/x-python",
   "name": "python",
   "nbconvert_exporter": "python",
   "pygments_lexer": "ipython3",
   "version": "3.11.5"
  }
 },
 "nbformat": 4,
 "nbformat_minor": 5
}
